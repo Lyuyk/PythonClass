{
 "cells": [
  {
   "cell_type": "code",
   "execution_count": null,
   "outputs": [],
   "source": [
    "import numpy as np\n",
    "import pandas as pd"
   ],
   "metadata": {
    "collapsed": false,
    "pycharm": {
     "name": "#%%\n"
    }
   }
  },
  {
   "cell_type": "code",
   "execution_count": 2,
   "metadata": {
    "pycharm": {
     "name": "#%%\n"
    }
   },
   "outputs": [
    {
     "data": {
      "text/plain": "      animal  uniq_id  water_need\n0   elephant     1001         500\n1   elephant     1002         600\n2   elephant     1003         550\n3      tiger     1004         300\n4      tiger     1005         320\n5      tiger     1006         330\n6      tiger     1007         290\n7      tiger     1008         310\n8      zebra     1009         200\n9      zebra     1010         220\n10     zebra     1011         240\n11     zebra     1012         230\n12     zebra     1013         220\n13     zebra     1014         100\n14     zebra     1015          80\n15      lion     1016         420\n16      lion     1017         600\n17      lion     1018         500\n18      lion     1019         390\n19  kangaroo     1020         410\n20  kangaroo     1021         430\n21  kangaroo     1022         410",
      "text/html": "<div>\n<style scoped>\n    .dataframe tbody tr th:only-of-type {\n        vertical-align: middle;\n    }\n\n    .dataframe tbody tr th {\n        vertical-align: top;\n    }\n\n    .dataframe thead th {\n        text-align: right;\n    }\n</style>\n<table border=\"1\" class=\"dataframe\">\n  <thead>\n    <tr style=\"text-align: right;\">\n      <th></th>\n      <th>animal</th>\n      <th>uniq_id</th>\n      <th>water_need</th>\n    </tr>\n  </thead>\n  <tbody>\n    <tr>\n      <th>0</th>\n      <td>elephant</td>\n      <td>1001</td>\n      <td>500</td>\n    </tr>\n    <tr>\n      <th>1</th>\n      <td>elephant</td>\n      <td>1002</td>\n      <td>600</td>\n    </tr>\n    <tr>\n      <th>2</th>\n      <td>elephant</td>\n      <td>1003</td>\n      <td>550</td>\n    </tr>\n    <tr>\n      <th>3</th>\n      <td>tiger</td>\n      <td>1004</td>\n      <td>300</td>\n    </tr>\n    <tr>\n      <th>4</th>\n      <td>tiger</td>\n      <td>1005</td>\n      <td>320</td>\n    </tr>\n    <tr>\n      <th>5</th>\n      <td>tiger</td>\n      <td>1006</td>\n      <td>330</td>\n    </tr>\n    <tr>\n      <th>6</th>\n      <td>tiger</td>\n      <td>1007</td>\n      <td>290</td>\n    </tr>\n    <tr>\n      <th>7</th>\n      <td>tiger</td>\n      <td>1008</td>\n      <td>310</td>\n    </tr>\n    <tr>\n      <th>8</th>\n      <td>zebra</td>\n      <td>1009</td>\n      <td>200</td>\n    </tr>\n    <tr>\n      <th>9</th>\n      <td>zebra</td>\n      <td>1010</td>\n      <td>220</td>\n    </tr>\n    <tr>\n      <th>10</th>\n      <td>zebra</td>\n      <td>1011</td>\n      <td>240</td>\n    </tr>\n    <tr>\n      <th>11</th>\n      <td>zebra</td>\n      <td>1012</td>\n      <td>230</td>\n    </tr>\n    <tr>\n      <th>12</th>\n      <td>zebra</td>\n      <td>1013</td>\n      <td>220</td>\n    </tr>\n    <tr>\n      <th>13</th>\n      <td>zebra</td>\n      <td>1014</td>\n      <td>100</td>\n    </tr>\n    <tr>\n      <th>14</th>\n      <td>zebra</td>\n      <td>1015</td>\n      <td>80</td>\n    </tr>\n    <tr>\n      <th>15</th>\n      <td>lion</td>\n      <td>1016</td>\n      <td>420</td>\n    </tr>\n    <tr>\n      <th>16</th>\n      <td>lion</td>\n      <td>1017</td>\n      <td>600</td>\n    </tr>\n    <tr>\n      <th>17</th>\n      <td>lion</td>\n      <td>1018</td>\n      <td>500</td>\n    </tr>\n    <tr>\n      <th>18</th>\n      <td>lion</td>\n      <td>1019</td>\n      <td>390</td>\n    </tr>\n    <tr>\n      <th>19</th>\n      <td>kangaroo</td>\n      <td>1020</td>\n      <td>410</td>\n    </tr>\n    <tr>\n      <th>20</th>\n      <td>kangaroo</td>\n      <td>1021</td>\n      <td>430</td>\n    </tr>\n    <tr>\n      <th>21</th>\n      <td>kangaroo</td>\n      <td>1022</td>\n      <td>410</td>\n    </tr>\n  </tbody>\n</table>\n</div>"
     },
     "execution_count": 2,
     "metadata": {},
     "output_type": "execute_result"
    }
   ],
   "source": [
    "#load csv data into pandas\n",
    "pd.read_csv('zoo.csv',delimiter = ',')"
   ]
  },
  {
   "cell_type": "code",
   "execution_count": 3,
   "metadata": {
    "pycharm": {
     "name": "#%%\n"
    }
   },
   "outputs": [
    {
     "data": {
      "text/plain": "      2018-01-01 00:01:01  read  country_7  2458151261      SEO  North America\n0     2018-01-01 00:03:20  read  country_7  2458151262      SEO  South America\n1     2018-01-01 00:04:01  read  country_7  2458151263  AdWords         Africa\n2     2018-01-01 00:04:02  read  country_7  2458151264  AdWords         Europe\n3     2018-01-01 00:05:03  read  country_8  2458151265   Reddit  North America\n4     2018-01-01 00:05:42  read  country_6  2458151266   Reddit  North America\n...                   ...   ...        ...         ...      ...            ...\n1789  2018-01-01 23:57:14  read  country_2  2458153051  AdWords  North America\n1790  2018-01-01 23:58:33  read  country_8  2458153052      SEO           Asia\n1791  2018-01-01 23:59:36  read  country_6  2458153053   Reddit           Asia\n1792  2018-01-01 23:59:36  read  country_7  2458153054  AdWords         Europe\n1793  2018-01-01 23:59:38  read  country_5  2458153055   Reddit           Asia\n\n[1794 rows x 6 columns]",
      "text/html": "<div>\n<style scoped>\n    .dataframe tbody tr th:only-of-type {\n        vertical-align: middle;\n    }\n\n    .dataframe tbody tr th {\n        vertical-align: top;\n    }\n\n    .dataframe thead th {\n        text-align: right;\n    }\n</style>\n<table border=\"1\" class=\"dataframe\">\n  <thead>\n    <tr style=\"text-align: right;\">\n      <th></th>\n      <th>2018-01-01 00:01:01</th>\n      <th>read</th>\n      <th>country_7</th>\n      <th>2458151261</th>\n      <th>SEO</th>\n      <th>North America</th>\n    </tr>\n  </thead>\n  <tbody>\n    <tr>\n      <th>0</th>\n      <td>2018-01-01 00:03:20</td>\n      <td>read</td>\n      <td>country_7</td>\n      <td>2458151262</td>\n      <td>SEO</td>\n      <td>South America</td>\n    </tr>\n    <tr>\n      <th>1</th>\n      <td>2018-01-01 00:04:01</td>\n      <td>read</td>\n      <td>country_7</td>\n      <td>2458151263</td>\n      <td>AdWords</td>\n      <td>Africa</td>\n    </tr>\n    <tr>\n      <th>2</th>\n      <td>2018-01-01 00:04:02</td>\n      <td>read</td>\n      <td>country_7</td>\n      <td>2458151264</td>\n      <td>AdWords</td>\n      <td>Europe</td>\n    </tr>\n    <tr>\n      <th>3</th>\n      <td>2018-01-01 00:05:03</td>\n      <td>read</td>\n      <td>country_8</td>\n      <td>2458151265</td>\n      <td>Reddit</td>\n      <td>North America</td>\n    </tr>\n    <tr>\n      <th>4</th>\n      <td>2018-01-01 00:05:42</td>\n      <td>read</td>\n      <td>country_6</td>\n      <td>2458151266</td>\n      <td>Reddit</td>\n      <td>North America</td>\n    </tr>\n    <tr>\n      <th>...</th>\n      <td>...</td>\n      <td>...</td>\n      <td>...</td>\n      <td>...</td>\n      <td>...</td>\n      <td>...</td>\n    </tr>\n    <tr>\n      <th>1789</th>\n      <td>2018-01-01 23:57:14</td>\n      <td>read</td>\n      <td>country_2</td>\n      <td>2458153051</td>\n      <td>AdWords</td>\n      <td>North America</td>\n    </tr>\n    <tr>\n      <th>1790</th>\n      <td>2018-01-01 23:58:33</td>\n      <td>read</td>\n      <td>country_8</td>\n      <td>2458153052</td>\n      <td>SEO</td>\n      <td>Asia</td>\n    </tr>\n    <tr>\n      <th>1791</th>\n      <td>2018-01-01 23:59:36</td>\n      <td>read</td>\n      <td>country_6</td>\n      <td>2458153053</td>\n      <td>Reddit</td>\n      <td>Asia</td>\n    </tr>\n    <tr>\n      <th>1792</th>\n      <td>2018-01-01 23:59:36</td>\n      <td>read</td>\n      <td>country_7</td>\n      <td>2458153054</td>\n      <td>AdWords</td>\n      <td>Europe</td>\n    </tr>\n    <tr>\n      <th>1793</th>\n      <td>2018-01-01 23:59:38</td>\n      <td>read</td>\n      <td>country_5</td>\n      <td>2458153055</td>\n      <td>Reddit</td>\n      <td>Asia</td>\n    </tr>\n  </tbody>\n</table>\n<p>1794 rows × 6 columns</p>\n</div>"
     },
     "execution_count": 3,
     "metadata": {},
     "output_type": "execute_result"
    }
   ],
   "source": [
    "pd.read_csv('pandas_tutorial_read.csv',delimiter =';')  #没有列名"
   ]
  },
  {
   "cell_type": "code",
   "execution_count": 4,
   "metadata": {
    "pycharm": {
     "name": "#%%\n"
    }
   },
   "outputs": [
    {
     "data": {
      "text/plain": "              my_datetime event    country     user_id   source          topic\n0     2018-01-01 00:01:01  read  country_7  2458151261      SEO  North America\n1     2018-01-01 00:03:20  read  country_7  2458151262      SEO  South America\n2     2018-01-01 00:04:01  read  country_7  2458151263  AdWords         Africa\n3     2018-01-01 00:04:02  read  country_7  2458151264  AdWords         Europe\n4     2018-01-01 00:05:03  read  country_8  2458151265   Reddit  North America\n...                   ...   ...        ...         ...      ...            ...\n1790  2018-01-01 23:57:14  read  country_2  2458153051  AdWords  North America\n1791  2018-01-01 23:58:33  read  country_8  2458153052      SEO           Asia\n1792  2018-01-01 23:59:36  read  country_6  2458153053   Reddit           Asia\n1793  2018-01-01 23:59:36  read  country_7  2458153054  AdWords         Europe\n1794  2018-01-01 23:59:38  read  country_5  2458153055   Reddit           Asia\n\n[1795 rows x 6 columns]",
      "text/html": "<div>\n<style scoped>\n    .dataframe tbody tr th:only-of-type {\n        vertical-align: middle;\n    }\n\n    .dataframe tbody tr th {\n        vertical-align: top;\n    }\n\n    .dataframe thead th {\n        text-align: right;\n    }\n</style>\n<table border=\"1\" class=\"dataframe\">\n  <thead>\n    <tr style=\"text-align: right;\">\n      <th></th>\n      <th>my_datetime</th>\n      <th>event</th>\n      <th>country</th>\n      <th>user_id</th>\n      <th>source</th>\n      <th>topic</th>\n    </tr>\n  </thead>\n  <tbody>\n    <tr>\n      <th>0</th>\n      <td>2018-01-01 00:01:01</td>\n      <td>read</td>\n      <td>country_7</td>\n      <td>2458151261</td>\n      <td>SEO</td>\n      <td>North America</td>\n    </tr>\n    <tr>\n      <th>1</th>\n      <td>2018-01-01 00:03:20</td>\n      <td>read</td>\n      <td>country_7</td>\n      <td>2458151262</td>\n      <td>SEO</td>\n      <td>South America</td>\n    </tr>\n    <tr>\n      <th>2</th>\n      <td>2018-01-01 00:04:01</td>\n      <td>read</td>\n      <td>country_7</td>\n      <td>2458151263</td>\n      <td>AdWords</td>\n      <td>Africa</td>\n    </tr>\n    <tr>\n      <th>3</th>\n      <td>2018-01-01 00:04:02</td>\n      <td>read</td>\n      <td>country_7</td>\n      <td>2458151264</td>\n      <td>AdWords</td>\n      <td>Europe</td>\n    </tr>\n    <tr>\n      <th>4</th>\n      <td>2018-01-01 00:05:03</td>\n      <td>read</td>\n      <td>country_8</td>\n      <td>2458151265</td>\n      <td>Reddit</td>\n      <td>North America</td>\n    </tr>\n    <tr>\n      <th>...</th>\n      <td>...</td>\n      <td>...</td>\n      <td>...</td>\n      <td>...</td>\n      <td>...</td>\n      <td>...</td>\n    </tr>\n    <tr>\n      <th>1790</th>\n      <td>2018-01-01 23:57:14</td>\n      <td>read</td>\n      <td>country_2</td>\n      <td>2458153051</td>\n      <td>AdWords</td>\n      <td>North America</td>\n    </tr>\n    <tr>\n      <th>1791</th>\n      <td>2018-01-01 23:58:33</td>\n      <td>read</td>\n      <td>country_8</td>\n      <td>2458153052</td>\n      <td>SEO</td>\n      <td>Asia</td>\n    </tr>\n    <tr>\n      <th>1792</th>\n      <td>2018-01-01 23:59:36</td>\n      <td>read</td>\n      <td>country_6</td>\n      <td>2458153053</td>\n      <td>Reddit</td>\n      <td>Asia</td>\n    </tr>\n    <tr>\n      <th>1793</th>\n      <td>2018-01-01 23:59:36</td>\n      <td>read</td>\n      <td>country_7</td>\n      <td>2458153054</td>\n      <td>AdWords</td>\n      <td>Europe</td>\n    </tr>\n    <tr>\n      <th>1794</th>\n      <td>2018-01-01 23:59:38</td>\n      <td>read</td>\n      <td>country_5</td>\n      <td>2458153055</td>\n      <td>Reddit</td>\n      <td>Asia</td>\n    </tr>\n  </tbody>\n</table>\n<p>1795 rows × 6 columns</p>\n</div>"
     },
     "execution_count": 4,
     "metadata": {},
     "output_type": "execute_result"
    }
   ],
   "source": [
    "pd.read_csv('pandas_tutorial_read.csv',delimiter =';', names = ['my_datetime', 'event', 'country', 'user_id', 'source', 'topic']) "
   ]
  },
  {
   "cell_type": "code",
   "execution_count": 5,
   "metadata": {
    "pycharm": {
     "name": "#%%\n"
    }
   },
   "outputs": [
    {
     "data": {
      "text/plain": "              my_datetime event    country     user_id   source          topic\n0     2018-01-01 00:01:01  read  country_7  2458151261      SEO  North America\n1     2018-01-01 00:03:20  read  country_7  2458151262      SEO  South America\n2     2018-01-01 00:04:01  read  country_7  2458151263  AdWords         Africa\n3     2018-01-01 00:04:02  read  country_7  2458151264  AdWords         Europe\n4     2018-01-01 00:05:03  read  country_8  2458151265   Reddit  North America\n...                   ...   ...        ...         ...      ...            ...\n1790  2018-01-01 23:57:14  read  country_2  2458153051  AdWords  North America\n1791  2018-01-01 23:58:33  read  country_8  2458153052      SEO           Asia\n1792  2018-01-01 23:59:36  read  country_6  2458153053   Reddit           Asia\n1793  2018-01-01 23:59:36  read  country_7  2458153054  AdWords         Europe\n1794  2018-01-01 23:59:38  read  country_5  2458153055   Reddit           Asia\n\n[1795 rows x 6 columns]",
      "text/html": "<div>\n<style scoped>\n    .dataframe tbody tr th:only-of-type {\n        vertical-align: middle;\n    }\n\n    .dataframe tbody tr th {\n        vertical-align: top;\n    }\n\n    .dataframe thead th {\n        text-align: right;\n    }\n</style>\n<table border=\"1\" class=\"dataframe\">\n  <thead>\n    <tr style=\"text-align: right;\">\n      <th></th>\n      <th>my_datetime</th>\n      <th>event</th>\n      <th>country</th>\n      <th>user_id</th>\n      <th>source</th>\n      <th>topic</th>\n    </tr>\n  </thead>\n  <tbody>\n    <tr>\n      <th>0</th>\n      <td>2018-01-01 00:01:01</td>\n      <td>read</td>\n      <td>country_7</td>\n      <td>2458151261</td>\n      <td>SEO</td>\n      <td>North America</td>\n    </tr>\n    <tr>\n      <th>1</th>\n      <td>2018-01-01 00:03:20</td>\n      <td>read</td>\n      <td>country_7</td>\n      <td>2458151262</td>\n      <td>SEO</td>\n      <td>South America</td>\n    </tr>\n    <tr>\n      <th>2</th>\n      <td>2018-01-01 00:04:01</td>\n      <td>read</td>\n      <td>country_7</td>\n      <td>2458151263</td>\n      <td>AdWords</td>\n      <td>Africa</td>\n    </tr>\n    <tr>\n      <th>3</th>\n      <td>2018-01-01 00:04:02</td>\n      <td>read</td>\n      <td>country_7</td>\n      <td>2458151264</td>\n      <td>AdWords</td>\n      <td>Europe</td>\n    </tr>\n    <tr>\n      <th>4</th>\n      <td>2018-01-01 00:05:03</td>\n      <td>read</td>\n      <td>country_8</td>\n      <td>2458151265</td>\n      <td>Reddit</td>\n      <td>North America</td>\n    </tr>\n    <tr>\n      <th>...</th>\n      <td>...</td>\n      <td>...</td>\n      <td>...</td>\n      <td>...</td>\n      <td>...</td>\n      <td>...</td>\n    </tr>\n    <tr>\n      <th>1790</th>\n      <td>2018-01-01 23:57:14</td>\n      <td>read</td>\n      <td>country_2</td>\n      <td>2458153051</td>\n      <td>AdWords</td>\n      <td>North America</td>\n    </tr>\n    <tr>\n      <th>1791</th>\n      <td>2018-01-01 23:58:33</td>\n      <td>read</td>\n      <td>country_8</td>\n      <td>2458153052</td>\n      <td>SEO</td>\n      <td>Asia</td>\n    </tr>\n    <tr>\n      <th>1792</th>\n      <td>2018-01-01 23:59:36</td>\n      <td>read</td>\n      <td>country_6</td>\n      <td>2458153053</td>\n      <td>Reddit</td>\n      <td>Asia</td>\n    </tr>\n    <tr>\n      <th>1793</th>\n      <td>2018-01-01 23:59:36</td>\n      <td>read</td>\n      <td>country_7</td>\n      <td>2458153054</td>\n      <td>AdWords</td>\n      <td>Europe</td>\n    </tr>\n    <tr>\n      <th>1794</th>\n      <td>2018-01-01 23:59:38</td>\n      <td>read</td>\n      <td>country_5</td>\n      <td>2458153055</td>\n      <td>Reddit</td>\n      <td>Asia</td>\n    </tr>\n  </tbody>\n</table>\n<p>1795 rows × 6 columns</p>\n</div>"
     },
     "execution_count": 5,
     "metadata": {},
     "output_type": "execute_result"
    }
   ],
   "source": [
    "columnNames = ['my_datetime', 'event', 'country', 'user_id', 'source', 'topic']\n",
    "pd.read_csv('pandas_tutorial_read.csv',delimiter =';', names=columnNames)"
   ]
  },
  {
   "cell_type": "code",
   "execution_count": 6,
   "metadata": {
    "pycharm": {
     "name": "#%%\n"
    }
   },
   "outputs": [],
   "source": [
    "article_read = pd.read_csv('pandas_tutorial_read.csv',delimiter =';', names = ['my_datetime', 'event', 'country', 'user_id', 'source', 'topic']) "
   ]
  },
  {
   "cell_type": "code",
   "execution_count": 7,
   "metadata": {
    "pycharm": {
     "name": "#%%\n"
    }
   },
   "outputs": [
    {
     "data": {
      "text/plain": "              my_datetime event    country     user_id   source          topic\n0     2018-01-01 00:01:01  read  country_7  2458151261      SEO  North America\n1     2018-01-01 00:03:20  read  country_7  2458151262      SEO  South America\n2     2018-01-01 00:04:01  read  country_7  2458151263  AdWords         Africa\n3     2018-01-01 00:04:02  read  country_7  2458151264  AdWords         Europe\n4     2018-01-01 00:05:03  read  country_8  2458151265   Reddit  North America\n...                   ...   ...        ...         ...      ...            ...\n1790  2018-01-01 23:57:14  read  country_2  2458153051  AdWords  North America\n1791  2018-01-01 23:58:33  read  country_8  2458153052      SEO           Asia\n1792  2018-01-01 23:59:36  read  country_6  2458153053   Reddit           Asia\n1793  2018-01-01 23:59:36  read  country_7  2458153054  AdWords         Europe\n1794  2018-01-01 23:59:38  read  country_5  2458153055   Reddit           Asia\n\n[1795 rows x 6 columns]",
      "text/html": "<div>\n<style scoped>\n    .dataframe tbody tr th:only-of-type {\n        vertical-align: middle;\n    }\n\n    .dataframe tbody tr th {\n        vertical-align: top;\n    }\n\n    .dataframe thead th {\n        text-align: right;\n    }\n</style>\n<table border=\"1\" class=\"dataframe\">\n  <thead>\n    <tr style=\"text-align: right;\">\n      <th></th>\n      <th>my_datetime</th>\n      <th>event</th>\n      <th>country</th>\n      <th>user_id</th>\n      <th>source</th>\n      <th>topic</th>\n    </tr>\n  </thead>\n  <tbody>\n    <tr>\n      <th>0</th>\n      <td>2018-01-01 00:01:01</td>\n      <td>read</td>\n      <td>country_7</td>\n      <td>2458151261</td>\n      <td>SEO</td>\n      <td>North America</td>\n    </tr>\n    <tr>\n      <th>1</th>\n      <td>2018-01-01 00:03:20</td>\n      <td>read</td>\n      <td>country_7</td>\n      <td>2458151262</td>\n      <td>SEO</td>\n      <td>South America</td>\n    </tr>\n    <tr>\n      <th>2</th>\n      <td>2018-01-01 00:04:01</td>\n      <td>read</td>\n      <td>country_7</td>\n      <td>2458151263</td>\n      <td>AdWords</td>\n      <td>Africa</td>\n    </tr>\n    <tr>\n      <th>3</th>\n      <td>2018-01-01 00:04:02</td>\n      <td>read</td>\n      <td>country_7</td>\n      <td>2458151264</td>\n      <td>AdWords</td>\n      <td>Europe</td>\n    </tr>\n    <tr>\n      <th>4</th>\n      <td>2018-01-01 00:05:03</td>\n      <td>read</td>\n      <td>country_8</td>\n      <td>2458151265</td>\n      <td>Reddit</td>\n      <td>North America</td>\n    </tr>\n    <tr>\n      <th>...</th>\n      <td>...</td>\n      <td>...</td>\n      <td>...</td>\n      <td>...</td>\n      <td>...</td>\n      <td>...</td>\n    </tr>\n    <tr>\n      <th>1790</th>\n      <td>2018-01-01 23:57:14</td>\n      <td>read</td>\n      <td>country_2</td>\n      <td>2458153051</td>\n      <td>AdWords</td>\n      <td>North America</td>\n    </tr>\n    <tr>\n      <th>1791</th>\n      <td>2018-01-01 23:58:33</td>\n      <td>read</td>\n      <td>country_8</td>\n      <td>2458153052</td>\n      <td>SEO</td>\n      <td>Asia</td>\n    </tr>\n    <tr>\n      <th>1792</th>\n      <td>2018-01-01 23:59:36</td>\n      <td>read</td>\n      <td>country_6</td>\n      <td>2458153053</td>\n      <td>Reddit</td>\n      <td>Asia</td>\n    </tr>\n    <tr>\n      <th>1793</th>\n      <td>2018-01-01 23:59:36</td>\n      <td>read</td>\n      <td>country_7</td>\n      <td>2458153054</td>\n      <td>AdWords</td>\n      <td>Europe</td>\n    </tr>\n    <tr>\n      <th>1794</th>\n      <td>2018-01-01 23:59:38</td>\n      <td>read</td>\n      <td>country_5</td>\n      <td>2458153055</td>\n      <td>Reddit</td>\n      <td>Asia</td>\n    </tr>\n  </tbody>\n</table>\n<p>1795 rows × 6 columns</p>\n</div>"
     },
     "execution_count": 7,
     "metadata": {},
     "output_type": "execute_result"
    }
   ],
   "source": [
    "article_read"
   ]
  },
  {
   "cell_type": "code",
   "execution_count": 8,
   "metadata": {
    "pycharm": {
     "name": "#%%\n"
    }
   },
   "outputs": [
    {
     "data": {
      "text/plain": "           my_datetime event    country     user_id   source          topic\n0  2018-01-01 00:01:01  read  country_7  2458151261      SEO  North America\n1  2018-01-01 00:03:20  read  country_7  2458151262      SEO  South America\n2  2018-01-01 00:04:01  read  country_7  2458151263  AdWords         Africa\n3  2018-01-01 00:04:02  read  country_7  2458151264  AdWords         Europe\n4  2018-01-01 00:05:03  read  country_8  2458151265   Reddit  North America",
      "text/html": "<div>\n<style scoped>\n    .dataframe tbody tr th:only-of-type {\n        vertical-align: middle;\n    }\n\n    .dataframe tbody tr th {\n        vertical-align: top;\n    }\n\n    .dataframe thead th {\n        text-align: right;\n    }\n</style>\n<table border=\"1\" class=\"dataframe\">\n  <thead>\n    <tr style=\"text-align: right;\">\n      <th></th>\n      <th>my_datetime</th>\n      <th>event</th>\n      <th>country</th>\n      <th>user_id</th>\n      <th>source</th>\n      <th>topic</th>\n    </tr>\n  </thead>\n  <tbody>\n    <tr>\n      <th>0</th>\n      <td>2018-01-01 00:01:01</td>\n      <td>read</td>\n      <td>country_7</td>\n      <td>2458151261</td>\n      <td>SEO</td>\n      <td>North America</td>\n    </tr>\n    <tr>\n      <th>1</th>\n      <td>2018-01-01 00:03:20</td>\n      <td>read</td>\n      <td>country_7</td>\n      <td>2458151262</td>\n      <td>SEO</td>\n      <td>South America</td>\n    </tr>\n    <tr>\n      <th>2</th>\n      <td>2018-01-01 00:04:01</td>\n      <td>read</td>\n      <td>country_7</td>\n      <td>2458151263</td>\n      <td>AdWords</td>\n      <td>Africa</td>\n    </tr>\n    <tr>\n      <th>3</th>\n      <td>2018-01-01 00:04:02</td>\n      <td>read</td>\n      <td>country_7</td>\n      <td>2458151264</td>\n      <td>AdWords</td>\n      <td>Europe</td>\n    </tr>\n    <tr>\n      <th>4</th>\n      <td>2018-01-01 00:05:03</td>\n      <td>read</td>\n      <td>country_8</td>\n      <td>2458151265</td>\n      <td>Reddit</td>\n      <td>North America</td>\n    </tr>\n  </tbody>\n</table>\n</div>"
     },
     "execution_count": 8,
     "metadata": {},
     "output_type": "execute_result"
    }
   ],
   "source": [
    "article_read.head()"
   ]
  },
  {
   "cell_type": "code",
   "execution_count": 9,
   "metadata": {
    "pycharm": {
     "name": "#%%\n"
    }
   },
   "outputs": [
    {
     "data": {
      "text/plain": "              my_datetime event    country     user_id   source          topic\n1790  2018-01-01 23:57:14  read  country_2  2458153051  AdWords  North America\n1791  2018-01-01 23:58:33  read  country_8  2458153052      SEO           Asia\n1792  2018-01-01 23:59:36  read  country_6  2458153053   Reddit           Asia\n1793  2018-01-01 23:59:36  read  country_7  2458153054  AdWords         Europe\n1794  2018-01-01 23:59:38  read  country_5  2458153055   Reddit           Asia",
      "text/html": "<div>\n<style scoped>\n    .dataframe tbody tr th:only-of-type {\n        vertical-align: middle;\n    }\n\n    .dataframe tbody tr th {\n        vertical-align: top;\n    }\n\n    .dataframe thead th {\n        text-align: right;\n    }\n</style>\n<table border=\"1\" class=\"dataframe\">\n  <thead>\n    <tr style=\"text-align: right;\">\n      <th></th>\n      <th>my_datetime</th>\n      <th>event</th>\n      <th>country</th>\n      <th>user_id</th>\n      <th>source</th>\n      <th>topic</th>\n    </tr>\n  </thead>\n  <tbody>\n    <tr>\n      <th>1790</th>\n      <td>2018-01-01 23:57:14</td>\n      <td>read</td>\n      <td>country_2</td>\n      <td>2458153051</td>\n      <td>AdWords</td>\n      <td>North America</td>\n    </tr>\n    <tr>\n      <th>1791</th>\n      <td>2018-01-01 23:58:33</td>\n      <td>read</td>\n      <td>country_8</td>\n      <td>2458153052</td>\n      <td>SEO</td>\n      <td>Asia</td>\n    </tr>\n    <tr>\n      <th>1792</th>\n      <td>2018-01-01 23:59:36</td>\n      <td>read</td>\n      <td>country_6</td>\n      <td>2458153053</td>\n      <td>Reddit</td>\n      <td>Asia</td>\n    </tr>\n    <tr>\n      <th>1793</th>\n      <td>2018-01-01 23:59:36</td>\n      <td>read</td>\n      <td>country_7</td>\n      <td>2458153054</td>\n      <td>AdWords</td>\n      <td>Europe</td>\n    </tr>\n    <tr>\n      <th>1794</th>\n      <td>2018-01-01 23:59:38</td>\n      <td>read</td>\n      <td>country_5</td>\n      <td>2458153055</td>\n      <td>Reddit</td>\n      <td>Asia</td>\n    </tr>\n  </tbody>\n</table>\n</div>"
     },
     "execution_count": 9,
     "metadata": {},
     "output_type": "execute_result"
    }
   ],
   "source": [
    "article_read.tail()"
   ]
  },
  {
   "cell_type": "code",
   "execution_count": 10,
   "metadata": {
    "pycharm": {
     "name": "#%%\n"
    }
   },
   "outputs": [
    {
     "data": {
      "text/plain": "              my_datetime event    country     user_id   source          topic\n14    2018-01-01 00:11:06  read  country_7  2458151275   Reddit         Africa\n1247  2018-01-01 16:53:45  read  country_2  2458152508  AdWords  North America\n831   2018-01-01 11:20:18  read  country_2  2458152092   Reddit  South America\n353   2018-01-01 04:42:10  read  country_4  2458151614      SEO  South America\n1499  2018-01-01 20:24:23  read  country_3  2458152760   Reddit           Asia",
      "text/html": "<div>\n<style scoped>\n    .dataframe tbody tr th:only-of-type {\n        vertical-align: middle;\n    }\n\n    .dataframe tbody tr th {\n        vertical-align: top;\n    }\n\n    .dataframe thead th {\n        text-align: right;\n    }\n</style>\n<table border=\"1\" class=\"dataframe\">\n  <thead>\n    <tr style=\"text-align: right;\">\n      <th></th>\n      <th>my_datetime</th>\n      <th>event</th>\n      <th>country</th>\n      <th>user_id</th>\n      <th>source</th>\n      <th>topic</th>\n    </tr>\n  </thead>\n  <tbody>\n    <tr>\n      <th>14</th>\n      <td>2018-01-01 00:11:06</td>\n      <td>read</td>\n      <td>country_7</td>\n      <td>2458151275</td>\n      <td>Reddit</td>\n      <td>Africa</td>\n    </tr>\n    <tr>\n      <th>1247</th>\n      <td>2018-01-01 16:53:45</td>\n      <td>read</td>\n      <td>country_2</td>\n      <td>2458152508</td>\n      <td>AdWords</td>\n      <td>North America</td>\n    </tr>\n    <tr>\n      <th>831</th>\n      <td>2018-01-01 11:20:18</td>\n      <td>read</td>\n      <td>country_2</td>\n      <td>2458152092</td>\n      <td>Reddit</td>\n      <td>South America</td>\n    </tr>\n    <tr>\n      <th>353</th>\n      <td>2018-01-01 04:42:10</td>\n      <td>read</td>\n      <td>country_4</td>\n      <td>2458151614</td>\n      <td>SEO</td>\n      <td>South America</td>\n    </tr>\n    <tr>\n      <th>1499</th>\n      <td>2018-01-01 20:24:23</td>\n      <td>read</td>\n      <td>country_3</td>\n      <td>2458152760</td>\n      <td>Reddit</td>\n      <td>Asia</td>\n    </tr>\n  </tbody>\n</table>\n</div>"
     },
     "execution_count": 10,
     "metadata": {},
     "output_type": "execute_result"
    }
   ],
   "source": [
    "article_read.sample(5)"
   ]
  },
  {
   "cell_type": "code",
   "execution_count": 11,
   "metadata": {
    "pycharm": {
     "name": "#%%\n"
    }
   },
   "outputs": [
    {
     "data": {
      "text/plain": "     event    country\n0     read  country_7\n1     read  country_7\n2     read  country_7\n3     read  country_7\n4     read  country_8\n...    ...        ...\n1790  read  country_2\n1791  read  country_8\n1792  read  country_6\n1793  read  country_7\n1794  read  country_5\n\n[1795 rows x 2 columns]",
      "text/html": "<div>\n<style scoped>\n    .dataframe tbody tr th:only-of-type {\n        vertical-align: middle;\n    }\n\n    .dataframe tbody tr th {\n        vertical-align: top;\n    }\n\n    .dataframe thead th {\n        text-align: right;\n    }\n</style>\n<table border=\"1\" class=\"dataframe\">\n  <thead>\n    <tr style=\"text-align: right;\">\n      <th></th>\n      <th>event</th>\n      <th>country</th>\n    </tr>\n  </thead>\n  <tbody>\n    <tr>\n      <th>0</th>\n      <td>read</td>\n      <td>country_7</td>\n    </tr>\n    <tr>\n      <th>1</th>\n      <td>read</td>\n      <td>country_7</td>\n    </tr>\n    <tr>\n      <th>2</th>\n      <td>read</td>\n      <td>country_7</td>\n    </tr>\n    <tr>\n      <th>3</th>\n      <td>read</td>\n      <td>country_7</td>\n    </tr>\n    <tr>\n      <th>4</th>\n      <td>read</td>\n      <td>country_8</td>\n    </tr>\n    <tr>\n      <th>...</th>\n      <td>...</td>\n      <td>...</td>\n    </tr>\n    <tr>\n      <th>1790</th>\n      <td>read</td>\n      <td>country_2</td>\n    </tr>\n    <tr>\n      <th>1791</th>\n      <td>read</td>\n      <td>country_8</td>\n    </tr>\n    <tr>\n      <th>1792</th>\n      <td>read</td>\n      <td>country_6</td>\n    </tr>\n    <tr>\n      <th>1793</th>\n      <td>read</td>\n      <td>country_7</td>\n    </tr>\n    <tr>\n      <th>1794</th>\n      <td>read</td>\n      <td>country_5</td>\n    </tr>\n  </tbody>\n</table>\n<p>1795 rows × 2 columns</p>\n</div>"
     },
     "execution_count": 11,
     "metadata": {},
     "output_type": "execute_result"
    }
   ],
   "source": [
    "article_read[['event','country']]  #注意中间是列表，列名必须用' '号界定起来"
   ]
  },
  {
   "cell_type": "code",
   "execution_count": 12,
   "metadata": {
    "pycharm": {
     "name": "#%%\n"
    }
   },
   "outputs": [
    {
     "data": {
      "text/plain": "        country event\n0     country_7  read\n1     country_7  read\n2     country_7  read\n3     country_7  read\n4     country_8  read\n...         ...   ...\n1790  country_2  read\n1791  country_8  read\n1792  country_6  read\n1793  country_7  read\n1794  country_5  read\n\n[1795 rows x 2 columns]",
      "text/html": "<div>\n<style scoped>\n    .dataframe tbody tr th:only-of-type {\n        vertical-align: middle;\n    }\n\n    .dataframe tbody tr th {\n        vertical-align: top;\n    }\n\n    .dataframe thead th {\n        text-align: right;\n    }\n</style>\n<table border=\"1\" class=\"dataframe\">\n  <thead>\n    <tr style=\"text-align: right;\">\n      <th></th>\n      <th>country</th>\n      <th>event</th>\n    </tr>\n  </thead>\n  <tbody>\n    <tr>\n      <th>0</th>\n      <td>country_7</td>\n      <td>read</td>\n    </tr>\n    <tr>\n      <th>1</th>\n      <td>country_7</td>\n      <td>read</td>\n    </tr>\n    <tr>\n      <th>2</th>\n      <td>country_7</td>\n      <td>read</td>\n    </tr>\n    <tr>\n      <th>3</th>\n      <td>country_7</td>\n      <td>read</td>\n    </tr>\n    <tr>\n      <th>4</th>\n      <td>country_8</td>\n      <td>read</td>\n    </tr>\n    <tr>\n      <th>...</th>\n      <td>...</td>\n      <td>...</td>\n    </tr>\n    <tr>\n      <th>1790</th>\n      <td>country_2</td>\n      <td>read</td>\n    </tr>\n    <tr>\n      <th>1791</th>\n      <td>country_8</td>\n      <td>read</td>\n    </tr>\n    <tr>\n      <th>1792</th>\n      <td>country_6</td>\n      <td>read</td>\n    </tr>\n    <tr>\n      <th>1793</th>\n      <td>country_7</td>\n      <td>read</td>\n    </tr>\n    <tr>\n      <th>1794</th>\n      <td>country_5</td>\n      <td>read</td>\n    </tr>\n  </tbody>\n</table>\n<p>1795 rows × 2 columns</p>\n</div>"
     },
     "execution_count": 12,
     "metadata": {},
     "output_type": "execute_result"
    }
   ],
   "source": [
    "article_read[['country','event']]  #通过列表元素顺序，改变dataframe读出的数据顺序"
   ]
  },
  {
   "cell_type": "code",
   "execution_count": 13,
   "metadata": {
    "pycharm": {
     "name": "#%%\n"
    }
   },
   "outputs": [
    {
     "data": {
      "text/plain": "0       country_7\n1       country_7\n2       country_7\n3       country_7\n4       country_8\n          ...    \n1790    country_2\n1791    country_8\n1792    country_6\n1793    country_7\n1794    country_5\nName: country, Length: 1795, dtype: object"
     },
     "execution_count": 13,
     "metadata": {},
     "output_type": "execute_result"
    }
   ],
   "source": [
    "article_read.country"
   ]
  },
  {
   "cell_type": "code",
   "execution_count": 14,
   "metadata": {
    "pycharm": {
     "name": "#%%\n"
    }
   },
   "outputs": [
    {
     "data": {
      "text/plain": "              my_datetime event    country     user_id source          topic\n0     2018-01-01 00:01:01  read  country_7  2458151261    SEO  North America\n1     2018-01-01 00:03:20  read  country_7  2458151262    SEO  South America\n11    2018-01-01 00:08:57  read  country_7  2458151272    SEO      Australia\n15    2018-01-01 00:11:22  read  country_7  2458151276    SEO  North America\n16    2018-01-01 00:13:05  read  country_8  2458151277    SEO  North America\n...                   ...   ...        ...         ...    ...            ...\n1772  2018-01-01 23:45:58  read  country_7  2458153033    SEO  South America\n1777  2018-01-01 23:49:52  read  country_5  2458153038    SEO  North America\n1779  2018-01-01 23:51:25  read  country_4  2458153040    SEO  South America\n1784  2018-01-01 23:54:03  read  country_2  2458153045    SEO  North America\n1791  2018-01-01 23:58:33  read  country_8  2458153052    SEO           Asia\n\n[346 rows x 6 columns]",
      "text/html": "<div>\n<style scoped>\n    .dataframe tbody tr th:only-of-type {\n        vertical-align: middle;\n    }\n\n    .dataframe tbody tr th {\n        vertical-align: top;\n    }\n\n    .dataframe thead th {\n        text-align: right;\n    }\n</style>\n<table border=\"1\" class=\"dataframe\">\n  <thead>\n    <tr style=\"text-align: right;\">\n      <th></th>\n      <th>my_datetime</th>\n      <th>event</th>\n      <th>country</th>\n      <th>user_id</th>\n      <th>source</th>\n      <th>topic</th>\n    </tr>\n  </thead>\n  <tbody>\n    <tr>\n      <th>0</th>\n      <td>2018-01-01 00:01:01</td>\n      <td>read</td>\n      <td>country_7</td>\n      <td>2458151261</td>\n      <td>SEO</td>\n      <td>North America</td>\n    </tr>\n    <tr>\n      <th>1</th>\n      <td>2018-01-01 00:03:20</td>\n      <td>read</td>\n      <td>country_7</td>\n      <td>2458151262</td>\n      <td>SEO</td>\n      <td>South America</td>\n    </tr>\n    <tr>\n      <th>11</th>\n      <td>2018-01-01 00:08:57</td>\n      <td>read</td>\n      <td>country_7</td>\n      <td>2458151272</td>\n      <td>SEO</td>\n      <td>Australia</td>\n    </tr>\n    <tr>\n      <th>15</th>\n      <td>2018-01-01 00:11:22</td>\n      <td>read</td>\n      <td>country_7</td>\n      <td>2458151276</td>\n      <td>SEO</td>\n      <td>North America</td>\n    </tr>\n    <tr>\n      <th>16</th>\n      <td>2018-01-01 00:13:05</td>\n      <td>read</td>\n      <td>country_8</td>\n      <td>2458151277</td>\n      <td>SEO</td>\n      <td>North America</td>\n    </tr>\n    <tr>\n      <th>...</th>\n      <td>...</td>\n      <td>...</td>\n      <td>...</td>\n      <td>...</td>\n      <td>...</td>\n      <td>...</td>\n    </tr>\n    <tr>\n      <th>1772</th>\n      <td>2018-01-01 23:45:58</td>\n      <td>read</td>\n      <td>country_7</td>\n      <td>2458153033</td>\n      <td>SEO</td>\n      <td>South America</td>\n    </tr>\n    <tr>\n      <th>1777</th>\n      <td>2018-01-01 23:49:52</td>\n      <td>read</td>\n      <td>country_5</td>\n      <td>2458153038</td>\n      <td>SEO</td>\n      <td>North America</td>\n    </tr>\n    <tr>\n      <th>1779</th>\n      <td>2018-01-01 23:51:25</td>\n      <td>read</td>\n      <td>country_4</td>\n      <td>2458153040</td>\n      <td>SEO</td>\n      <td>South America</td>\n    </tr>\n    <tr>\n      <th>1784</th>\n      <td>2018-01-01 23:54:03</td>\n      <td>read</td>\n      <td>country_2</td>\n      <td>2458153045</td>\n      <td>SEO</td>\n      <td>North America</td>\n    </tr>\n    <tr>\n      <th>1791</th>\n      <td>2018-01-01 23:58:33</td>\n      <td>read</td>\n      <td>country_8</td>\n      <td>2458153052</td>\n      <td>SEO</td>\n      <td>Asia</td>\n    </tr>\n  </tbody>\n</table>\n<p>346 rows × 6 columns</p>\n</div>"
     },
     "execution_count": 14,
     "metadata": {},
     "output_type": "execute_result"
    }
   ],
   "source": [
    "article_read[article_read.source == 'SEO']"
   ]
  },
  {
   "cell_type": "code",
   "execution_count": 15,
   "metadata": {
    "pycharm": {
     "name": "#%%\n"
    }
   },
   "outputs": [
    {
     "data": {
      "text/plain": "[0        True\n 1        True\n 2       False\n 3       False\n 4       False\n         ...  \n 1790    False\n 1791     True\n 1792    False\n 1793    False\n 1794    False\n Name: source, Length: 1795, dtype: bool]"
     },
     "execution_count": 15,
     "metadata": {},
     "output_type": "execute_result"
    }
   ],
   "source": [
    "[article_read.source == 'SEO']"
   ]
  },
  {
   "cell_type": "code",
   "execution_count": 16,
   "metadata": {
    "pycharm": {
     "name": "#%%\n"
    }
   },
   "outputs": [
    {
     "data": {
      "text/plain": "list"
     },
     "execution_count": 16,
     "metadata": {},
     "output_type": "execute_result"
    }
   ],
   "source": [
    "type([article_read.source == 'SEO'])"
   ]
  },
  {
   "cell_type": "code",
   "execution_count": 17,
   "metadata": {
    "pycharm": {
     "name": "#%%\n"
    }
   },
   "outputs": [
    {
     "data": {
      "text/plain": "0        True\n1        True\n2       False\n3       False\n4       False\n        ...  \n1790    False\n1791     True\n1792    False\n1793    False\n1794    False\nName: source, Length: 1795, dtype: bool"
     },
     "execution_count": 17,
     "metadata": {},
     "output_type": "execute_result"
    }
   ],
   "source": [
    "article_read.source == 'SEO'"
   ]
  },
  {
   "cell_type": "code",
   "execution_count": 18,
   "metadata": {
    "pycharm": {
     "name": "#%%\n"
    }
   },
   "outputs": [
    {
     "data": {
      "text/plain": "     country     user_id\n0  country_7  2458151261\n1  country_7  2458151262\n2  country_7  2458151263\n3  country_7  2458151264\n4  country_8  2458151265",
      "text/html": "<div>\n<style scoped>\n    .dataframe tbody tr th:only-of-type {\n        vertical-align: middle;\n    }\n\n    .dataframe tbody tr th {\n        vertical-align: top;\n    }\n\n    .dataframe thead th {\n        text-align: right;\n    }\n</style>\n<table border=\"1\" class=\"dataframe\">\n  <thead>\n    <tr style=\"text-align: right;\">\n      <th></th>\n      <th>country</th>\n      <th>user_id</th>\n    </tr>\n  </thead>\n  <tbody>\n    <tr>\n      <th>0</th>\n      <td>country_7</td>\n      <td>2458151261</td>\n    </tr>\n    <tr>\n      <th>1</th>\n      <td>country_7</td>\n      <td>2458151262</td>\n    </tr>\n    <tr>\n      <th>2</th>\n      <td>country_7</td>\n      <td>2458151263</td>\n    </tr>\n    <tr>\n      <th>3</th>\n      <td>country_7</td>\n      <td>2458151264</td>\n    </tr>\n    <tr>\n      <th>4</th>\n      <td>country_8</td>\n      <td>2458151265</td>\n    </tr>\n  </tbody>\n</table>\n</div>"
     },
     "execution_count": 18,
     "metadata": {},
     "output_type": "execute_result"
    }
   ],
   "source": [
    "article_read.head()[['country', 'user_id']]"
   ]
  },
  {
   "cell_type": "code",
   "execution_count": 19,
   "metadata": {
    "pycharm": {
     "name": "#%%\n"
    }
   },
   "outputs": [
    {
     "data": {
      "text/plain": "     country     user_id\n0  country_7  2458151261\n1  country_7  2458151262\n2  country_7  2458151263\n3  country_7  2458151264\n4  country_8  2458151265",
      "text/html": "<div>\n<style scoped>\n    .dataframe tbody tr th:only-of-type {\n        vertical-align: middle;\n    }\n\n    .dataframe tbody tr th {\n        vertical-align: top;\n    }\n\n    .dataframe thead th {\n        text-align: right;\n    }\n</style>\n<table border=\"1\" class=\"dataframe\">\n  <thead>\n    <tr style=\"text-align: right;\">\n      <th></th>\n      <th>country</th>\n      <th>user_id</th>\n    </tr>\n  </thead>\n  <tbody>\n    <tr>\n      <th>0</th>\n      <td>country_7</td>\n      <td>2458151261</td>\n    </tr>\n    <tr>\n      <th>1</th>\n      <td>country_7</td>\n      <td>2458151262</td>\n    </tr>\n    <tr>\n      <th>2</th>\n      <td>country_7</td>\n      <td>2458151263</td>\n    </tr>\n    <tr>\n      <th>3</th>\n      <td>country_7</td>\n      <td>2458151264</td>\n    </tr>\n    <tr>\n      <th>4</th>\n      <td>country_8</td>\n      <td>2458151265</td>\n    </tr>\n  </tbody>\n</table>\n</div>"
     },
     "execution_count": 19,
     "metadata": {},
     "output_type": "execute_result"
    }
   ],
   "source": [
    "article_read[['country', 'user_id']].head()"
   ]
  },
  {
   "cell_type": "code",
   "execution_count": 20,
   "metadata": {
    "pycharm": {
     "name": "#%%\n"
    }
   },
   "outputs": [
    {
     "data": {
      "text/plain": "     country     user_id\n0  country_7  2458151261\n1  country_7  2458151262\n2  country_7  2458151263\n3  country_7  2458151264\n4  country_8  2458151265",
      "text/html": "<div>\n<style scoped>\n    .dataframe tbody tr th:only-of-type {\n        vertical-align: middle;\n    }\n\n    .dataframe tbody tr th {\n        vertical-align: top;\n    }\n\n    .dataframe thead th {\n        text-align: right;\n    }\n</style>\n<table border=\"1\" class=\"dataframe\">\n  <thead>\n    <tr style=\"text-align: right;\">\n      <th></th>\n      <th>country</th>\n      <th>user_id</th>\n    </tr>\n  </thead>\n  <tbody>\n    <tr>\n      <th>0</th>\n      <td>country_7</td>\n      <td>2458151261</td>\n    </tr>\n    <tr>\n      <th>1</th>\n      <td>country_7</td>\n      <td>2458151262</td>\n    </tr>\n    <tr>\n      <th>2</th>\n      <td>country_7</td>\n      <td>2458151263</td>\n    </tr>\n    <tr>\n      <th>3</th>\n      <td>country_7</td>\n      <td>2458151264</td>\n    </tr>\n    <tr>\n      <th>4</th>\n      <td>country_8</td>\n      <td>2458151265</td>\n    </tr>\n  </tbody>\n</table>\n</div>"
     },
     "execution_count": 20,
     "metadata": {},
     "output_type": "execute_result"
    }
   ],
   "source": [
    "pd.read_csv('pandas_tutorial_read.csv', delimiter=';', \n",
    "            names = ['my_datetime', 'event', 'country', 'user_id', 'source', 'topic'])[['country', 'user_id']].head()"
   ]
  },
  {
   "cell_type": "code",
   "execution_count": 21,
   "metadata": {
    "pycharm": {
     "name": "#%%\n"
    }
   },
   "outputs": [],
   "source": [
    "zoo = pd.read_csv('zoo.csv', delimiter = ',')"
   ]
  },
  {
   "cell_type": "code",
   "execution_count": 22,
   "metadata": {
    "pycharm": {
     "name": "#%%\n"
    }
   },
   "outputs": [
    {
     "data": {
      "text/plain": "      animal  uniq_id  water_need\n0   elephant     1001         500\n1   elephant     1002         600\n2   elephant     1003         550\n3      tiger     1004         300\n4      tiger     1005         320\n5      tiger     1006         330\n6      tiger     1007         290\n7      tiger     1008         310\n8      zebra     1009         200\n9      zebra     1010         220\n10     zebra     1011         240\n11     zebra     1012         230\n12     zebra     1013         220\n13     zebra     1014         100\n14     zebra     1015          80\n15      lion     1016         420\n16      lion     1017         600\n17      lion     1018         500\n18      lion     1019         390\n19  kangaroo     1020         410\n20  kangaroo     1021         430\n21  kangaroo     1022         410",
      "text/html": "<div>\n<style scoped>\n    .dataframe tbody tr th:only-of-type {\n        vertical-align: middle;\n    }\n\n    .dataframe tbody tr th {\n        vertical-align: top;\n    }\n\n    .dataframe thead th {\n        text-align: right;\n    }\n</style>\n<table border=\"1\" class=\"dataframe\">\n  <thead>\n    <tr style=\"text-align: right;\">\n      <th></th>\n      <th>animal</th>\n      <th>uniq_id</th>\n      <th>water_need</th>\n    </tr>\n  </thead>\n  <tbody>\n    <tr>\n      <th>0</th>\n      <td>elephant</td>\n      <td>1001</td>\n      <td>500</td>\n    </tr>\n    <tr>\n      <th>1</th>\n      <td>elephant</td>\n      <td>1002</td>\n      <td>600</td>\n    </tr>\n    <tr>\n      <th>2</th>\n      <td>elephant</td>\n      <td>1003</td>\n      <td>550</td>\n    </tr>\n    <tr>\n      <th>3</th>\n      <td>tiger</td>\n      <td>1004</td>\n      <td>300</td>\n    </tr>\n    <tr>\n      <th>4</th>\n      <td>tiger</td>\n      <td>1005</td>\n      <td>320</td>\n    </tr>\n    <tr>\n      <th>5</th>\n      <td>tiger</td>\n      <td>1006</td>\n      <td>330</td>\n    </tr>\n    <tr>\n      <th>6</th>\n      <td>tiger</td>\n      <td>1007</td>\n      <td>290</td>\n    </tr>\n    <tr>\n      <th>7</th>\n      <td>tiger</td>\n      <td>1008</td>\n      <td>310</td>\n    </tr>\n    <tr>\n      <th>8</th>\n      <td>zebra</td>\n      <td>1009</td>\n      <td>200</td>\n    </tr>\n    <tr>\n      <th>9</th>\n      <td>zebra</td>\n      <td>1010</td>\n      <td>220</td>\n    </tr>\n    <tr>\n      <th>10</th>\n      <td>zebra</td>\n      <td>1011</td>\n      <td>240</td>\n    </tr>\n    <tr>\n      <th>11</th>\n      <td>zebra</td>\n      <td>1012</td>\n      <td>230</td>\n    </tr>\n    <tr>\n      <th>12</th>\n      <td>zebra</td>\n      <td>1013</td>\n      <td>220</td>\n    </tr>\n    <tr>\n      <th>13</th>\n      <td>zebra</td>\n      <td>1014</td>\n      <td>100</td>\n    </tr>\n    <tr>\n      <th>14</th>\n      <td>zebra</td>\n      <td>1015</td>\n      <td>80</td>\n    </tr>\n    <tr>\n      <th>15</th>\n      <td>lion</td>\n      <td>1016</td>\n      <td>420</td>\n    </tr>\n    <tr>\n      <th>16</th>\n      <td>lion</td>\n      <td>1017</td>\n      <td>600</td>\n    </tr>\n    <tr>\n      <th>17</th>\n      <td>lion</td>\n      <td>1018</td>\n      <td>500</td>\n    </tr>\n    <tr>\n      <th>18</th>\n      <td>lion</td>\n      <td>1019</td>\n      <td>390</td>\n    </tr>\n    <tr>\n      <th>19</th>\n      <td>kangaroo</td>\n      <td>1020</td>\n      <td>410</td>\n    </tr>\n    <tr>\n      <th>20</th>\n      <td>kangaroo</td>\n      <td>1021</td>\n      <td>430</td>\n    </tr>\n    <tr>\n      <th>21</th>\n      <td>kangaroo</td>\n      <td>1022</td>\n      <td>410</td>\n    </tr>\n  </tbody>\n</table>\n</div>"
     },
     "execution_count": 22,
     "metadata": {},
     "output_type": "execute_result"
    }
   ],
   "source": [
    "zoo"
   ]
  },
  {
   "cell_type": "code",
   "execution_count": 23,
   "metadata": {
    "pycharm": {
     "name": "#%%\n"
    }
   },
   "outputs": [
    {
     "data": {
      "text/plain": "animal        22\nuniq_id       22\nwater_need    22\ndtype: int64"
     },
     "execution_count": 23,
     "metadata": {},
     "output_type": "execute_result"
    }
   ],
   "source": [
    "zoo.count()  #计算每一列的总数"
   ]
  },
  {
   "cell_type": "code",
   "execution_count": 24,
   "metadata": {
    "pycharm": {
     "name": "#%%\n"
    }
   },
   "outputs": [
    {
     "data": {
      "text/plain": "animal    22\ndtype: int64"
     },
     "execution_count": 24,
     "metadata": {},
     "output_type": "execute_result"
    }
   ],
   "source": [
    "zoo[['animal']].count()"
   ]
  },
  {
   "cell_type": "code",
   "execution_count": 25,
   "metadata": {
    "pycharm": {
     "name": "#%%\n"
    }
   },
   "outputs": [
    {
     "data": {
      "text/plain": "7650"
     },
     "execution_count": 25,
     "metadata": {},
     "output_type": "execute_result"
    }
   ],
   "source": [
    "zoo.water_need.sum()"
   ]
  },
  {
   "cell_type": "code",
   "execution_count": 26,
   "metadata": {
    "pycharm": {
     "name": "#%%\n"
    }
   },
   "outputs": [
    {
     "data": {
      "text/plain": "animal        elephantelephantelephanttigertigertigertigerti...\nuniq_id                                                   22253\nwater_need                                                 7650\ndtype: object"
     },
     "execution_count": 26,
     "metadata": {},
     "output_type": "execute_result"
    }
   ],
   "source": [
    "zoo.sum()"
   ]
  },
  {
   "cell_type": "code",
   "execution_count": 27,
   "metadata": {
    "pycharm": {
     "name": "#%%\n"
    }
   },
   "outputs": [
    {
     "data": {
      "text/plain": "method"
     },
     "execution_count": 27,
     "metadata": {},
     "output_type": "execute_result"
    }
   ],
   "source": [
    "type(zoo.sum)"
   ]
  },
  {
   "cell_type": "code",
   "execution_count": 28,
   "metadata": {
    "pycharm": {
     "name": "#%%\n"
    }
   },
   "outputs": [
    {
     "data": {
      "text/plain": "pandas.core.series.Series"
     },
     "execution_count": 28,
     "metadata": {},
     "output_type": "execute_result"
    }
   ],
   "source": [
    "type(zoo.sum())"
   ]
  },
  {
   "cell_type": "code",
   "execution_count": 29,
   "metadata": {
    "pycharm": {
     "name": "#%%\n"
    }
   },
   "outputs": [
    {
     "data": {
      "text/plain": "80"
     },
     "execution_count": 29,
     "metadata": {},
     "output_type": "execute_result"
    }
   ],
   "source": [
    "zoo.water_need.min()"
   ]
  },
  {
   "cell_type": "code",
   "execution_count": 30,
   "metadata": {
    "pycharm": {
     "name": "#%%\n"
    }
   },
   "outputs": [
    {
     "data": {
      "text/plain": "600"
     },
     "execution_count": 30,
     "metadata": {},
     "output_type": "execute_result"
    }
   ],
   "source": [
    "zoo.water_need.max()"
   ]
  },
  {
   "cell_type": "code",
   "execution_count": 31,
   "metadata": {
    "pycharm": {
     "name": "#%%\n"
    }
   },
   "outputs": [
    {
     "data": {
      "text/plain": "347.72727272727275"
     },
     "execution_count": 31,
     "metadata": {},
     "output_type": "execute_result"
    }
   ],
   "source": [
    "zoo.water_need.mean()"
   ]
  },
  {
   "cell_type": "code",
   "execution_count": 32,
   "metadata": {
    "pycharm": {
     "name": "#%%\n"
    }
   },
   "outputs": [
    {
     "data": {
      "text/plain": "325.0"
     },
     "execution_count": 32,
     "metadata": {},
     "output_type": "execute_result"
    }
   ],
   "source": [
    "zoo.water_need.median()"
   ]
  },
  {
   "cell_type": "code",
   "execution_count": 33,
   "metadata": {
    "pycharm": {
     "name": "#%%\n"
    }
   },
   "outputs": [
    {
     "data": {
      "text/plain": "          uniq_id  water_need\nanimal                       \nelephant   1002.0  550.000000\nkangaroo   1021.0  416.666667\nlion       1017.5  477.500000\ntiger      1006.0  310.000000\nzebra      1012.0  184.285714",
      "text/html": "<div>\n<style scoped>\n    .dataframe tbody tr th:only-of-type {\n        vertical-align: middle;\n    }\n\n    .dataframe tbody tr th {\n        vertical-align: top;\n    }\n\n    .dataframe thead th {\n        text-align: right;\n    }\n</style>\n<table border=\"1\" class=\"dataframe\">\n  <thead>\n    <tr style=\"text-align: right;\">\n      <th></th>\n      <th>uniq_id</th>\n      <th>water_need</th>\n    </tr>\n    <tr>\n      <th>animal</th>\n      <th></th>\n      <th></th>\n    </tr>\n  </thead>\n  <tbody>\n    <tr>\n      <th>elephant</th>\n      <td>1002.0</td>\n      <td>550.000000</td>\n    </tr>\n    <tr>\n      <th>kangaroo</th>\n      <td>1021.0</td>\n      <td>416.666667</td>\n    </tr>\n    <tr>\n      <th>lion</th>\n      <td>1017.5</td>\n      <td>477.500000</td>\n    </tr>\n    <tr>\n      <th>tiger</th>\n      <td>1006.0</td>\n      <td>310.000000</td>\n    </tr>\n    <tr>\n      <th>zebra</th>\n      <td>1012.0</td>\n      <td>184.285714</td>\n    </tr>\n  </tbody>\n</table>\n</div>"
     },
     "execution_count": 33,
     "metadata": {},
     "output_type": "execute_result"
    }
   ],
   "source": [
    "zoo.groupby('animal').mean()"
   ]
  },
  {
   "cell_type": "code",
   "execution_count": 34,
   "metadata": {
    "pycharm": {
     "name": "#%%\n"
    }
   },
   "outputs": [
    {
     "data": {
      "text/plain": "          water_need\nanimal              \nelephant  550.000000\nkangaroo  416.666667\nlion      477.500000\ntiger     310.000000\nzebra     184.285714",
      "text/html": "<div>\n<style scoped>\n    .dataframe tbody tr th:only-of-type {\n        vertical-align: middle;\n    }\n\n    .dataframe tbody tr th {\n        vertical-align: top;\n    }\n\n    .dataframe thead th {\n        text-align: right;\n    }\n</style>\n<table border=\"1\" class=\"dataframe\">\n  <thead>\n    <tr style=\"text-align: right;\">\n      <th></th>\n      <th>water_need</th>\n    </tr>\n    <tr>\n      <th>animal</th>\n      <th></th>\n    </tr>\n  </thead>\n  <tbody>\n    <tr>\n      <th>elephant</th>\n      <td>550.000000</td>\n    </tr>\n    <tr>\n      <th>kangaroo</th>\n      <td>416.666667</td>\n    </tr>\n    <tr>\n      <th>lion</th>\n      <td>477.500000</td>\n    </tr>\n    <tr>\n      <th>tiger</th>\n      <td>310.000000</td>\n    </tr>\n    <tr>\n      <th>zebra</th>\n      <td>184.285714</td>\n    </tr>\n  </tbody>\n</table>\n</div>"
     },
     "execution_count": 34,
     "metadata": {},
     "output_type": "execute_result"
    }
   ],
   "source": [
    "zoo.groupby('animal').mean()[['water_need']]  #returns a DataFrame object"
   ]
  },
  {
   "cell_type": "code",
   "execution_count": 34,
   "metadata": {
    "pycharm": {
     "name": "#%%\n"
    }
   },
   "outputs": [],
   "source": []
  },
  {
   "cell_type": "code",
   "execution_count": 35,
   "metadata": {
    "pycharm": {
     "name": "#%%\n"
    }
   },
   "outputs": [
    {
     "data": {
      "text/plain": "animal\nelephant    550.000000\nkangaroo    416.666667\nlion        477.500000\ntiger       310.000000\nzebra       184.285714\nName: water_need, dtype: float64"
     },
     "execution_count": 35,
     "metadata": {},
     "output_type": "execute_result"
    }
   ],
   "source": [
    "zoo.groupby('animal').mean().water_need # returns a Series object"
   ]
  },
  {
   "cell_type": "code",
   "execution_count": 36,
   "metadata": {
    "pycharm": {
     "name": "#%%\n"
    }
   },
   "outputs": [
    {
     "data": {
      "text/plain": "         my_datetime  event  country  user_id  topic\nsource                                              \nAdWords          500    500      500      500    500\nReddit           949    949      949      949    949\nSEO              346    346      346      346    346",
      "text/html": "<div>\n<style scoped>\n    .dataframe tbody tr th:only-of-type {\n        vertical-align: middle;\n    }\n\n    .dataframe tbody tr th {\n        vertical-align: top;\n    }\n\n    .dataframe thead th {\n        text-align: right;\n    }\n</style>\n<table border=\"1\" class=\"dataframe\">\n  <thead>\n    <tr style=\"text-align: right;\">\n      <th></th>\n      <th>my_datetime</th>\n      <th>event</th>\n      <th>country</th>\n      <th>user_id</th>\n      <th>topic</th>\n    </tr>\n    <tr>\n      <th>source</th>\n      <th></th>\n      <th></th>\n      <th></th>\n      <th></th>\n      <th></th>\n    </tr>\n  </thead>\n  <tbody>\n    <tr>\n      <th>AdWords</th>\n      <td>500</td>\n      <td>500</td>\n      <td>500</td>\n      <td>500</td>\n      <td>500</td>\n    </tr>\n    <tr>\n      <th>Reddit</th>\n      <td>949</td>\n      <td>949</td>\n      <td>949</td>\n      <td>949</td>\n      <td>949</td>\n    </tr>\n    <tr>\n      <th>SEO</th>\n      <td>346</td>\n      <td>346</td>\n      <td>346</td>\n      <td>346</td>\n      <td>346</td>\n    </tr>\n  </tbody>\n</table>\n</div>"
     },
     "execution_count": 36,
     "metadata": {},
     "output_type": "execute_result"
    }
   ],
   "source": [
    "article_read.groupby('source').count()"
   ]
  },
  {
   "cell_type": "code",
   "execution_count": 37,
   "metadata": {
    "scrolled": true,
    "pycharm": {
     "name": "#%%\n"
    }
   },
   "outputs": [
    {
     "data": {
      "text/plain": "                       my_datetime  event  country  user_id\nsource  topic                                              \nAdWords Africa                   3      3        3        3\n        Asia                    31     31       31       31\n        Australia                6      6        6        6\n        Europe                  46     46       46       46\n        North America           11     11       11       11\n        South America           14     14       14       14\nReddit  Africa                  24     24       24       24\n        Asia                   139    139      139      139\n        Australia               18     18       18       18\n        Europe                  29     29       29       29\n        North America           27     27       27       27\n        South America           26     26       26       26\nSEO     Africa                   7      7        7        7\n        Asia                     9      9        9        9\n        Australia               10     10       10       10\n        Europe                   4      4        4        4\n        North America           42     42       42       42\n        South America           16     16       16       16",
      "text/html": "<div>\n<style scoped>\n    .dataframe tbody tr th:only-of-type {\n        vertical-align: middle;\n    }\n\n    .dataframe tbody tr th {\n        vertical-align: top;\n    }\n\n    .dataframe thead th {\n        text-align: right;\n    }\n</style>\n<table border=\"1\" class=\"dataframe\">\n  <thead>\n    <tr style=\"text-align: right;\">\n      <th></th>\n      <th></th>\n      <th>my_datetime</th>\n      <th>event</th>\n      <th>country</th>\n      <th>user_id</th>\n    </tr>\n    <tr>\n      <th>source</th>\n      <th>topic</th>\n      <th></th>\n      <th></th>\n      <th></th>\n      <th></th>\n    </tr>\n  </thead>\n  <tbody>\n    <tr>\n      <th rowspan=\"6\" valign=\"top\">AdWords</th>\n      <th>Africa</th>\n      <td>3</td>\n      <td>3</td>\n      <td>3</td>\n      <td>3</td>\n    </tr>\n    <tr>\n      <th>Asia</th>\n      <td>31</td>\n      <td>31</td>\n      <td>31</td>\n      <td>31</td>\n    </tr>\n    <tr>\n      <th>Australia</th>\n      <td>6</td>\n      <td>6</td>\n      <td>6</td>\n      <td>6</td>\n    </tr>\n    <tr>\n      <th>Europe</th>\n      <td>46</td>\n      <td>46</td>\n      <td>46</td>\n      <td>46</td>\n    </tr>\n    <tr>\n      <th>North America</th>\n      <td>11</td>\n      <td>11</td>\n      <td>11</td>\n      <td>11</td>\n    </tr>\n    <tr>\n      <th>South America</th>\n      <td>14</td>\n      <td>14</td>\n      <td>14</td>\n      <td>14</td>\n    </tr>\n    <tr>\n      <th rowspan=\"6\" valign=\"top\">Reddit</th>\n      <th>Africa</th>\n      <td>24</td>\n      <td>24</td>\n      <td>24</td>\n      <td>24</td>\n    </tr>\n    <tr>\n      <th>Asia</th>\n      <td>139</td>\n      <td>139</td>\n      <td>139</td>\n      <td>139</td>\n    </tr>\n    <tr>\n      <th>Australia</th>\n      <td>18</td>\n      <td>18</td>\n      <td>18</td>\n      <td>18</td>\n    </tr>\n    <tr>\n      <th>Europe</th>\n      <td>29</td>\n      <td>29</td>\n      <td>29</td>\n      <td>29</td>\n    </tr>\n    <tr>\n      <th>North America</th>\n      <td>27</td>\n      <td>27</td>\n      <td>27</td>\n      <td>27</td>\n    </tr>\n    <tr>\n      <th>South America</th>\n      <td>26</td>\n      <td>26</td>\n      <td>26</td>\n      <td>26</td>\n    </tr>\n    <tr>\n      <th rowspan=\"6\" valign=\"top\">SEO</th>\n      <th>Africa</th>\n      <td>7</td>\n      <td>7</td>\n      <td>7</td>\n      <td>7</td>\n    </tr>\n    <tr>\n      <th>Asia</th>\n      <td>9</td>\n      <td>9</td>\n      <td>9</td>\n      <td>9</td>\n    </tr>\n    <tr>\n      <th>Australia</th>\n      <td>10</td>\n      <td>10</td>\n      <td>10</td>\n      <td>10</td>\n    </tr>\n    <tr>\n      <th>Europe</th>\n      <td>4</td>\n      <td>4</td>\n      <td>4</td>\n      <td>4</td>\n    </tr>\n    <tr>\n      <th>North America</th>\n      <td>42</td>\n      <td>42</td>\n      <td>42</td>\n      <td>42</td>\n    </tr>\n    <tr>\n      <th>South America</th>\n      <td>16</td>\n      <td>16</td>\n      <td>16</td>\n      <td>16</td>\n    </tr>\n  </tbody>\n</table>\n</div>"
     },
     "execution_count": 37,
     "metadata": {},
     "output_type": "execute_result"
    }
   ],
   "source": [
    "article_read[article_read.country == 'country_2'].groupby(['source', 'topic']).count()"
   ]
  },
  {
   "cell_type": "code",
   "execution_count": 38,
   "metadata": {
    "pycharm": {
     "name": "#%%\n"
    }
   },
   "outputs": [],
   "source": [
    "zoo_eats = pd.read_csv('zoo_eats.csv',delimiter =';', names = ['animal', 'food']) "
   ]
  },
  {
   "cell_type": "code",
   "execution_count": 39,
   "metadata": {
    "pycharm": {
     "name": "#%%\n"
    }
   },
   "outputs": [
    {
     "data": {
      "text/plain": "     animal        food\n0    animal        food\n1  elephant  vegetables\n2     tiger        meat\n3  kangaroo  vegetables\n4     zebra  vegetables\n5   giraffe  vegetables",
      "text/html": "<div>\n<style scoped>\n    .dataframe tbody tr th:only-of-type {\n        vertical-align: middle;\n    }\n\n    .dataframe tbody tr th {\n        vertical-align: top;\n    }\n\n    .dataframe thead th {\n        text-align: right;\n    }\n</style>\n<table border=\"1\" class=\"dataframe\">\n  <thead>\n    <tr style=\"text-align: right;\">\n      <th></th>\n      <th>animal</th>\n      <th>food</th>\n    </tr>\n  </thead>\n  <tbody>\n    <tr>\n      <th>0</th>\n      <td>animal</td>\n      <td>food</td>\n    </tr>\n    <tr>\n      <th>1</th>\n      <td>elephant</td>\n      <td>vegetables</td>\n    </tr>\n    <tr>\n      <th>2</th>\n      <td>tiger</td>\n      <td>meat</td>\n    </tr>\n    <tr>\n      <th>3</th>\n      <td>kangaroo</td>\n      <td>vegetables</td>\n    </tr>\n    <tr>\n      <th>4</th>\n      <td>zebra</td>\n      <td>vegetables</td>\n    </tr>\n    <tr>\n      <th>5</th>\n      <td>giraffe</td>\n      <td>vegetables</td>\n    </tr>\n  </tbody>\n</table>\n</div>"
     },
     "execution_count": 39,
     "metadata": {},
     "output_type": "execute_result"
    }
   ],
   "source": [
    "zoo_eats"
   ]
  },
  {
   "cell_type": "code",
   "execution_count": 40,
   "metadata": {
    "pycharm": {
     "name": "#%%\n"
    }
   },
   "outputs": [
    {
     "data": {
      "text/plain": "      animal  uniq_id  water_need        food\n0   elephant     1001         500  vegetables\n1   elephant     1002         600  vegetables\n2   elephant     1003         550  vegetables\n3      tiger     1004         300        meat\n4      tiger     1005         320        meat\n5      tiger     1006         330        meat\n6      tiger     1007         290        meat\n7      tiger     1008         310        meat\n8      zebra     1009         200  vegetables\n9      zebra     1010         220  vegetables\n10     zebra     1011         240  vegetables\n11     zebra     1012         230  vegetables\n12     zebra     1013         220  vegetables\n13     zebra     1014         100  vegetables\n14     zebra     1015          80  vegetables\n15  kangaroo     1020         410  vegetables\n16  kangaroo     1021         430  vegetables\n17  kangaroo     1022         410  vegetables",
      "text/html": "<div>\n<style scoped>\n    .dataframe tbody tr th:only-of-type {\n        vertical-align: middle;\n    }\n\n    .dataframe tbody tr th {\n        vertical-align: top;\n    }\n\n    .dataframe thead th {\n        text-align: right;\n    }\n</style>\n<table border=\"1\" class=\"dataframe\">\n  <thead>\n    <tr style=\"text-align: right;\">\n      <th></th>\n      <th>animal</th>\n      <th>uniq_id</th>\n      <th>water_need</th>\n      <th>food</th>\n    </tr>\n  </thead>\n  <tbody>\n    <tr>\n      <th>0</th>\n      <td>elephant</td>\n      <td>1001</td>\n      <td>500</td>\n      <td>vegetables</td>\n    </tr>\n    <tr>\n      <th>1</th>\n      <td>elephant</td>\n      <td>1002</td>\n      <td>600</td>\n      <td>vegetables</td>\n    </tr>\n    <tr>\n      <th>2</th>\n      <td>elephant</td>\n      <td>1003</td>\n      <td>550</td>\n      <td>vegetables</td>\n    </tr>\n    <tr>\n      <th>3</th>\n      <td>tiger</td>\n      <td>1004</td>\n      <td>300</td>\n      <td>meat</td>\n    </tr>\n    <tr>\n      <th>4</th>\n      <td>tiger</td>\n      <td>1005</td>\n      <td>320</td>\n      <td>meat</td>\n    </tr>\n    <tr>\n      <th>5</th>\n      <td>tiger</td>\n      <td>1006</td>\n      <td>330</td>\n      <td>meat</td>\n    </tr>\n    <tr>\n      <th>6</th>\n      <td>tiger</td>\n      <td>1007</td>\n      <td>290</td>\n      <td>meat</td>\n    </tr>\n    <tr>\n      <th>7</th>\n      <td>tiger</td>\n      <td>1008</td>\n      <td>310</td>\n      <td>meat</td>\n    </tr>\n    <tr>\n      <th>8</th>\n      <td>zebra</td>\n      <td>1009</td>\n      <td>200</td>\n      <td>vegetables</td>\n    </tr>\n    <tr>\n      <th>9</th>\n      <td>zebra</td>\n      <td>1010</td>\n      <td>220</td>\n      <td>vegetables</td>\n    </tr>\n    <tr>\n      <th>10</th>\n      <td>zebra</td>\n      <td>1011</td>\n      <td>240</td>\n      <td>vegetables</td>\n    </tr>\n    <tr>\n      <th>11</th>\n      <td>zebra</td>\n      <td>1012</td>\n      <td>230</td>\n      <td>vegetables</td>\n    </tr>\n    <tr>\n      <th>12</th>\n      <td>zebra</td>\n      <td>1013</td>\n      <td>220</td>\n      <td>vegetables</td>\n    </tr>\n    <tr>\n      <th>13</th>\n      <td>zebra</td>\n      <td>1014</td>\n      <td>100</td>\n      <td>vegetables</td>\n    </tr>\n    <tr>\n      <th>14</th>\n      <td>zebra</td>\n      <td>1015</td>\n      <td>80</td>\n      <td>vegetables</td>\n    </tr>\n    <tr>\n      <th>15</th>\n      <td>kangaroo</td>\n      <td>1020</td>\n      <td>410</td>\n      <td>vegetables</td>\n    </tr>\n    <tr>\n      <th>16</th>\n      <td>kangaroo</td>\n      <td>1021</td>\n      <td>430</td>\n      <td>vegetables</td>\n    </tr>\n    <tr>\n      <th>17</th>\n      <td>kangaroo</td>\n      <td>1022</td>\n      <td>410</td>\n      <td>vegetables</td>\n    </tr>\n  </tbody>\n</table>\n</div>"
     },
     "execution_count": 40,
     "metadata": {},
     "output_type": "execute_result"
    }
   ],
   "source": [
    "zoo.merge(zoo_eats) #where are the lion?"
   ]
  },
  {
   "cell_type": "code",
   "execution_count": 41,
   "metadata": {
    "pycharm": {
     "name": "#%%\n"
    }
   },
   "outputs": [
    {
     "data": {
      "text/plain": "      animal  uniq_id  water_need        food\n0   elephant   1001.0       500.0  vegetables\n1   elephant   1002.0       600.0  vegetables\n2   elephant   1003.0       550.0  vegetables\n3      tiger   1004.0       300.0        meat\n4      tiger   1005.0       320.0        meat\n5      tiger   1006.0       330.0        meat\n6      tiger   1007.0       290.0        meat\n7      tiger   1008.0       310.0        meat\n8      zebra   1009.0       200.0  vegetables\n9      zebra   1010.0       220.0  vegetables\n10     zebra   1011.0       240.0  vegetables\n11     zebra   1012.0       230.0  vegetables\n12     zebra   1013.0       220.0  vegetables\n13     zebra   1014.0       100.0  vegetables\n14     zebra   1015.0        80.0  vegetables\n15      lion   1016.0       420.0         NaN\n16      lion   1017.0       600.0         NaN\n17      lion   1018.0       500.0         NaN\n18      lion   1019.0       390.0         NaN\n19  kangaroo   1020.0       410.0  vegetables\n20  kangaroo   1021.0       430.0  vegetables\n21  kangaroo   1022.0       410.0  vegetables\n22    animal      NaN         NaN        food\n23   giraffe      NaN         NaN  vegetables",
      "text/html": "<div>\n<style scoped>\n    .dataframe tbody tr th:only-of-type {\n        vertical-align: middle;\n    }\n\n    .dataframe tbody tr th {\n        vertical-align: top;\n    }\n\n    .dataframe thead th {\n        text-align: right;\n    }\n</style>\n<table border=\"1\" class=\"dataframe\">\n  <thead>\n    <tr style=\"text-align: right;\">\n      <th></th>\n      <th>animal</th>\n      <th>uniq_id</th>\n      <th>water_need</th>\n      <th>food</th>\n    </tr>\n  </thead>\n  <tbody>\n    <tr>\n      <th>0</th>\n      <td>elephant</td>\n      <td>1001.0</td>\n      <td>500.0</td>\n      <td>vegetables</td>\n    </tr>\n    <tr>\n      <th>1</th>\n      <td>elephant</td>\n      <td>1002.0</td>\n      <td>600.0</td>\n      <td>vegetables</td>\n    </tr>\n    <tr>\n      <th>2</th>\n      <td>elephant</td>\n      <td>1003.0</td>\n      <td>550.0</td>\n      <td>vegetables</td>\n    </tr>\n    <tr>\n      <th>3</th>\n      <td>tiger</td>\n      <td>1004.0</td>\n      <td>300.0</td>\n      <td>meat</td>\n    </tr>\n    <tr>\n      <th>4</th>\n      <td>tiger</td>\n      <td>1005.0</td>\n      <td>320.0</td>\n      <td>meat</td>\n    </tr>\n    <tr>\n      <th>5</th>\n      <td>tiger</td>\n      <td>1006.0</td>\n      <td>330.0</td>\n      <td>meat</td>\n    </tr>\n    <tr>\n      <th>6</th>\n      <td>tiger</td>\n      <td>1007.0</td>\n      <td>290.0</td>\n      <td>meat</td>\n    </tr>\n    <tr>\n      <th>7</th>\n      <td>tiger</td>\n      <td>1008.0</td>\n      <td>310.0</td>\n      <td>meat</td>\n    </tr>\n    <tr>\n      <th>8</th>\n      <td>zebra</td>\n      <td>1009.0</td>\n      <td>200.0</td>\n      <td>vegetables</td>\n    </tr>\n    <tr>\n      <th>9</th>\n      <td>zebra</td>\n      <td>1010.0</td>\n      <td>220.0</td>\n      <td>vegetables</td>\n    </tr>\n    <tr>\n      <th>10</th>\n      <td>zebra</td>\n      <td>1011.0</td>\n      <td>240.0</td>\n      <td>vegetables</td>\n    </tr>\n    <tr>\n      <th>11</th>\n      <td>zebra</td>\n      <td>1012.0</td>\n      <td>230.0</td>\n      <td>vegetables</td>\n    </tr>\n    <tr>\n      <th>12</th>\n      <td>zebra</td>\n      <td>1013.0</td>\n      <td>220.0</td>\n      <td>vegetables</td>\n    </tr>\n    <tr>\n      <th>13</th>\n      <td>zebra</td>\n      <td>1014.0</td>\n      <td>100.0</td>\n      <td>vegetables</td>\n    </tr>\n    <tr>\n      <th>14</th>\n      <td>zebra</td>\n      <td>1015.0</td>\n      <td>80.0</td>\n      <td>vegetables</td>\n    </tr>\n    <tr>\n      <th>15</th>\n      <td>lion</td>\n      <td>1016.0</td>\n      <td>420.0</td>\n      <td>NaN</td>\n    </tr>\n    <tr>\n      <th>16</th>\n      <td>lion</td>\n      <td>1017.0</td>\n      <td>600.0</td>\n      <td>NaN</td>\n    </tr>\n    <tr>\n      <th>17</th>\n      <td>lion</td>\n      <td>1018.0</td>\n      <td>500.0</td>\n      <td>NaN</td>\n    </tr>\n    <tr>\n      <th>18</th>\n      <td>lion</td>\n      <td>1019.0</td>\n      <td>390.0</td>\n      <td>NaN</td>\n    </tr>\n    <tr>\n      <th>19</th>\n      <td>kangaroo</td>\n      <td>1020.0</td>\n      <td>410.0</td>\n      <td>vegetables</td>\n    </tr>\n    <tr>\n      <th>20</th>\n      <td>kangaroo</td>\n      <td>1021.0</td>\n      <td>430.0</td>\n      <td>vegetables</td>\n    </tr>\n    <tr>\n      <th>21</th>\n      <td>kangaroo</td>\n      <td>1022.0</td>\n      <td>410.0</td>\n      <td>vegetables</td>\n    </tr>\n    <tr>\n      <th>22</th>\n      <td>animal</td>\n      <td>NaN</td>\n      <td>NaN</td>\n      <td>food</td>\n    </tr>\n    <tr>\n      <th>23</th>\n      <td>giraffe</td>\n      <td>NaN</td>\n      <td>NaN</td>\n      <td>vegetables</td>\n    </tr>\n  </tbody>\n</table>\n</div>"
     },
     "execution_count": 41,
     "metadata": {},
     "output_type": "execute_result"
    }
   ],
   "source": [
    "zoo.merge(zoo_eats, how = 'outer')"
   ]
  },
  {
   "cell_type": "code",
   "execution_count": 42,
   "metadata": {
    "pycharm": {
     "name": "#%%\n"
    }
   },
   "outputs": [
    {
     "data": {
      "text/plain": "      animal  uniq_id  water_need        food\n0   elephant     1001         500  vegetables\n1   elephant     1002         600  vegetables\n2   elephant     1003         550  vegetables\n3      tiger     1004         300        meat\n4      tiger     1005         320        meat\n5      tiger     1006         330        meat\n6      tiger     1007         290        meat\n7      tiger     1008         310        meat\n8      zebra     1009         200  vegetables\n9      zebra     1010         220  vegetables\n10     zebra     1011         240  vegetables\n11     zebra     1012         230  vegetables\n12     zebra     1013         220  vegetables\n13     zebra     1014         100  vegetables\n14     zebra     1015          80  vegetables\n15      lion     1016         420         NaN\n16      lion     1017         600         NaN\n17      lion     1018         500         NaN\n18      lion     1019         390         NaN\n19  kangaroo     1020         410  vegetables\n20  kangaroo     1021         430  vegetables\n21  kangaroo     1022         410  vegetables",
      "text/html": "<div>\n<style scoped>\n    .dataframe tbody tr th:only-of-type {\n        vertical-align: middle;\n    }\n\n    .dataframe tbody tr th {\n        vertical-align: top;\n    }\n\n    .dataframe thead th {\n        text-align: right;\n    }\n</style>\n<table border=\"1\" class=\"dataframe\">\n  <thead>\n    <tr style=\"text-align: right;\">\n      <th></th>\n      <th>animal</th>\n      <th>uniq_id</th>\n      <th>water_need</th>\n      <th>food</th>\n    </tr>\n  </thead>\n  <tbody>\n    <tr>\n      <th>0</th>\n      <td>elephant</td>\n      <td>1001</td>\n      <td>500</td>\n      <td>vegetables</td>\n    </tr>\n    <tr>\n      <th>1</th>\n      <td>elephant</td>\n      <td>1002</td>\n      <td>600</td>\n      <td>vegetables</td>\n    </tr>\n    <tr>\n      <th>2</th>\n      <td>elephant</td>\n      <td>1003</td>\n      <td>550</td>\n      <td>vegetables</td>\n    </tr>\n    <tr>\n      <th>3</th>\n      <td>tiger</td>\n      <td>1004</td>\n      <td>300</td>\n      <td>meat</td>\n    </tr>\n    <tr>\n      <th>4</th>\n      <td>tiger</td>\n      <td>1005</td>\n      <td>320</td>\n      <td>meat</td>\n    </tr>\n    <tr>\n      <th>5</th>\n      <td>tiger</td>\n      <td>1006</td>\n      <td>330</td>\n      <td>meat</td>\n    </tr>\n    <tr>\n      <th>6</th>\n      <td>tiger</td>\n      <td>1007</td>\n      <td>290</td>\n      <td>meat</td>\n    </tr>\n    <tr>\n      <th>7</th>\n      <td>tiger</td>\n      <td>1008</td>\n      <td>310</td>\n      <td>meat</td>\n    </tr>\n    <tr>\n      <th>8</th>\n      <td>zebra</td>\n      <td>1009</td>\n      <td>200</td>\n      <td>vegetables</td>\n    </tr>\n    <tr>\n      <th>9</th>\n      <td>zebra</td>\n      <td>1010</td>\n      <td>220</td>\n      <td>vegetables</td>\n    </tr>\n    <tr>\n      <th>10</th>\n      <td>zebra</td>\n      <td>1011</td>\n      <td>240</td>\n      <td>vegetables</td>\n    </tr>\n    <tr>\n      <th>11</th>\n      <td>zebra</td>\n      <td>1012</td>\n      <td>230</td>\n      <td>vegetables</td>\n    </tr>\n    <tr>\n      <th>12</th>\n      <td>zebra</td>\n      <td>1013</td>\n      <td>220</td>\n      <td>vegetables</td>\n    </tr>\n    <tr>\n      <th>13</th>\n      <td>zebra</td>\n      <td>1014</td>\n      <td>100</td>\n      <td>vegetables</td>\n    </tr>\n    <tr>\n      <th>14</th>\n      <td>zebra</td>\n      <td>1015</td>\n      <td>80</td>\n      <td>vegetables</td>\n    </tr>\n    <tr>\n      <th>15</th>\n      <td>lion</td>\n      <td>1016</td>\n      <td>420</td>\n      <td>NaN</td>\n    </tr>\n    <tr>\n      <th>16</th>\n      <td>lion</td>\n      <td>1017</td>\n      <td>600</td>\n      <td>NaN</td>\n    </tr>\n    <tr>\n      <th>17</th>\n      <td>lion</td>\n      <td>1018</td>\n      <td>500</td>\n      <td>NaN</td>\n    </tr>\n    <tr>\n      <th>18</th>\n      <td>lion</td>\n      <td>1019</td>\n      <td>390</td>\n      <td>NaN</td>\n    </tr>\n    <tr>\n      <th>19</th>\n      <td>kangaroo</td>\n      <td>1020</td>\n      <td>410</td>\n      <td>vegetables</td>\n    </tr>\n    <tr>\n      <th>20</th>\n      <td>kangaroo</td>\n      <td>1021</td>\n      <td>430</td>\n      <td>vegetables</td>\n    </tr>\n    <tr>\n      <th>21</th>\n      <td>kangaroo</td>\n      <td>1022</td>\n      <td>410</td>\n      <td>vegetables</td>\n    </tr>\n  </tbody>\n</table>\n</div>"
     },
     "execution_count": 42,
     "metadata": {},
     "output_type": "execute_result"
    }
   ],
   "source": [
    "zoo.merge(zoo_eats, how = 'left')"
   ]
  },
  {
   "cell_type": "code",
   "execution_count": 43,
   "metadata": {
    "pycharm": {
     "name": "#%%\n"
    }
   },
   "outputs": [
    {
     "data": {
      "text/plain": "      animal  uniq_id  water_need        food\n0   elephant     1001         500  vegetables\n1   elephant     1002         600  vegetables\n2   elephant     1003         550  vegetables\n3      tiger     1004         300        meat\n4      tiger     1005         320        meat\n5      tiger     1006         330        meat\n6      tiger     1007         290        meat\n7      tiger     1008         310        meat\n8      zebra     1009         200  vegetables\n9      zebra     1010         220  vegetables\n10     zebra     1011         240  vegetables\n11     zebra     1012         230  vegetables\n12     zebra     1013         220  vegetables\n13     zebra     1014         100  vegetables\n14     zebra     1015          80  vegetables\n15      lion     1016         420         NaN\n16      lion     1017         600         NaN\n17      lion     1018         500         NaN\n18      lion     1019         390         NaN\n19  kangaroo     1020         410  vegetables\n20  kangaroo     1021         430  vegetables\n21  kangaroo     1022         410  vegetables",
      "text/html": "<div>\n<style scoped>\n    .dataframe tbody tr th:only-of-type {\n        vertical-align: middle;\n    }\n\n    .dataframe tbody tr th {\n        vertical-align: top;\n    }\n\n    .dataframe thead th {\n        text-align: right;\n    }\n</style>\n<table border=\"1\" class=\"dataframe\">\n  <thead>\n    <tr style=\"text-align: right;\">\n      <th></th>\n      <th>animal</th>\n      <th>uniq_id</th>\n      <th>water_need</th>\n      <th>food</th>\n    </tr>\n  </thead>\n  <tbody>\n    <tr>\n      <th>0</th>\n      <td>elephant</td>\n      <td>1001</td>\n      <td>500</td>\n      <td>vegetables</td>\n    </tr>\n    <tr>\n      <th>1</th>\n      <td>elephant</td>\n      <td>1002</td>\n      <td>600</td>\n      <td>vegetables</td>\n    </tr>\n    <tr>\n      <th>2</th>\n      <td>elephant</td>\n      <td>1003</td>\n      <td>550</td>\n      <td>vegetables</td>\n    </tr>\n    <tr>\n      <th>3</th>\n      <td>tiger</td>\n      <td>1004</td>\n      <td>300</td>\n      <td>meat</td>\n    </tr>\n    <tr>\n      <th>4</th>\n      <td>tiger</td>\n      <td>1005</td>\n      <td>320</td>\n      <td>meat</td>\n    </tr>\n    <tr>\n      <th>5</th>\n      <td>tiger</td>\n      <td>1006</td>\n      <td>330</td>\n      <td>meat</td>\n    </tr>\n    <tr>\n      <th>6</th>\n      <td>tiger</td>\n      <td>1007</td>\n      <td>290</td>\n      <td>meat</td>\n    </tr>\n    <tr>\n      <th>7</th>\n      <td>tiger</td>\n      <td>1008</td>\n      <td>310</td>\n      <td>meat</td>\n    </tr>\n    <tr>\n      <th>8</th>\n      <td>zebra</td>\n      <td>1009</td>\n      <td>200</td>\n      <td>vegetables</td>\n    </tr>\n    <tr>\n      <th>9</th>\n      <td>zebra</td>\n      <td>1010</td>\n      <td>220</td>\n      <td>vegetables</td>\n    </tr>\n    <tr>\n      <th>10</th>\n      <td>zebra</td>\n      <td>1011</td>\n      <td>240</td>\n      <td>vegetables</td>\n    </tr>\n    <tr>\n      <th>11</th>\n      <td>zebra</td>\n      <td>1012</td>\n      <td>230</td>\n      <td>vegetables</td>\n    </tr>\n    <tr>\n      <th>12</th>\n      <td>zebra</td>\n      <td>1013</td>\n      <td>220</td>\n      <td>vegetables</td>\n    </tr>\n    <tr>\n      <th>13</th>\n      <td>zebra</td>\n      <td>1014</td>\n      <td>100</td>\n      <td>vegetables</td>\n    </tr>\n    <tr>\n      <th>14</th>\n      <td>zebra</td>\n      <td>1015</td>\n      <td>80</td>\n      <td>vegetables</td>\n    </tr>\n    <tr>\n      <th>15</th>\n      <td>lion</td>\n      <td>1016</td>\n      <td>420</td>\n      <td>NaN</td>\n    </tr>\n    <tr>\n      <th>16</th>\n      <td>lion</td>\n      <td>1017</td>\n      <td>600</td>\n      <td>NaN</td>\n    </tr>\n    <tr>\n      <th>17</th>\n      <td>lion</td>\n      <td>1018</td>\n      <td>500</td>\n      <td>NaN</td>\n    </tr>\n    <tr>\n      <th>18</th>\n      <td>lion</td>\n      <td>1019</td>\n      <td>390</td>\n      <td>NaN</td>\n    </tr>\n    <tr>\n      <th>19</th>\n      <td>kangaroo</td>\n      <td>1020</td>\n      <td>410</td>\n      <td>vegetables</td>\n    </tr>\n    <tr>\n      <th>20</th>\n      <td>kangaroo</td>\n      <td>1021</td>\n      <td>430</td>\n      <td>vegetables</td>\n    </tr>\n    <tr>\n      <th>21</th>\n      <td>kangaroo</td>\n      <td>1022</td>\n      <td>410</td>\n      <td>vegetables</td>\n    </tr>\n  </tbody>\n</table>\n</div>"
     },
     "execution_count": 43,
     "metadata": {},
     "output_type": "execute_result"
    }
   ],
   "source": [
    "zoo.merge(zoo_eats, how = 'left', left_on = 'animal', right_on = 'animal')"
   ]
  },
  {
   "cell_type": "code",
   "execution_count": 44,
   "metadata": {
    "pycharm": {
     "name": "#%%\n"
    }
   },
   "outputs": [
    {
     "data": {
      "text/plain": "      animal  uniq_id  water_need\n14     zebra     1015          80\n13     zebra     1014         100\n8      zebra     1009         200\n9      zebra     1010         220\n12     zebra     1013         220\n11     zebra     1012         230\n10     zebra     1011         240\n6      tiger     1007         290\n3      tiger     1004         300\n7      tiger     1008         310\n4      tiger     1005         320\n5      tiger     1006         330\n18      lion     1019         390\n19  kangaroo     1020         410\n21  kangaroo     1022         410\n15      lion     1016         420\n20  kangaroo     1021         430\n17      lion     1018         500\n0   elephant     1001         500\n2   elephant     1003         550\n16      lion     1017         600\n1   elephant     1002         600",
      "text/html": "<div>\n<style scoped>\n    .dataframe tbody tr th:only-of-type {\n        vertical-align: middle;\n    }\n\n    .dataframe tbody tr th {\n        vertical-align: top;\n    }\n\n    .dataframe thead th {\n        text-align: right;\n    }\n</style>\n<table border=\"1\" class=\"dataframe\">\n  <thead>\n    <tr style=\"text-align: right;\">\n      <th></th>\n      <th>animal</th>\n      <th>uniq_id</th>\n      <th>water_need</th>\n    </tr>\n  </thead>\n  <tbody>\n    <tr>\n      <th>14</th>\n      <td>zebra</td>\n      <td>1015</td>\n      <td>80</td>\n    </tr>\n    <tr>\n      <th>13</th>\n      <td>zebra</td>\n      <td>1014</td>\n      <td>100</td>\n    </tr>\n    <tr>\n      <th>8</th>\n      <td>zebra</td>\n      <td>1009</td>\n      <td>200</td>\n    </tr>\n    <tr>\n      <th>9</th>\n      <td>zebra</td>\n      <td>1010</td>\n      <td>220</td>\n    </tr>\n    <tr>\n      <th>12</th>\n      <td>zebra</td>\n      <td>1013</td>\n      <td>220</td>\n    </tr>\n    <tr>\n      <th>11</th>\n      <td>zebra</td>\n      <td>1012</td>\n      <td>230</td>\n    </tr>\n    <tr>\n      <th>10</th>\n      <td>zebra</td>\n      <td>1011</td>\n      <td>240</td>\n    </tr>\n    <tr>\n      <th>6</th>\n      <td>tiger</td>\n      <td>1007</td>\n      <td>290</td>\n    </tr>\n    <tr>\n      <th>3</th>\n      <td>tiger</td>\n      <td>1004</td>\n      <td>300</td>\n    </tr>\n    <tr>\n      <th>7</th>\n      <td>tiger</td>\n      <td>1008</td>\n      <td>310</td>\n    </tr>\n    <tr>\n      <th>4</th>\n      <td>tiger</td>\n      <td>1005</td>\n      <td>320</td>\n    </tr>\n    <tr>\n      <th>5</th>\n      <td>tiger</td>\n      <td>1006</td>\n      <td>330</td>\n    </tr>\n    <tr>\n      <th>18</th>\n      <td>lion</td>\n      <td>1019</td>\n      <td>390</td>\n    </tr>\n    <tr>\n      <th>19</th>\n      <td>kangaroo</td>\n      <td>1020</td>\n      <td>410</td>\n    </tr>\n    <tr>\n      <th>21</th>\n      <td>kangaroo</td>\n      <td>1022</td>\n      <td>410</td>\n    </tr>\n    <tr>\n      <th>15</th>\n      <td>lion</td>\n      <td>1016</td>\n      <td>420</td>\n    </tr>\n    <tr>\n      <th>20</th>\n      <td>kangaroo</td>\n      <td>1021</td>\n      <td>430</td>\n    </tr>\n    <tr>\n      <th>17</th>\n      <td>lion</td>\n      <td>1018</td>\n      <td>500</td>\n    </tr>\n    <tr>\n      <th>0</th>\n      <td>elephant</td>\n      <td>1001</td>\n      <td>500</td>\n    </tr>\n    <tr>\n      <th>2</th>\n      <td>elephant</td>\n      <td>1003</td>\n      <td>550</td>\n    </tr>\n    <tr>\n      <th>16</th>\n      <td>lion</td>\n      <td>1017</td>\n      <td>600</td>\n    </tr>\n    <tr>\n      <th>1</th>\n      <td>elephant</td>\n      <td>1002</td>\n      <td>600</td>\n    </tr>\n  </tbody>\n</table>\n</div>"
     },
     "execution_count": 44,
     "metadata": {},
     "output_type": "execute_result"
    }
   ],
   "source": [
    "zoo.sort_values('water_need')"
   ]
  },
  {
   "cell_type": "code",
   "execution_count": 45,
   "metadata": {
    "pycharm": {
     "name": "#%%\n"
    }
   },
   "outputs": [
    {
     "data": {
      "text/plain": "      animal  uniq_id  water_need\n0   elephant     1001         500\n2   elephant     1003         550\n1   elephant     1002         600\n19  kangaroo     1020         410\n21  kangaroo     1022         410\n20  kangaroo     1021         430\n18      lion     1019         390\n15      lion     1016         420\n17      lion     1018         500\n16      lion     1017         600\n6      tiger     1007         290\n3      tiger     1004         300\n7      tiger     1008         310\n4      tiger     1005         320\n5      tiger     1006         330\n14     zebra     1015          80\n13     zebra     1014         100\n8      zebra     1009         200\n9      zebra     1010         220\n12     zebra     1013         220\n11     zebra     1012         230\n10     zebra     1011         240",
      "text/html": "<div>\n<style scoped>\n    .dataframe tbody tr th:only-of-type {\n        vertical-align: middle;\n    }\n\n    .dataframe tbody tr th {\n        vertical-align: top;\n    }\n\n    .dataframe thead th {\n        text-align: right;\n    }\n</style>\n<table border=\"1\" class=\"dataframe\">\n  <thead>\n    <tr style=\"text-align: right;\">\n      <th></th>\n      <th>animal</th>\n      <th>uniq_id</th>\n      <th>water_need</th>\n    </tr>\n  </thead>\n  <tbody>\n    <tr>\n      <th>0</th>\n      <td>elephant</td>\n      <td>1001</td>\n      <td>500</td>\n    </tr>\n    <tr>\n      <th>2</th>\n      <td>elephant</td>\n      <td>1003</td>\n      <td>550</td>\n    </tr>\n    <tr>\n      <th>1</th>\n      <td>elephant</td>\n      <td>1002</td>\n      <td>600</td>\n    </tr>\n    <tr>\n      <th>19</th>\n      <td>kangaroo</td>\n      <td>1020</td>\n      <td>410</td>\n    </tr>\n    <tr>\n      <th>21</th>\n      <td>kangaroo</td>\n      <td>1022</td>\n      <td>410</td>\n    </tr>\n    <tr>\n      <th>20</th>\n      <td>kangaroo</td>\n      <td>1021</td>\n      <td>430</td>\n    </tr>\n    <tr>\n      <th>18</th>\n      <td>lion</td>\n      <td>1019</td>\n      <td>390</td>\n    </tr>\n    <tr>\n      <th>15</th>\n      <td>lion</td>\n      <td>1016</td>\n      <td>420</td>\n    </tr>\n    <tr>\n      <th>17</th>\n      <td>lion</td>\n      <td>1018</td>\n      <td>500</td>\n    </tr>\n    <tr>\n      <th>16</th>\n      <td>lion</td>\n      <td>1017</td>\n      <td>600</td>\n    </tr>\n    <tr>\n      <th>6</th>\n      <td>tiger</td>\n      <td>1007</td>\n      <td>290</td>\n    </tr>\n    <tr>\n      <th>3</th>\n      <td>tiger</td>\n      <td>1004</td>\n      <td>300</td>\n    </tr>\n    <tr>\n      <th>7</th>\n      <td>tiger</td>\n      <td>1008</td>\n      <td>310</td>\n    </tr>\n    <tr>\n      <th>4</th>\n      <td>tiger</td>\n      <td>1005</td>\n      <td>320</td>\n    </tr>\n    <tr>\n      <th>5</th>\n      <td>tiger</td>\n      <td>1006</td>\n      <td>330</td>\n    </tr>\n    <tr>\n      <th>14</th>\n      <td>zebra</td>\n      <td>1015</td>\n      <td>80</td>\n    </tr>\n    <tr>\n      <th>13</th>\n      <td>zebra</td>\n      <td>1014</td>\n      <td>100</td>\n    </tr>\n    <tr>\n      <th>8</th>\n      <td>zebra</td>\n      <td>1009</td>\n      <td>200</td>\n    </tr>\n    <tr>\n      <th>9</th>\n      <td>zebra</td>\n      <td>1010</td>\n      <td>220</td>\n    </tr>\n    <tr>\n      <th>12</th>\n      <td>zebra</td>\n      <td>1013</td>\n      <td>220</td>\n    </tr>\n    <tr>\n      <th>11</th>\n      <td>zebra</td>\n      <td>1012</td>\n      <td>230</td>\n    </tr>\n    <tr>\n      <th>10</th>\n      <td>zebra</td>\n      <td>1011</td>\n      <td>240</td>\n    </tr>\n  </tbody>\n</table>\n</div>"
     },
     "execution_count": 45,
     "metadata": {},
     "output_type": "execute_result"
    }
   ],
   "source": [
    "zoo.sort_values(by = ['animal', 'water_need'])"
   ]
  },
  {
   "cell_type": "code",
   "execution_count": 46,
   "metadata": {
    "pycharm": {
     "name": "#%%\n"
    }
   },
   "outputs": [
    {
     "data": {
      "text/plain": "      animal  uniq_id  water_need\n1   elephant     1002         600\n16      lion     1017         600\n2   elephant     1003         550\n0   elephant     1001         500\n17      lion     1018         500\n20  kangaroo     1021         430\n15      lion     1016         420\n19  kangaroo     1020         410\n21  kangaroo     1022         410\n18      lion     1019         390\n5      tiger     1006         330\n4      tiger     1005         320\n7      tiger     1008         310\n3      tiger     1004         300\n6      tiger     1007         290\n10     zebra     1011         240\n11     zebra     1012         230\n9      zebra     1010         220\n12     zebra     1013         220\n8      zebra     1009         200\n13     zebra     1014         100\n14     zebra     1015          80",
      "text/html": "<div>\n<style scoped>\n    .dataframe tbody tr th:only-of-type {\n        vertical-align: middle;\n    }\n\n    .dataframe tbody tr th {\n        vertical-align: top;\n    }\n\n    .dataframe thead th {\n        text-align: right;\n    }\n</style>\n<table border=\"1\" class=\"dataframe\">\n  <thead>\n    <tr style=\"text-align: right;\">\n      <th></th>\n      <th>animal</th>\n      <th>uniq_id</th>\n      <th>water_need</th>\n    </tr>\n  </thead>\n  <tbody>\n    <tr>\n      <th>1</th>\n      <td>elephant</td>\n      <td>1002</td>\n      <td>600</td>\n    </tr>\n    <tr>\n      <th>16</th>\n      <td>lion</td>\n      <td>1017</td>\n      <td>600</td>\n    </tr>\n    <tr>\n      <th>2</th>\n      <td>elephant</td>\n      <td>1003</td>\n      <td>550</td>\n    </tr>\n    <tr>\n      <th>0</th>\n      <td>elephant</td>\n      <td>1001</td>\n      <td>500</td>\n    </tr>\n    <tr>\n      <th>17</th>\n      <td>lion</td>\n      <td>1018</td>\n      <td>500</td>\n    </tr>\n    <tr>\n      <th>20</th>\n      <td>kangaroo</td>\n      <td>1021</td>\n      <td>430</td>\n    </tr>\n    <tr>\n      <th>15</th>\n      <td>lion</td>\n      <td>1016</td>\n      <td>420</td>\n    </tr>\n    <tr>\n      <th>19</th>\n      <td>kangaroo</td>\n      <td>1020</td>\n      <td>410</td>\n    </tr>\n    <tr>\n      <th>21</th>\n      <td>kangaroo</td>\n      <td>1022</td>\n      <td>410</td>\n    </tr>\n    <tr>\n      <th>18</th>\n      <td>lion</td>\n      <td>1019</td>\n      <td>390</td>\n    </tr>\n    <tr>\n      <th>5</th>\n      <td>tiger</td>\n      <td>1006</td>\n      <td>330</td>\n    </tr>\n    <tr>\n      <th>4</th>\n      <td>tiger</td>\n      <td>1005</td>\n      <td>320</td>\n    </tr>\n    <tr>\n      <th>7</th>\n      <td>tiger</td>\n      <td>1008</td>\n      <td>310</td>\n    </tr>\n    <tr>\n      <th>3</th>\n      <td>tiger</td>\n      <td>1004</td>\n      <td>300</td>\n    </tr>\n    <tr>\n      <th>6</th>\n      <td>tiger</td>\n      <td>1007</td>\n      <td>290</td>\n    </tr>\n    <tr>\n      <th>10</th>\n      <td>zebra</td>\n      <td>1011</td>\n      <td>240</td>\n    </tr>\n    <tr>\n      <th>11</th>\n      <td>zebra</td>\n      <td>1012</td>\n      <td>230</td>\n    </tr>\n    <tr>\n      <th>9</th>\n      <td>zebra</td>\n      <td>1010</td>\n      <td>220</td>\n    </tr>\n    <tr>\n      <th>12</th>\n      <td>zebra</td>\n      <td>1013</td>\n      <td>220</td>\n    </tr>\n    <tr>\n      <th>8</th>\n      <td>zebra</td>\n      <td>1009</td>\n      <td>200</td>\n    </tr>\n    <tr>\n      <th>13</th>\n      <td>zebra</td>\n      <td>1014</td>\n      <td>100</td>\n    </tr>\n    <tr>\n      <th>14</th>\n      <td>zebra</td>\n      <td>1015</td>\n      <td>80</td>\n    </tr>\n  </tbody>\n</table>\n</div>"
     },
     "execution_count": 46,
     "metadata": {},
     "output_type": "execute_result"
    }
   ],
   "source": [
    "zoo.sort_values(by = ['water_need'], ascending = False)"
   ]
  },
  {
   "cell_type": "code",
   "execution_count": 47,
   "metadata": {
    "pycharm": {
     "name": "#%%\n"
    }
   },
   "outputs": [
    {
     "data": {
      "text/plain": "    index    animal  uniq_id  water_need\n0       1  elephant     1002         600\n1      16      lion     1017         600\n2       2  elephant     1003         550\n3       0  elephant     1001         500\n4      17      lion     1018         500\n5      20  kangaroo     1021         430\n6      15      lion     1016         420\n7      19  kangaroo     1020         410\n8      21  kangaroo     1022         410\n9      18      lion     1019         390\n10      5     tiger     1006         330\n11      4     tiger     1005         320\n12      7     tiger     1008         310\n13      3     tiger     1004         300\n14      6     tiger     1007         290\n15     10     zebra     1011         240\n16     11     zebra     1012         230\n17      9     zebra     1010         220\n18     12     zebra     1013         220\n19      8     zebra     1009         200\n20     13     zebra     1014         100\n21     14     zebra     1015          80",
      "text/html": "<div>\n<style scoped>\n    .dataframe tbody tr th:only-of-type {\n        vertical-align: middle;\n    }\n\n    .dataframe tbody tr th {\n        vertical-align: top;\n    }\n\n    .dataframe thead th {\n        text-align: right;\n    }\n</style>\n<table border=\"1\" class=\"dataframe\">\n  <thead>\n    <tr style=\"text-align: right;\">\n      <th></th>\n      <th>index</th>\n      <th>animal</th>\n      <th>uniq_id</th>\n      <th>water_need</th>\n    </tr>\n  </thead>\n  <tbody>\n    <tr>\n      <th>0</th>\n      <td>1</td>\n      <td>elephant</td>\n      <td>1002</td>\n      <td>600</td>\n    </tr>\n    <tr>\n      <th>1</th>\n      <td>16</td>\n      <td>lion</td>\n      <td>1017</td>\n      <td>600</td>\n    </tr>\n    <tr>\n      <th>2</th>\n      <td>2</td>\n      <td>elephant</td>\n      <td>1003</td>\n      <td>550</td>\n    </tr>\n    <tr>\n      <th>3</th>\n      <td>0</td>\n      <td>elephant</td>\n      <td>1001</td>\n      <td>500</td>\n    </tr>\n    <tr>\n      <th>4</th>\n      <td>17</td>\n      <td>lion</td>\n      <td>1018</td>\n      <td>500</td>\n    </tr>\n    <tr>\n      <th>5</th>\n      <td>20</td>\n      <td>kangaroo</td>\n      <td>1021</td>\n      <td>430</td>\n    </tr>\n    <tr>\n      <th>6</th>\n      <td>15</td>\n      <td>lion</td>\n      <td>1016</td>\n      <td>420</td>\n    </tr>\n    <tr>\n      <th>7</th>\n      <td>19</td>\n      <td>kangaroo</td>\n      <td>1020</td>\n      <td>410</td>\n    </tr>\n    <tr>\n      <th>8</th>\n      <td>21</td>\n      <td>kangaroo</td>\n      <td>1022</td>\n      <td>410</td>\n    </tr>\n    <tr>\n      <th>9</th>\n      <td>18</td>\n      <td>lion</td>\n      <td>1019</td>\n      <td>390</td>\n    </tr>\n    <tr>\n      <th>10</th>\n      <td>5</td>\n      <td>tiger</td>\n      <td>1006</td>\n      <td>330</td>\n    </tr>\n    <tr>\n      <th>11</th>\n      <td>4</td>\n      <td>tiger</td>\n      <td>1005</td>\n      <td>320</td>\n    </tr>\n    <tr>\n      <th>12</th>\n      <td>7</td>\n      <td>tiger</td>\n      <td>1008</td>\n      <td>310</td>\n    </tr>\n    <tr>\n      <th>13</th>\n      <td>3</td>\n      <td>tiger</td>\n      <td>1004</td>\n      <td>300</td>\n    </tr>\n    <tr>\n      <th>14</th>\n      <td>6</td>\n      <td>tiger</td>\n      <td>1007</td>\n      <td>290</td>\n    </tr>\n    <tr>\n      <th>15</th>\n      <td>10</td>\n      <td>zebra</td>\n      <td>1011</td>\n      <td>240</td>\n    </tr>\n    <tr>\n      <th>16</th>\n      <td>11</td>\n      <td>zebra</td>\n      <td>1012</td>\n      <td>230</td>\n    </tr>\n    <tr>\n      <th>17</th>\n      <td>9</td>\n      <td>zebra</td>\n      <td>1010</td>\n      <td>220</td>\n    </tr>\n    <tr>\n      <th>18</th>\n      <td>12</td>\n      <td>zebra</td>\n      <td>1013</td>\n      <td>220</td>\n    </tr>\n    <tr>\n      <th>19</th>\n      <td>8</td>\n      <td>zebra</td>\n      <td>1009</td>\n      <td>200</td>\n    </tr>\n    <tr>\n      <th>20</th>\n      <td>13</td>\n      <td>zebra</td>\n      <td>1014</td>\n      <td>100</td>\n    </tr>\n    <tr>\n      <th>21</th>\n      <td>14</td>\n      <td>zebra</td>\n      <td>1015</td>\n      <td>80</td>\n    </tr>\n  </tbody>\n</table>\n</div>"
     },
     "execution_count": 47,
     "metadata": {},
     "output_type": "execute_result"
    }
   ],
   "source": [
    "zoo.sort_values(by = ['water_need'], ascending = False).reset_index()"
   ]
  },
  {
   "cell_type": "code",
   "execution_count": 48,
   "metadata": {
    "pycharm": {
     "name": "#%%\n"
    }
   },
   "outputs": [
    {
     "data": {
      "text/plain": "      animal  uniq_id  water_need\n0   elephant     1002         600\n1       lion     1017         600\n2   elephant     1003         550\n3   elephant     1001         500\n4       lion     1018         500\n5   kangaroo     1021         430\n6       lion     1016         420\n7   kangaroo     1020         410\n8   kangaroo     1022         410\n9       lion     1019         390\n10     tiger     1006         330\n11     tiger     1005         320\n12     tiger     1008         310\n13     tiger     1004         300\n14     tiger     1007         290\n15     zebra     1011         240\n16     zebra     1012         230\n17     zebra     1010         220\n18     zebra     1013         220\n19     zebra     1009         200\n20     zebra     1014         100\n21     zebra     1015          80",
      "text/html": "<div>\n<style scoped>\n    .dataframe tbody tr th:only-of-type {\n        vertical-align: middle;\n    }\n\n    .dataframe tbody tr th {\n        vertical-align: top;\n    }\n\n    .dataframe thead th {\n        text-align: right;\n    }\n</style>\n<table border=\"1\" class=\"dataframe\">\n  <thead>\n    <tr style=\"text-align: right;\">\n      <th></th>\n      <th>animal</th>\n      <th>uniq_id</th>\n      <th>water_need</th>\n    </tr>\n  </thead>\n  <tbody>\n    <tr>\n      <th>0</th>\n      <td>elephant</td>\n      <td>1002</td>\n      <td>600</td>\n    </tr>\n    <tr>\n      <th>1</th>\n      <td>lion</td>\n      <td>1017</td>\n      <td>600</td>\n    </tr>\n    <tr>\n      <th>2</th>\n      <td>elephant</td>\n      <td>1003</td>\n      <td>550</td>\n    </tr>\n    <tr>\n      <th>3</th>\n      <td>elephant</td>\n      <td>1001</td>\n      <td>500</td>\n    </tr>\n    <tr>\n      <th>4</th>\n      <td>lion</td>\n      <td>1018</td>\n      <td>500</td>\n    </tr>\n    <tr>\n      <th>5</th>\n      <td>kangaroo</td>\n      <td>1021</td>\n      <td>430</td>\n    </tr>\n    <tr>\n      <th>6</th>\n      <td>lion</td>\n      <td>1016</td>\n      <td>420</td>\n    </tr>\n    <tr>\n      <th>7</th>\n      <td>kangaroo</td>\n      <td>1020</td>\n      <td>410</td>\n    </tr>\n    <tr>\n      <th>8</th>\n      <td>kangaroo</td>\n      <td>1022</td>\n      <td>410</td>\n    </tr>\n    <tr>\n      <th>9</th>\n      <td>lion</td>\n      <td>1019</td>\n      <td>390</td>\n    </tr>\n    <tr>\n      <th>10</th>\n      <td>tiger</td>\n      <td>1006</td>\n      <td>330</td>\n    </tr>\n    <tr>\n      <th>11</th>\n      <td>tiger</td>\n      <td>1005</td>\n      <td>320</td>\n    </tr>\n    <tr>\n      <th>12</th>\n      <td>tiger</td>\n      <td>1008</td>\n      <td>310</td>\n    </tr>\n    <tr>\n      <th>13</th>\n      <td>tiger</td>\n      <td>1004</td>\n      <td>300</td>\n    </tr>\n    <tr>\n      <th>14</th>\n      <td>tiger</td>\n      <td>1007</td>\n      <td>290</td>\n    </tr>\n    <tr>\n      <th>15</th>\n      <td>zebra</td>\n      <td>1011</td>\n      <td>240</td>\n    </tr>\n    <tr>\n      <th>16</th>\n      <td>zebra</td>\n      <td>1012</td>\n      <td>230</td>\n    </tr>\n    <tr>\n      <th>17</th>\n      <td>zebra</td>\n      <td>1010</td>\n      <td>220</td>\n    </tr>\n    <tr>\n      <th>18</th>\n      <td>zebra</td>\n      <td>1013</td>\n      <td>220</td>\n    </tr>\n    <tr>\n      <th>19</th>\n      <td>zebra</td>\n      <td>1009</td>\n      <td>200</td>\n    </tr>\n    <tr>\n      <th>20</th>\n      <td>zebra</td>\n      <td>1014</td>\n      <td>100</td>\n    </tr>\n    <tr>\n      <th>21</th>\n      <td>zebra</td>\n      <td>1015</td>\n      <td>80</td>\n    </tr>\n  </tbody>\n</table>\n</div>"
     },
     "execution_count": 48,
     "metadata": {},
     "output_type": "execute_result"
    }
   ],
   "source": [
    "zoo.sort_values(by = ['water_need'], ascending = False).reset_index(drop = True)"
   ]
  },
  {
   "cell_type": "code",
   "execution_count": 49,
   "metadata": {
    "pycharm": {
     "name": "#%%\n"
    }
   },
   "outputs": [
    {
     "data": {
      "text/plain": "      animal  uniq_id  water_need        food\n0   elephant     1001         500  vegetables\n1   elephant     1002         600  vegetables\n2   elephant     1003         550  vegetables\n3      tiger     1004         300        meat\n4      tiger     1005         320        meat\n5      tiger     1006         330        meat\n6      tiger     1007         290        meat\n7      tiger     1008         310        meat\n8      zebra     1009         200  vegetables\n9      zebra     1010         220  vegetables\n10     zebra     1011         240  vegetables\n11     zebra     1012         230  vegetables\n12     zebra     1013         220  vegetables\n13     zebra     1014         100  vegetables\n14     zebra     1015          80  vegetables\n15      lion     1016         420         NaN\n16      lion     1017         600         NaN\n17      lion     1018         500         NaN\n18      lion     1019         390         NaN\n19  kangaroo     1020         410  vegetables\n20  kangaroo     1021         430  vegetables\n21  kangaroo     1022         410  vegetables",
      "text/html": "<div>\n<style scoped>\n    .dataframe tbody tr th:only-of-type {\n        vertical-align: middle;\n    }\n\n    .dataframe tbody tr th {\n        vertical-align: top;\n    }\n\n    .dataframe thead th {\n        text-align: right;\n    }\n</style>\n<table border=\"1\" class=\"dataframe\">\n  <thead>\n    <tr style=\"text-align: right;\">\n      <th></th>\n      <th>animal</th>\n      <th>uniq_id</th>\n      <th>water_need</th>\n      <th>food</th>\n    </tr>\n  </thead>\n  <tbody>\n    <tr>\n      <th>0</th>\n      <td>elephant</td>\n      <td>1001</td>\n      <td>500</td>\n      <td>vegetables</td>\n    </tr>\n    <tr>\n      <th>1</th>\n      <td>elephant</td>\n      <td>1002</td>\n      <td>600</td>\n      <td>vegetables</td>\n    </tr>\n    <tr>\n      <th>2</th>\n      <td>elephant</td>\n      <td>1003</td>\n      <td>550</td>\n      <td>vegetables</td>\n    </tr>\n    <tr>\n      <th>3</th>\n      <td>tiger</td>\n      <td>1004</td>\n      <td>300</td>\n      <td>meat</td>\n    </tr>\n    <tr>\n      <th>4</th>\n      <td>tiger</td>\n      <td>1005</td>\n      <td>320</td>\n      <td>meat</td>\n    </tr>\n    <tr>\n      <th>5</th>\n      <td>tiger</td>\n      <td>1006</td>\n      <td>330</td>\n      <td>meat</td>\n    </tr>\n    <tr>\n      <th>6</th>\n      <td>tiger</td>\n      <td>1007</td>\n      <td>290</td>\n      <td>meat</td>\n    </tr>\n    <tr>\n      <th>7</th>\n      <td>tiger</td>\n      <td>1008</td>\n      <td>310</td>\n      <td>meat</td>\n    </tr>\n    <tr>\n      <th>8</th>\n      <td>zebra</td>\n      <td>1009</td>\n      <td>200</td>\n      <td>vegetables</td>\n    </tr>\n    <tr>\n      <th>9</th>\n      <td>zebra</td>\n      <td>1010</td>\n      <td>220</td>\n      <td>vegetables</td>\n    </tr>\n    <tr>\n      <th>10</th>\n      <td>zebra</td>\n      <td>1011</td>\n      <td>240</td>\n      <td>vegetables</td>\n    </tr>\n    <tr>\n      <th>11</th>\n      <td>zebra</td>\n      <td>1012</td>\n      <td>230</td>\n      <td>vegetables</td>\n    </tr>\n    <tr>\n      <th>12</th>\n      <td>zebra</td>\n      <td>1013</td>\n      <td>220</td>\n      <td>vegetables</td>\n    </tr>\n    <tr>\n      <th>13</th>\n      <td>zebra</td>\n      <td>1014</td>\n      <td>100</td>\n      <td>vegetables</td>\n    </tr>\n    <tr>\n      <th>14</th>\n      <td>zebra</td>\n      <td>1015</td>\n      <td>80</td>\n      <td>vegetables</td>\n    </tr>\n    <tr>\n      <th>15</th>\n      <td>lion</td>\n      <td>1016</td>\n      <td>420</td>\n      <td>NaN</td>\n    </tr>\n    <tr>\n      <th>16</th>\n      <td>lion</td>\n      <td>1017</td>\n      <td>600</td>\n      <td>NaN</td>\n    </tr>\n    <tr>\n      <th>17</th>\n      <td>lion</td>\n      <td>1018</td>\n      <td>500</td>\n      <td>NaN</td>\n    </tr>\n    <tr>\n      <th>18</th>\n      <td>lion</td>\n      <td>1019</td>\n      <td>390</td>\n      <td>NaN</td>\n    </tr>\n    <tr>\n      <th>19</th>\n      <td>kangaroo</td>\n      <td>1020</td>\n      <td>410</td>\n      <td>vegetables</td>\n    </tr>\n    <tr>\n      <th>20</th>\n      <td>kangaroo</td>\n      <td>1021</td>\n      <td>430</td>\n      <td>vegetables</td>\n    </tr>\n    <tr>\n      <th>21</th>\n      <td>kangaroo</td>\n      <td>1022</td>\n      <td>410</td>\n      <td>vegetables</td>\n    </tr>\n  </tbody>\n</table>\n</div>"
     },
     "execution_count": 49,
     "metadata": {},
     "output_type": "execute_result"
    }
   ],
   "source": [
    "zoo.merge(zoo_eats, how = 'left')"
   ]
  },
  {
   "cell_type": "code",
   "execution_count": 50,
   "metadata": {
    "pycharm": {
     "name": "#%%\n"
    }
   },
   "outputs": [
    {
     "data": {
      "text/plain": "      animal  uniq_id  water_need        food\n0   elephant     1001         500  vegetables\n1   elephant     1002         600  vegetables\n2   elephant     1003         550  vegetables\n3      tiger     1004         300        meat\n4      tiger     1005         320        meat\n5      tiger     1006         330        meat\n6      tiger     1007         290        meat\n7      tiger     1008         310        meat\n8      zebra     1009         200  vegetables\n9      zebra     1010         220  vegetables\n10     zebra     1011         240  vegetables\n11     zebra     1012         230  vegetables\n12     zebra     1013         220  vegetables\n13     zebra     1014         100  vegetables\n14     zebra     1015          80  vegetables\n15      lion     1016         420     unknown\n16      lion     1017         600     unknown\n17      lion     1018         500     unknown\n18      lion     1019         390     unknown\n19  kangaroo     1020         410  vegetables\n20  kangaroo     1021         430  vegetables\n21  kangaroo     1022         410  vegetables",
      "text/html": "<div>\n<style scoped>\n    .dataframe tbody tr th:only-of-type {\n        vertical-align: middle;\n    }\n\n    .dataframe tbody tr th {\n        vertical-align: top;\n    }\n\n    .dataframe thead th {\n        text-align: right;\n    }\n</style>\n<table border=\"1\" class=\"dataframe\">\n  <thead>\n    <tr style=\"text-align: right;\">\n      <th></th>\n      <th>animal</th>\n      <th>uniq_id</th>\n      <th>water_need</th>\n      <th>food</th>\n    </tr>\n  </thead>\n  <tbody>\n    <tr>\n      <th>0</th>\n      <td>elephant</td>\n      <td>1001</td>\n      <td>500</td>\n      <td>vegetables</td>\n    </tr>\n    <tr>\n      <th>1</th>\n      <td>elephant</td>\n      <td>1002</td>\n      <td>600</td>\n      <td>vegetables</td>\n    </tr>\n    <tr>\n      <th>2</th>\n      <td>elephant</td>\n      <td>1003</td>\n      <td>550</td>\n      <td>vegetables</td>\n    </tr>\n    <tr>\n      <th>3</th>\n      <td>tiger</td>\n      <td>1004</td>\n      <td>300</td>\n      <td>meat</td>\n    </tr>\n    <tr>\n      <th>4</th>\n      <td>tiger</td>\n      <td>1005</td>\n      <td>320</td>\n      <td>meat</td>\n    </tr>\n    <tr>\n      <th>5</th>\n      <td>tiger</td>\n      <td>1006</td>\n      <td>330</td>\n      <td>meat</td>\n    </tr>\n    <tr>\n      <th>6</th>\n      <td>tiger</td>\n      <td>1007</td>\n      <td>290</td>\n      <td>meat</td>\n    </tr>\n    <tr>\n      <th>7</th>\n      <td>tiger</td>\n      <td>1008</td>\n      <td>310</td>\n      <td>meat</td>\n    </tr>\n    <tr>\n      <th>8</th>\n      <td>zebra</td>\n      <td>1009</td>\n      <td>200</td>\n      <td>vegetables</td>\n    </tr>\n    <tr>\n      <th>9</th>\n      <td>zebra</td>\n      <td>1010</td>\n      <td>220</td>\n      <td>vegetables</td>\n    </tr>\n    <tr>\n      <th>10</th>\n      <td>zebra</td>\n      <td>1011</td>\n      <td>240</td>\n      <td>vegetables</td>\n    </tr>\n    <tr>\n      <th>11</th>\n      <td>zebra</td>\n      <td>1012</td>\n      <td>230</td>\n      <td>vegetables</td>\n    </tr>\n    <tr>\n      <th>12</th>\n      <td>zebra</td>\n      <td>1013</td>\n      <td>220</td>\n      <td>vegetables</td>\n    </tr>\n    <tr>\n      <th>13</th>\n      <td>zebra</td>\n      <td>1014</td>\n      <td>100</td>\n      <td>vegetables</td>\n    </tr>\n    <tr>\n      <th>14</th>\n      <td>zebra</td>\n      <td>1015</td>\n      <td>80</td>\n      <td>vegetables</td>\n    </tr>\n    <tr>\n      <th>15</th>\n      <td>lion</td>\n      <td>1016</td>\n      <td>420</td>\n      <td>unknown</td>\n    </tr>\n    <tr>\n      <th>16</th>\n      <td>lion</td>\n      <td>1017</td>\n      <td>600</td>\n      <td>unknown</td>\n    </tr>\n    <tr>\n      <th>17</th>\n      <td>lion</td>\n      <td>1018</td>\n      <td>500</td>\n      <td>unknown</td>\n    </tr>\n    <tr>\n      <th>18</th>\n      <td>lion</td>\n      <td>1019</td>\n      <td>390</td>\n      <td>unknown</td>\n    </tr>\n    <tr>\n      <th>19</th>\n      <td>kangaroo</td>\n      <td>1020</td>\n      <td>410</td>\n      <td>vegetables</td>\n    </tr>\n    <tr>\n      <th>20</th>\n      <td>kangaroo</td>\n      <td>1021</td>\n      <td>430</td>\n      <td>vegetables</td>\n    </tr>\n    <tr>\n      <th>21</th>\n      <td>kangaroo</td>\n      <td>1022</td>\n      <td>410</td>\n      <td>vegetables</td>\n    </tr>\n  </tbody>\n</table>\n</div>"
     },
     "execution_count": 50,
     "metadata": {},
     "output_type": "execute_result"
    }
   ],
   "source": [
    "zoo.merge(zoo_eats, how = 'left').fillna('unknown')"
   ]
  },
  {
   "cell_type": "code",
   "execution_count": 51,
   "metadata": {
    "scrolled": true,
    "pycharm": {
     "name": "#%%\n"
    }
   },
   "outputs": [
    {
     "data": {
      "text/plain": "      animal  uniq_id  water_need        food\n0   elephant     1001         500  vegetables\n1   elephant     1002         600  vegetables\n2   elephant     1003         550  vegetables\n3      tiger     1004         300        meat\n4      tiger     1005         320        meat\n5      tiger     1006         330        meat\n6      tiger     1007         290        meat\n7      tiger     1008         310        meat\n8      zebra     1009         200  vegetables\n9      zebra     1010         220  vegetables\n10     zebra     1011         240  vegetables\n11     zebra     1012         230  vegetables\n12     zebra     1013         220  vegetables\n13     zebra     1014         100  vegetables\n14     zebra     1015          80  vegetables\n15      lion     1016         420        meat\n16      lion     1017         600        meat\n17      lion     1018         500        meat\n18      lion     1019         390        meat\n19  kangaroo     1020         410  vegetables\n20  kangaroo     1021         430  vegetables\n21  kangaroo     1022         410  vegetables",
      "text/html": "<div>\n<style scoped>\n    .dataframe tbody tr th:only-of-type {\n        vertical-align: middle;\n    }\n\n    .dataframe tbody tr th {\n        vertical-align: top;\n    }\n\n    .dataframe thead th {\n        text-align: right;\n    }\n</style>\n<table border=\"1\" class=\"dataframe\">\n  <thead>\n    <tr style=\"text-align: right;\">\n      <th></th>\n      <th>animal</th>\n      <th>uniq_id</th>\n      <th>water_need</th>\n      <th>food</th>\n    </tr>\n  </thead>\n  <tbody>\n    <tr>\n      <th>0</th>\n      <td>elephant</td>\n      <td>1001</td>\n      <td>500</td>\n      <td>vegetables</td>\n    </tr>\n    <tr>\n      <th>1</th>\n      <td>elephant</td>\n      <td>1002</td>\n      <td>600</td>\n      <td>vegetables</td>\n    </tr>\n    <tr>\n      <th>2</th>\n      <td>elephant</td>\n      <td>1003</td>\n      <td>550</td>\n      <td>vegetables</td>\n    </tr>\n    <tr>\n      <th>3</th>\n      <td>tiger</td>\n      <td>1004</td>\n      <td>300</td>\n      <td>meat</td>\n    </tr>\n    <tr>\n      <th>4</th>\n      <td>tiger</td>\n      <td>1005</td>\n      <td>320</td>\n      <td>meat</td>\n    </tr>\n    <tr>\n      <th>5</th>\n      <td>tiger</td>\n      <td>1006</td>\n      <td>330</td>\n      <td>meat</td>\n    </tr>\n    <tr>\n      <th>6</th>\n      <td>tiger</td>\n      <td>1007</td>\n      <td>290</td>\n      <td>meat</td>\n    </tr>\n    <tr>\n      <th>7</th>\n      <td>tiger</td>\n      <td>1008</td>\n      <td>310</td>\n      <td>meat</td>\n    </tr>\n    <tr>\n      <th>8</th>\n      <td>zebra</td>\n      <td>1009</td>\n      <td>200</td>\n      <td>vegetables</td>\n    </tr>\n    <tr>\n      <th>9</th>\n      <td>zebra</td>\n      <td>1010</td>\n      <td>220</td>\n      <td>vegetables</td>\n    </tr>\n    <tr>\n      <th>10</th>\n      <td>zebra</td>\n      <td>1011</td>\n      <td>240</td>\n      <td>vegetables</td>\n    </tr>\n    <tr>\n      <th>11</th>\n      <td>zebra</td>\n      <td>1012</td>\n      <td>230</td>\n      <td>vegetables</td>\n    </tr>\n    <tr>\n      <th>12</th>\n      <td>zebra</td>\n      <td>1013</td>\n      <td>220</td>\n      <td>vegetables</td>\n    </tr>\n    <tr>\n      <th>13</th>\n      <td>zebra</td>\n      <td>1014</td>\n      <td>100</td>\n      <td>vegetables</td>\n    </tr>\n    <tr>\n      <th>14</th>\n      <td>zebra</td>\n      <td>1015</td>\n      <td>80</td>\n      <td>vegetables</td>\n    </tr>\n    <tr>\n      <th>15</th>\n      <td>lion</td>\n      <td>1016</td>\n      <td>420</td>\n      <td>meat</td>\n    </tr>\n    <tr>\n      <th>16</th>\n      <td>lion</td>\n      <td>1017</td>\n      <td>600</td>\n      <td>meat</td>\n    </tr>\n    <tr>\n      <th>17</th>\n      <td>lion</td>\n      <td>1018</td>\n      <td>500</td>\n      <td>meat</td>\n    </tr>\n    <tr>\n      <th>18</th>\n      <td>lion</td>\n      <td>1019</td>\n      <td>390</td>\n      <td>meat</td>\n    </tr>\n    <tr>\n      <th>19</th>\n      <td>kangaroo</td>\n      <td>1020</td>\n      <td>410</td>\n      <td>vegetables</td>\n    </tr>\n    <tr>\n      <th>20</th>\n      <td>kangaroo</td>\n      <td>1021</td>\n      <td>430</td>\n      <td>vegetables</td>\n    </tr>\n    <tr>\n      <th>21</th>\n      <td>kangaroo</td>\n      <td>1022</td>\n      <td>410</td>\n      <td>vegetables</td>\n    </tr>\n  </tbody>\n</table>\n</div>"
     },
     "execution_count": 51,
     "metadata": {},
     "output_type": "execute_result"
    }
   ],
   "source": [
    "zoo.merge(zoo_eats, how = 'left').fillna('meat')"
   ]
  },
  {
   "cell_type": "code",
   "execution_count": null,
   "metadata": {
    "pycharm": {
     "name": "#%%\n"
    }
   },
   "outputs": [],
   "source": []
  }
 ],
 "metadata": {
  "kernelspec": {
   "display_name": "Python 3",
   "language": "python",
   "name": "python3"
  },
  "language_info": {
   "codemirror_mode": {
    "name": "ipython",
    "version": 3
   },
   "file_extension": ".py",
   "mimetype": "text/x-python",
   "name": "python",
   "nbconvert_exporter": "python",
   "pygments_lexer": "ipython3",
   "version": "3.7.0"
  }
 },
 "nbformat": 4,
 "nbformat_minor": 2
}