{
 "cells": [
  {
   "cell_type": "code",
   "execution_count": 2,
   "metadata": {
    "pycharm": {
     "name": "#%%\n"
    }
   },
   "outputs": [],
   "source": [
    "import pandas as pd"
   ]
  },
  {
   "cell_type": "code",
   "execution_count": 3,
   "metadata": {
    "pycharm": {
     "name": "#%%\n"
    }
   },
   "outputs": [],
   "source": [
    "#用户信息(users.dat表，数据无表目信息)\n",
    "unames=['user_id','gender','age','occupation','zip']"
   ]
  },
  {
   "cell_type": "code",
   "execution_count": 4,
   "metadata": {
    "pycharm": {
     "name": "#%%\n"
    }
   },
   "outputs": [],
   "source": [
    "users=pd.read_table('./ml-1m/users.dat',sep='::',header=None,names=unames,engine='python')"
   ]
  },
  {
   "cell_type": "code",
   "execution_count": 10,
   "metadata": {
    "pycharm": {
     "name": "#%%\n"
    }
   },
   "outputs": [],
   "source": [
    "#评分信息\n",
    "rnames = ['user_id','movie_id','rating','timestamp']"
   ]
  },
  {
   "cell_type": "code",
   "execution_count": 16,
   "metadata": {
    "pycharm": {
     "name": "#%%\n"
    }
   },
   "outputs": [],
   "source": [
    "ratings=pd.read_table('./ml-1m/ratings.dat',sep='::',header=None,names=rnames,engine='python')"
   ]
  },
  {
   "cell_type": "code",
   "execution_count": 17,
   "metadata": {
    "pycharm": {
     "name": "#%%\n"
    }
   },
   "outputs": [],
   "source": [
    "\n",
    "#电影信息\n",
    "mnames = ['movie_id', 'title', 'genres']\n",
    "movies = pd.read_table('./ml-1m/movies.dat', sep='::', header=None, names=mnames, engine='python',encoding=\"ISO-8859-1\")"
   ]
  },
  {
   "cell_type": "code",
   "execution_count": 8,
   "metadata": {
    "pycharm": {
     "name": "#%%\n"
    }
   },
   "outputs": [
    {
     "data": {
      "text/plain": "   user_id gender  age  occupation    zip\n0        1      F    1          10  48067\n1        2      M   56          16  70072\n2        3      M   25          15  55117\n3        4      M   45           7  02460\n4        5      M   25          20  55455",
      "text/html": "<div>\n<style scoped>\n    .dataframe tbody tr th:only-of-type {\n        vertical-align: middle;\n    }\n\n    .dataframe tbody tr th {\n        vertical-align: top;\n    }\n\n    .dataframe thead th {\n        text-align: right;\n    }\n</style>\n<table border=\"1\" class=\"dataframe\">\n  <thead>\n    <tr style=\"text-align: right;\">\n      <th></th>\n      <th>user_id</th>\n      <th>gender</th>\n      <th>age</th>\n      <th>occupation</th>\n      <th>zip</th>\n    </tr>\n  </thead>\n  <tbody>\n    <tr>\n      <th>0</th>\n      <td>1</td>\n      <td>F</td>\n      <td>1</td>\n      <td>10</td>\n      <td>48067</td>\n    </tr>\n    <tr>\n      <th>1</th>\n      <td>2</td>\n      <td>M</td>\n      <td>56</td>\n      <td>16</td>\n      <td>70072</td>\n    </tr>\n    <tr>\n      <th>2</th>\n      <td>3</td>\n      <td>M</td>\n      <td>25</td>\n      <td>15</td>\n      <td>55117</td>\n    </tr>\n    <tr>\n      <th>3</th>\n      <td>4</td>\n      <td>M</td>\n      <td>45</td>\n      <td>7</td>\n      <td>02460</td>\n    </tr>\n    <tr>\n      <th>4</th>\n      <td>5</td>\n      <td>M</td>\n      <td>25</td>\n      <td>20</td>\n      <td>55455</td>\n    </tr>\n  </tbody>\n</table>\n</div>"
     },
     "execution_count": 8,
     "metadata": {},
     "output_type": "execute_result"
    }
   ],
   "source": [
    "users[:5]"
   ]
  },
  {
   "cell_type": "code",
   "execution_count": 18,
   "metadata": {
    "pycharm": {
     "name": "#%%\n"
    }
   },
   "outputs": [],
   "source": [
    "data=pd.merge(pd.merge(ratings,users),movies)"
   ]
  },
  {
   "cell_type": "code",
   "execution_count": 19,
   "metadata": {
    "pycharm": {
     "name": "#%%\n"
    }
   },
   "outputs": [],
   "source": [
    "mean_ratings=data.pivot_table('rating',index=[\"title\"],columns=[\"gender\"],aggfunc=\"mean\")"
   ]
  },
  {
   "cell_type": "code",
   "execution_count": 20,
   "metadata": {
    "pycharm": {
     "name": "#%%\n"
    }
   },
   "outputs": [
    {
     "data": {
      "text/plain": "gender                                             F         M\ntitle                                                         \n$1,000,000 Duck (1971)                      3.375000  2.761905\n'Night Mother (1986)                        3.388889  3.352941\n'Til There Was You (1997)                   2.675676  2.733333\n'burbs, The (1989)                          2.793478  2.962085\n...And Justice for All (1979)               3.828571  3.689024\n...                                              ...       ...\nZed & Two Noughts, A (1985)                 3.500000  3.380952\nZero Effect (1998)                          3.864407  3.723140\nZero Kelvin (Kjærlighetens kjøtere) (1995)       NaN  3.500000\nZeus and Roxanne (1997)                     2.777778  2.357143\neXistenZ (1999)                             3.098592  3.289086\n\n[3706 rows x 2 columns]",
      "text/html": "<div>\n<style scoped>\n    .dataframe tbody tr th:only-of-type {\n        vertical-align: middle;\n    }\n\n    .dataframe tbody tr th {\n        vertical-align: top;\n    }\n\n    .dataframe thead th {\n        text-align: right;\n    }\n</style>\n<table border=\"1\" class=\"dataframe\">\n  <thead>\n    <tr style=\"text-align: right;\">\n      <th>gender</th>\n      <th>F</th>\n      <th>M</th>\n    </tr>\n    <tr>\n      <th>title</th>\n      <th></th>\n      <th></th>\n    </tr>\n  </thead>\n  <tbody>\n    <tr>\n      <th>$1,000,000 Duck (1971)</th>\n      <td>3.375000</td>\n      <td>2.761905</td>\n    </tr>\n    <tr>\n      <th>'Night Mother (1986)</th>\n      <td>3.388889</td>\n      <td>3.352941</td>\n    </tr>\n    <tr>\n      <th>'Til There Was You (1997)</th>\n      <td>2.675676</td>\n      <td>2.733333</td>\n    </tr>\n    <tr>\n      <th>'burbs, The (1989)</th>\n      <td>2.793478</td>\n      <td>2.962085</td>\n    </tr>\n    <tr>\n      <th>...And Justice for All (1979)</th>\n      <td>3.828571</td>\n      <td>3.689024</td>\n    </tr>\n    <tr>\n      <th>...</th>\n      <td>...</td>\n      <td>...</td>\n    </tr>\n    <tr>\n      <th>Zed &amp; Two Noughts, A (1985)</th>\n      <td>3.500000</td>\n      <td>3.380952</td>\n    </tr>\n    <tr>\n      <th>Zero Effect (1998)</th>\n      <td>3.864407</td>\n      <td>3.723140</td>\n    </tr>\n    <tr>\n      <th>Zero Kelvin (Kjærlighetens kjøtere) (1995)</th>\n      <td>NaN</td>\n      <td>3.500000</td>\n    </tr>\n    <tr>\n      <th>Zeus and Roxanne (1997)</th>\n      <td>2.777778</td>\n      <td>2.357143</td>\n    </tr>\n    <tr>\n      <th>eXistenZ (1999)</th>\n      <td>3.098592</td>\n      <td>3.289086</td>\n    </tr>\n  </tbody>\n</table>\n<p>3706 rows × 2 columns</p>\n</div>"
     },
     "execution_count": 20,
     "metadata": {},
     "output_type": "execute_result"
    }
   ],
   "source": [
    "mean_ratings"
   ]
  },
  {
   "cell_type": "code",
   "execution_count": 21,
   "metadata": {
    "pycharm": {
     "name": "#%%\n"
    }
   },
   "outputs": [],
   "source": [
    "#分组过滤\n",
    "ratings_by_title = data.groupby('title').size()"
   ]
  },
  {
   "cell_type": "code",
   "execution_count": 22,
   "metadata": {
    "pycharm": {
     "name": "#%%\n"
    }
   },
   "outputs": [
    {
     "name": "stdout",
     "output_type": "stream",
     "text": [
      "title\n",
      "$1,000,000 Duck (1971)                         37\n",
      "'Night Mother (1986)                           70\n",
      "'Til There Was You (1997)                      52\n",
      "'burbs, The (1989)                            303\n",
      "...And Justice for All (1979)                 199\n",
      "                                             ... \n",
      "Zed & Two Noughts, A (1985)                    29\n",
      "Zero Effect (1998)                            301\n",
      "Zero Kelvin (Kjærlighetens kjøtere) (1995)      2\n",
      "Zeus and Roxanne (1997)                        23\n",
      "eXistenZ (1999)                               410\n",
      "Length: 3706, dtype: int64\n"
     ]
    }
   ],
   "source": [
    "print(ratings_by_title)"
   ]
  },
  {
   "cell_type": "code",
   "execution_count": 23,
   "metadata": {
    "pycharm": {
     "name": "#%%\n"
    }
   },
   "outputs": [],
   "source": [
    "active_titles = ratings_by_title.index[ratings_by_title >= 250]"
   ]
  },
  {
   "cell_type": "code",
   "execution_count": 24,
   "metadata": {
    "pycharm": {
     "name": "#%%\n"
    }
   },
   "outputs": [
    {
     "name": "stdout",
     "output_type": "stream",
     "text": [
      "Index([''burbs, The (1989)', '10 Things I Hate About You (1999)',\n",
      "       '101 Dalmatians (1961)', '101 Dalmatians (1996)', '12 Angry Men (1957)',\n",
      "       '13th Warrior, The (1999)', '2 Days in the Valley (1996)',\n",
      "       '20,000 Leagues Under the Sea (1954)', '2001: A Space Odyssey (1968)',\n",
      "       '2010 (1984)',\n",
      "       ...\n",
      "       'X-Men (2000)', 'Year of Living Dangerously (1982)',\n",
      "       'Yellow Submarine (1968)', 'You've Got Mail (1998)',\n",
      "       'Young Frankenstein (1974)', 'Young Guns (1988)',\n",
      "       'Young Guns II (1990)', 'Young Sherlock Holmes (1985)',\n",
      "       'Zero Effect (1998)', 'eXistenZ (1999)'],\n",
      "      dtype='object', name='title', length=1216)\n"
     ]
    }
   ],
   "source": [
    "print(active_titles)"
   ]
  },
  {
   "cell_type": "code",
   "execution_count": 25,
   "metadata": {
    "pycharm": {
     "name": "#%%\n"
    }
   },
   "outputs": [
    {
     "data": {
      "text/plain": "pandas.core.indexes.base.Index"
     },
     "execution_count": 25,
     "metadata": {},
     "output_type": "execute_result"
    }
   ],
   "source": [
    "type(active_titles)"
   ]
  },
  {
   "cell_type": "code",
   "execution_count": 26,
   "metadata": {
    "pycharm": {
     "name": "#%%\n"
    }
   },
   "outputs": [
    {
     "data": {
      "text/plain": "pandas.core.series.Series"
     },
     "execution_count": 26,
     "metadata": {},
     "output_type": "execute_result"
    }
   ],
   "source": [
    "type(ratings_by_title)"
   ]
  },
  {
   "cell_type": "code",
   "execution_count": 27,
   "metadata": {
    "pycharm": {
     "name": "#%%\n"
    }
   },
   "outputs": [],
   "source": [
    "#数据筛选\n",
    "mean_ratings = mean_ratings.loc[active_titles]"
   ]
  },
  {
   "cell_type": "code",
   "execution_count": 28,
   "metadata": {
    "pycharm": {
     "name": "#%%\n"
    }
   },
   "outputs": [
    {
     "data": {
      "text/plain": "pandas.core.frame.DataFrame"
     },
     "execution_count": 28,
     "metadata": {},
     "output_type": "execute_result"
    }
   ],
   "source": [
    "type(mean_ratings)"
   ]
  },
  {
   "cell_type": "code",
   "execution_count": 29,
   "metadata": {
    "pycharm": {
     "name": "#%%\n"
    }
   },
   "outputs": [
    {
     "name": "stdout",
     "output_type": "stream",
     "text": [
      "gender                                    F         M\n",
      "title                                                \n",
      "'burbs, The (1989)                 2.793478  2.962085\n",
      "10 Things I Hate About You (1999)  3.646552  3.311966\n",
      "101 Dalmatians (1961)              3.791444  3.500000\n",
      "101 Dalmatians (1996)              3.240000  2.911215\n",
      "12 Angry Men (1957)                4.184397  4.328421\n",
      "...                                     ...       ...\n",
      "Young Guns (1988)                  3.371795  3.425620\n",
      "Young Guns II (1990)               2.934783  2.904025\n",
      "Young Sherlock Holmes (1985)       3.514706  3.363344\n",
      "Zero Effect (1998)                 3.864407  3.723140\n",
      "eXistenZ (1999)                    3.098592  3.289086\n",
      "\n",
      "[1216 rows x 2 columns]\n"
     ]
    }
   ],
   "source": [
    "print(mean_ratings )"
   ]
  },
  {
   "cell_type": "code",
   "execution_count": 30,
   "metadata": {
    "pycharm": {
     "name": "#%%\n"
    }
   },
   "outputs": [],
   "source": [
    "#数据排序\n",
    "#查看男性观众喜欢的电影，可以按性别列进行降序操列\n",
    "top_male_ratings = mean_ratings.sort_values(by= 'M',ascending=False)"
   ]
  },
  {
   "cell_type": "code",
   "execution_count": 31,
   "metadata": {
    "pycharm": {
     "name": "#%%\n"
    }
   },
   "outputs": [
    {
     "data": {
      "text/plain": "pandas.core.frame.DataFrame"
     },
     "execution_count": 31,
     "metadata": {},
     "output_type": "execute_result"
    }
   ],
   "source": [
    "type(top_male_ratings)"
   ]
  },
  {
   "cell_type": "code",
   "execution_count": 32,
   "metadata": {
    "pycharm": {
     "name": "#%%\n"
    }
   },
   "outputs": [
    {
     "name": "stdout",
     "output_type": "stream",
     "text": [
      "gender                                                     F         M\n",
      "title                                                                 \n",
      "Godfather, The (1972)                               4.314700  4.583333\n",
      "Seven Samurai (The Magnificent Seven) (Shichini...  4.481132  4.576628\n",
      "Shawshank Redemption, The (1994)                    4.539075  4.560625\n",
      "Raiders of the Lost Ark (1981)                      4.332168  4.520597\n",
      "Usual Suspects, The (1995)                          4.513317  4.518248\n",
      "...                                                      ...       ...\n",
      "Speed 2: Cruise Control (1997)                      1.906667  1.863014\n",
      "Superman IV: The Quest for Peace (1987)             2.216216  1.847458\n",
      "Super Mario Bros. (1993)                            2.163636  1.820339\n",
      "Grease 2 (1982)                                     2.243478  1.792553\n",
      "Battlefield Earth (2000)                            1.574468  1.616949\n",
      "\n",
      "[1216 rows x 2 columns]\n"
     ]
    }
   ],
   "source": [
    "print(top_male_ratings)"
   ]
  },
  {
   "cell_type": "code",
   "execution_count": 33,
   "metadata": {
    "pycharm": {
     "name": "#%%\n"
    }
   },
   "outputs": [],
   "source": [
    "#假设我们想要找出男性和女性观众分歧最大的电影。一个办法是给mean_ratings加上一个用于存放平均得分之差的列，并对其进行排序：\n",
    "mean_ratings['diff'] = mean_ratings['M'] - mean_ratings['F']"
   ]
  },
  {
   "cell_type": "code",
   "execution_count": 34,
   "metadata": {
    "pycharm": {
     "name": "#%%\n"
    }
   },
   "outputs": [
    {
     "data": {
      "text/plain": "pandas.core.series.Series"
     },
     "execution_count": 34,
     "metadata": {},
     "output_type": "execute_result"
    }
   ],
   "source": [
    "type(mean_ratings['diff'])"
   ]
  },
  {
   "cell_type": "code",
   "execution_count": 35,
   "metadata": {
    "pycharm": {
     "name": "#%%\n"
    }
   },
   "outputs": [],
   "source": [
    "sort_by_diff = mean_ratings.sort_values(by= 'diff',ascending=False)"
   ]
  },
  {
   "cell_type": "code",
   "execution_count": 36,
   "metadata": {
    "pycharm": {
     "name": "#%%\n"
    }
   },
   "outputs": [
    {
     "data": {
      "text/plain": "pandas.core.frame.DataFrame"
     },
     "execution_count": 36,
     "metadata": {},
     "output_type": "execute_result"
    }
   ],
   "source": [
    "type(sort_by_diff)"
   ]
  },
  {
   "cell_type": "code",
   "execution_count": 37,
   "metadata": {
    "pycharm": {
     "name": "#%%\n"
    }
   },
   "outputs": [
    {
     "data": {
      "text/plain": "gender                                         F         M      diff\ntitle                                                               \nGood, The Bad and The Ugly, The (1966)  3.494949  4.221300  0.726351\nKentucky Fried Movie, The (1977)        2.878788  3.555147  0.676359\nDumb & Dumber (1994)                    2.697987  3.336595  0.638608\nLongest Day, The (1962)                 3.411765  4.031447  0.619682\nCable Guy, The (1996)                   2.250000  2.863787  0.613787",
      "text/html": "<div>\n<style scoped>\n    .dataframe tbody tr th:only-of-type {\n        vertical-align: middle;\n    }\n\n    .dataframe tbody tr th {\n        vertical-align: top;\n    }\n\n    .dataframe thead th {\n        text-align: right;\n    }\n</style>\n<table border=\"1\" class=\"dataframe\">\n  <thead>\n    <tr style=\"text-align: right;\">\n      <th>gender</th>\n      <th>F</th>\n      <th>M</th>\n      <th>diff</th>\n    </tr>\n    <tr>\n      <th>title</th>\n      <th></th>\n      <th></th>\n      <th></th>\n    </tr>\n  </thead>\n  <tbody>\n    <tr>\n      <th>Good, The Bad and The Ugly, The (1966)</th>\n      <td>3.494949</td>\n      <td>4.221300</td>\n      <td>0.726351</td>\n    </tr>\n    <tr>\n      <th>Kentucky Fried Movie, The (1977)</th>\n      <td>2.878788</td>\n      <td>3.555147</td>\n      <td>0.676359</td>\n    </tr>\n    <tr>\n      <th>Dumb &amp; Dumber (1994)</th>\n      <td>2.697987</td>\n      <td>3.336595</td>\n      <td>0.638608</td>\n    </tr>\n    <tr>\n      <th>Longest Day, The (1962)</th>\n      <td>3.411765</td>\n      <td>4.031447</td>\n      <td>0.619682</td>\n    </tr>\n    <tr>\n      <th>Cable Guy, The (1996)</th>\n      <td>2.250000</td>\n      <td>2.863787</td>\n      <td>0.613787</td>\n    </tr>\n  </tbody>\n</table>\n</div>"
     },
     "execution_count": 37,
     "metadata": {},
     "output_type": "execute_result"
    }
   ],
   "source": [
    "sort_by_diff[:5]"
   ]
  },
  {
   "cell_type": "code",
   "execution_count": 38,
   "metadata": {
    "pycharm": {
     "name": "#%%\n"
    }
   },
   "outputs": [],
   "source": [
    "#以下开始分析movielen20M\n"
   ]
  },
  {
   "cell_type": "code",
   "execution_count": 39,
   "metadata": {
    "pycharm": {
     "name": "#%%\n"
    }
   },
   "outputs": [],
   "source": [
    "ratings=pd.read_csv('./ml-20m/ratings.csv',header=0)"
   ]
  },
  {
   "cell_type": "code",
   "execution_count": 40,
   "metadata": {
    "pycharm": {
     "name": "#%%\n"
    }
   },
   "outputs": [
    {
     "data": {
      "text/plain": "pandas.core.frame.DataFrame"
     },
     "execution_count": 40,
     "metadata": {},
     "output_type": "execute_result"
    }
   ],
   "source": [
    "type(ratings)"
   ]
  },
  {
   "cell_type": "code",
   "execution_count": 41,
   "metadata": {
    "pycharm": {
     "name": "#%%\n"
    }
   },
   "outputs": [],
   "source": [
    "movies = pd.read_csv('./ml-20m/movies.csv',header=0)"
   ]
  },
  {
   "cell_type": "code",
   "execution_count": 42,
   "metadata": {
    "pycharm": {
     "name": "#%%\n"
    }
   },
   "outputs": [
    {
     "data": {
      "text/plain": "   userId  movieId  rating   timestamp\n0       1        2     3.5  1112486027\n1       1       29     3.5  1112484676\n2       1       32     3.5  1112484819\n3       1       47     3.5  1112484727\n4       1       50     3.5  1112484580",
      "text/html": "<div>\n<style scoped>\n    .dataframe tbody tr th:only-of-type {\n        vertical-align: middle;\n    }\n\n    .dataframe tbody tr th {\n        vertical-align: top;\n    }\n\n    .dataframe thead th {\n        text-align: right;\n    }\n</style>\n<table border=\"1\" class=\"dataframe\">\n  <thead>\n    <tr style=\"text-align: right;\">\n      <th></th>\n      <th>userId</th>\n      <th>movieId</th>\n      <th>rating</th>\n      <th>timestamp</th>\n    </tr>\n  </thead>\n  <tbody>\n    <tr>\n      <th>0</th>\n      <td>1</td>\n      <td>2</td>\n      <td>3.5</td>\n      <td>1112486027</td>\n    </tr>\n    <tr>\n      <th>1</th>\n      <td>1</td>\n      <td>29</td>\n      <td>3.5</td>\n      <td>1112484676</td>\n    </tr>\n    <tr>\n      <th>2</th>\n      <td>1</td>\n      <td>32</td>\n      <td>3.5</td>\n      <td>1112484819</td>\n    </tr>\n    <tr>\n      <th>3</th>\n      <td>1</td>\n      <td>47</td>\n      <td>3.5</td>\n      <td>1112484727</td>\n    </tr>\n    <tr>\n      <th>4</th>\n      <td>1</td>\n      <td>50</td>\n      <td>3.5</td>\n      <td>1112484580</td>\n    </tr>\n  </tbody>\n</table>\n</div>"
     },
     "execution_count": 42,
     "metadata": {},
     "output_type": "execute_result"
    }
   ],
   "source": [
    "ratings[0:5]"
   ]
  },
  {
   "cell_type": "code",
   "execution_count": 43,
   "metadata": {
    "pycharm": {
     "name": "#%%\n"
    }
   },
   "outputs": [
    {
     "data": {
      "text/plain": "   movieId                               title  \\\n0        1                    Toy Story (1995)   \n1        2                      Jumanji (1995)   \n2        3             Grumpier Old Men (1995)   \n3        4            Waiting to Exhale (1995)   \n4        5  Father of the Bride Part II (1995)   \n\n                                        genres  \n0  Adventure|Animation|Children|Comedy|Fantasy  \n1                   Adventure|Children|Fantasy  \n2                               Comedy|Romance  \n3                         Comedy|Drama|Romance  \n4                                       Comedy  ",
      "text/html": "<div>\n<style scoped>\n    .dataframe tbody tr th:only-of-type {\n        vertical-align: middle;\n    }\n\n    .dataframe tbody tr th {\n        vertical-align: top;\n    }\n\n    .dataframe thead th {\n        text-align: right;\n    }\n</style>\n<table border=\"1\" class=\"dataframe\">\n  <thead>\n    <tr style=\"text-align: right;\">\n      <th></th>\n      <th>movieId</th>\n      <th>title</th>\n      <th>genres</th>\n    </tr>\n  </thead>\n  <tbody>\n    <tr>\n      <th>0</th>\n      <td>1</td>\n      <td>Toy Story (1995)</td>\n      <td>Adventure|Animation|Children|Comedy|Fantasy</td>\n    </tr>\n    <tr>\n      <th>1</th>\n      <td>2</td>\n      <td>Jumanji (1995)</td>\n      <td>Adventure|Children|Fantasy</td>\n    </tr>\n    <tr>\n      <th>2</th>\n      <td>3</td>\n      <td>Grumpier Old Men (1995)</td>\n      <td>Comedy|Romance</td>\n    </tr>\n    <tr>\n      <th>3</th>\n      <td>4</td>\n      <td>Waiting to Exhale (1995)</td>\n      <td>Comedy|Drama|Romance</td>\n    </tr>\n    <tr>\n      <th>4</th>\n      <td>5</td>\n      <td>Father of the Bride Part II (1995)</td>\n      <td>Comedy</td>\n    </tr>\n  </tbody>\n</table>\n</div>"
     },
     "execution_count": 43,
     "metadata": {},
     "output_type": "execute_result"
    }
   ],
   "source": [
    "movies[0:5]"
   ]
  },
  {
   "cell_type": "code",
   "execution_count": 44,
   "metadata": {
    "pycharm": {
     "name": "#%%\n"
    }
   },
   "outputs": [],
   "source": [
    "data = ratings.merge(movies,on='movieId') #区分大小写"
   ]
  },
  {
   "cell_type": "code",
   "execution_count": 45,
   "metadata": {
    "pycharm": {
     "name": "#%%\n"
    }
   },
   "outputs": [
    {
     "data": {
      "text/plain": "pandas.core.frame.DataFrame"
     },
     "execution_count": 45,
     "metadata": {},
     "output_type": "execute_result"
    }
   ],
   "source": [
    "type(data)"
   ]
  },
  {
   "cell_type": "code",
   "execution_count": 46,
   "metadata": {
    "pycharm": {
     "name": "#%%\n"
    }
   },
   "outputs": [],
   "source": [
    "rating_by_title=data.groupby('title').size()"
   ]
  },
  {
   "cell_type": "code",
   "execution_count": 47,
   "metadata": {
    "pycharm": {
     "name": "#%%\n"
    }
   },
   "outputs": [
    {
     "name": "stdout",
     "output_type": "stream",
     "text": [
      "title\n",
      "\"Great Performances\" Cats (1998)                               155\n",
      "#chicagoGirl: The Social Network Takes on a Dictator (2013)      3\n",
      "$ (Dollars) (1971)                                              24\n",
      "$5 a Day (2008)                                                 39\n",
      "$9.99 (2008)                                                    55\n",
      "                                                              ... \n",
      "À propos de Nice (1930)                                          4\n",
      "Árido Movie (2005)                                               1\n",
      "Åsa-Nisse - Wälkom to Knohult (2011)                             2\n",
      "Üvegtigris (2001)                                                1\n",
      "貞子3D (2012)                                                      1\n",
      "Length: 26729, dtype: int64\n"
     ]
    }
   ],
   "source": [
    "print(rating_by_title)"
   ]
  },
  {
   "cell_type": "code",
   "execution_count": 48,
   "metadata": {
    "pycharm": {
     "name": "#%%\n"
    }
   },
   "outputs": [
    {
     "data": {
      "text/plain": "title\nPulp Fiction (1994)                          67310\nForrest Gump (1994)                          66172\nShawshank Redemption, The (1994)             63366\nSilence of the Lambs, The (1991)             63299\nJurassic Park (1993)                         59715\nStar Wars: Episode IV - A New Hope (1977)    54502\nBraveheart (1995)                            53769\nTerminator 2: Judgment Day (1991)            52244\nMatrix, The (1999)                           51334\nSchindler's List (1993)                      50054\ndtype: int64"
     },
     "execution_count": 48,
     "metadata": {},
     "output_type": "execute_result"
    }
   ],
   "source": [
    "rating_by_title.sort_values(ascending=False)[:10]"
   ]
  },
  {
   "cell_type": "code",
   "execution_count": 49,
   "metadata": {
    "pycharm": {
     "name": "#%%\n"
    }
   },
   "outputs": [],
   "source": [
    "#筛选一万以上的评论\n",
    "active_title=rating_by_title.index[rating_by_title>=10000]"
   ]
  },
  {
   "cell_type": "code",
   "execution_count": 50,
   "metadata": {
    "pycharm": {
     "name": "#%%\n"
    }
   },
   "outputs": [
    {
     "name": "stdout",
     "output_type": "stream",
     "text": [
      "Index(['10 Things I Hate About You (1999)', '12 Angry Men (1957)',\n",
      "       '2001: A Space Odyssey (1968)', '28 Days Later (2002)', '300 (2007)',\n",
      "       'A.I. Artificial Intelligence (2001)', 'Abyss, The (1989)',\n",
      "       'Ace Ventura: Pet Detective (1994)',\n",
      "       'Ace Ventura: When Nature Calls (1995)', 'Addams Family Values (1993)',\n",
      "       ...\n",
      "       'Wild Wild West (1999)', 'William Shakespeare's Romeo + Juliet (1996)',\n",
      "       'Willy Wonka & the Chocolate Factory (1971)', 'Witness (1985)',\n",
      "       'Wizard of Oz, The (1939)', 'X-Files: Fight the Future, The (1998)',\n",
      "       'X-Men (2000)', 'X2: X-Men United (2003)', 'You've Got Mail (1998)',\n",
      "       'Young Frankenstein (1974)'],\n",
      "      dtype='object', name='title', length=462)\n"
     ]
    }
   ],
   "source": [
    "print(active_title)"
   ]
  },
  {
   "cell_type": "code",
   "execution_count": 51,
   "metadata": {
    "pycharm": {
     "name": "#%%\n"
    }
   },
   "outputs": [],
   "source": [
    "#得出这部分影片的平均分\n",
    "mean_ratings=data.pivot_table('rating','title',aggfunc='mean')"
   ]
  },
  {
   "cell_type": "code",
   "execution_count": 52,
   "metadata": {
    "pycharm": {
     "name": "#%%\n"
    }
   },
   "outputs": [
    {
     "name": "stdout",
     "output_type": "stream",
     "text": [
      "                                                      rating\n",
      "title                                                       \n",
      "\"Great Performances\" Cats (1998)                    2.748387\n",
      "#chicagoGirl: The Social Network Takes on a Dic...  3.666667\n",
      "$ (Dollars) (1971)                                  2.833333\n",
      "$5 a Day (2008)                                     2.871795\n",
      "$9.99 (2008)                                        3.009091\n",
      "...                                                      ...\n",
      "À propos de Nice (1930)                             3.125000\n",
      "Árido Movie (2005)                                  2.000000\n",
      "Åsa-Nisse - Wälkom to Knohult (2011)                1.500000\n",
      "Üvegtigris (2001)                                   3.000000\n",
      "貞子3D (2012)                                         1.500000\n",
      "\n",
      "[26729 rows x 1 columns]\n"
     ]
    }
   ],
   "source": [
    "print(mean_ratings)"
   ]
  },
  {
   "cell_type": "code",
   "execution_count": 53,
   "metadata": {
    "pycharm": {
     "name": "#%%\n"
    }
   },
   "outputs": [],
   "source": [
    "mean_ratings=mean_ratings.loc[active_title]"
   ]
  },
  {
   "cell_type": "code",
   "execution_count": 54,
   "metadata": {
    "pycharm": {
     "name": "#%%\n"
    }
   },
   "outputs": [
    {
     "name": "stdout",
     "output_type": "stream",
     "text": [
      "                                         rating\n",
      "title                                          \n",
      "10 Things I Hate About You (1999)      3.473909\n",
      "12 Angry Men (1957)                    4.224138\n",
      "2001: A Space Odyssey (1968)           3.955748\n",
      "28 Days Later (2002)                   3.752424\n",
      "300 (2007)                             3.672342\n",
      "...                                         ...\n",
      "X-Files: Fight the Future, The (1998)  3.328451\n",
      "X-Men (2000)                           3.599009\n",
      "X2: X-Men United (2003)                3.681243\n",
      "You've Got Mail (1998)                 3.144028\n",
      "Young Frankenstein (1974)              3.996785\n",
      "\n",
      "[462 rows x 1 columns]\n"
     ]
    }
   ],
   "source": [
    "print(mean_ratings)"
   ]
  },
  {
   "cell_type": "code",
   "execution_count": 55,
   "metadata": {
    "pycharm": {
     "name": "#%%\n"
    }
   },
   "outputs": [
    {
     "data": {
      "text/plain": "                                         rating\ntitle                                          \nShawshank Redemption, The (1994)       4.446990\nGodfather, The (1972)                  4.364732\nUsual Suspects, The (1995)             4.334372\nSchindler's List (1993)                4.310175\nGodfather: Part II, The (1974)         4.275641\n...                                         ...\nAce Ventura: When Nature Calls (1995)  2.607412\nCongo (1995)                           2.604744\nConeheads (1993)                       2.593559\nJudge Dredd (1995)                     2.538285\nWild Wild West (1999)                  2.292716\n\n[462 rows x 1 columns]",
      "text/html": "<div>\n<style scoped>\n    .dataframe tbody tr th:only-of-type {\n        vertical-align: middle;\n    }\n\n    .dataframe tbody tr th {\n        vertical-align: top;\n    }\n\n    .dataframe thead th {\n        text-align: right;\n    }\n</style>\n<table border=\"1\" class=\"dataframe\">\n  <thead>\n    <tr style=\"text-align: right;\">\n      <th></th>\n      <th>rating</th>\n    </tr>\n    <tr>\n      <th>title</th>\n      <th></th>\n    </tr>\n  </thead>\n  <tbody>\n    <tr>\n      <th>Shawshank Redemption, The (1994)</th>\n      <td>4.446990</td>\n    </tr>\n    <tr>\n      <th>Godfather, The (1972)</th>\n      <td>4.364732</td>\n    </tr>\n    <tr>\n      <th>Usual Suspects, The (1995)</th>\n      <td>4.334372</td>\n    </tr>\n    <tr>\n      <th>Schindler's List (1993)</th>\n      <td>4.310175</td>\n    </tr>\n    <tr>\n      <th>Godfather: Part II, The (1974)</th>\n      <td>4.275641</td>\n    </tr>\n    <tr>\n      <th>...</th>\n      <td>...</td>\n    </tr>\n    <tr>\n      <th>Ace Ventura: When Nature Calls (1995)</th>\n      <td>2.607412</td>\n    </tr>\n    <tr>\n      <th>Congo (1995)</th>\n      <td>2.604744</td>\n    </tr>\n    <tr>\n      <th>Coneheads (1993)</th>\n      <td>2.593559</td>\n    </tr>\n    <tr>\n      <th>Judge Dredd (1995)</th>\n      <td>2.538285</td>\n    </tr>\n    <tr>\n      <th>Wild Wild West (1999)</th>\n      <td>2.292716</td>\n    </tr>\n  </tbody>\n</table>\n<p>462 rows × 1 columns</p>\n</div>"
     },
     "execution_count": 55,
     "metadata": {},
     "output_type": "execute_result"
    }
   ],
   "source": [
    "#按分数从多到少排序\n",
    "mean_ratings.sort_values(by=['rating'],ascending=False)"
   ]
  },
  {
   "cell_type": "code",
   "execution_count": 56,
   "metadata": {
    "pycharm": {
     "name": "#%%\n"
    }
   },
   "outputs": [
    {
     "data": {
      "text/plain": "title\nQuatsch und die Nasenbärbande (2014)                                       3.181981\nUwasa No Onna (The Woman in the Rumor) (Her Mother's Profession) (1954)    3.181981\nBright Victory (1951)                                                      3.181981\nWillie & Phil (1980)                                                       3.181981\nApostle Peter and The Last Supper (2012)                                   2.828427\n                                                                             ...   \nalaskaLand (2013)                                                               NaN\ni hate myself :) (2013)                                                         NaN\nÁrido Movie (2005)                                                              NaN\nÜvegtigris (2001)                                                               NaN\n貞子3D (2012)                                                                     NaN\nName: rating, Length: 26729, dtype: float64"
     },
     "execution_count": 56,
     "metadata": {},
     "output_type": "execute_result"
    }
   ],
   "source": [
    "#评论数与评分差距较大的电影\n",
    "rating_std_by_title=data.groupby('title')['rating'].std()\n",
    "rating_std_by_title.sort_values(ascending=False)"
   ]
  },
  {
   "cell_type": "code",
   "execution_count": null,
   "metadata": {
    "pycharm": {
     "name": "#%%\n"
    }
   },
   "outputs": [],
   "source": []
  }
 ],
 "metadata": {
  "kernelspec": {
   "display_name": "Python 3",
   "language": "python",
   "name": "python3"
  },
  "language_info": {
   "codemirror_mode": {
    "name": "ipython",
    "version": 3
   },
   "file_extension": ".py",
   "mimetype": "text/x-python",
   "name": "python",
   "nbconvert_exporter": "python",
   "pygments_lexer": "ipython3",
   "version": "3.7.0"
  }
 },
 "nbformat": 4,
 "nbformat_minor": 2
}