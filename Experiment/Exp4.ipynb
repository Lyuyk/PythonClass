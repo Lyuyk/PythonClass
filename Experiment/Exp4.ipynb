{
 "cells": [
  {
   "cell_type": "markdown",
   "metadata": {
    "pycharm": {
     "name": "#%% md\n"
    }
   },
   "source": [
    "# 一.加载数据"
   ]
  },
  {
   "cell_type": "code",
   "execution_count": 2,
   "metadata": {
    "pycharm": {
     "name": "#%%\n"
    },
    "scrolled": true
   },
   "outputs": [],
   "source": [
    "#1.加载处理数据所需要的库\n",
    "import pandas as pd  \n",
    "\n",
    "#2.读取数据文件\n",
    "df = pd.read_excel('./src/order2019.xlsx',index_col='id')\n",
    " #104557行 "
   ]
  },
  {
   "cell_type": "code",
   "execution_count": 6,
   "metadata": {
    "pycharm": {
     "name": "#%%\n"
    }
   },
   "outputs": [
    {
     "name": "stdout",
     "output_type": "stream",
     "text": [
      "<class 'pandas.core.frame.DataFrame'>\n",
      "Int64Index: 104557 entries, 1 to 104557\n",
      "Data columns (total 10 columns):\n",
      " #   Column        Non-Null Count   Dtype         \n",
      "---  ------        --------------   -----         \n",
      " 0   orderID       104557 non-null  object        \n",
      " 1   userID        104557 non-null  object        \n",
      " 2   goodsID       104557 non-null  object        \n",
      " 3   orderAmount   104557 non-null  float64       \n",
      " 4   payment       104557 non-null  float64       \n",
      " 5   chanelID      104549 non-null  object        \n",
      " 6   platfromType  104557 non-null  object        \n",
      " 7   orderTime     104557 non-null  datetime64[ns]\n",
      " 8   payTime       104557 non-null  datetime64[ns]\n",
      " 9   chargeback    104557 non-null  object        \n",
      "dtypes: datetime64[ns](2), float64(2), object(6)\n",
      "memory usage: 8.8+ MB\n",
      "id\n",
      "1        2019-02-28 13:38:41\n",
      "2        2019-01-01 14:47:14\n",
      "3        2019-01-19 20:06:35\n",
      "4        2019-08-07 12:24:35\n",
      "5        2019-10-01 07:42:43\n",
      "                 ...        \n",
      "104553   2020-01-01 23:31:09\n",
      "104554   2020-01-01 23:31:36\n",
      "104555   2020-01-01 23:47:06\n",
      "104556   2020-01-01 23:47:48\n",
      "104557   2020-01-01 23:49:44\n",
      "Name: payTime, Length: 104557, dtype: datetime64[ns]\n"
     ]
    }
   ],
   "source": [
    "df.info()\n"
   ]
  },
  {
   "cell_type": "markdown",
   "metadata": {
    "pycharm": {
     "name": "#%% md\n"
    }
   },
   "source": [
    "# 二.提取数据"
   ]
  },
  {
   "cell_type": "markdown",
   "metadata": {
    "pycharm": {
     "name": "#%% md\n"
    }
   },
   "source": [
    "# 2.1根据业务需要提取数据,提取2019年数据 "
   ]
  },
  {
   "cell_type": "code",
   "execution_count": 14,
   "metadata": {
    "pycharm": {
     "name": "#%%\n"
    }
   },
   "outputs": [
    {
     "ename": "TypeError",
     "evalue": "strptime() argument 1 must be str, not Timestamp",
     "output_type": "error",
     "traceback": [
      "\u001B[1;31m---------------------------------------------------------------------------\u001B[0m",
      "\u001B[1;31mTypeError\u001B[0m                                 Traceback (most recent call last)",
      "Input \u001B[1;32mIn [14]\u001B[0m, in \u001B[0;36m<cell line: 6>\u001B[1;34m()\u001B[0m\n\u001B[0;32m      5\u001B[0m \u001B[38;5;66;03m#2.将数据源中的时间数据转换成datetime形式 \u001B[39;00m\n\u001B[0;32m      6\u001B[0m \u001B[38;5;28;01mfor\u001B[39;00m i \u001B[38;5;129;01min\u001B[39;00m df\u001B[38;5;241m.\u001B[39mpayTime:\n\u001B[1;32m----> 7\u001B[0m     i\u001B[38;5;241m=\u001B[39m\u001B[43mdatetime\u001B[49m\u001B[38;5;241;43m.\u001B[39;49m\u001B[43mdatetime\u001B[49m\u001B[38;5;241;43m.\u001B[39;49m\u001B[43mstrptime\u001B[49m\u001B[43m(\u001B[49m\u001B[43mi\u001B[49m\u001B[43m,\u001B[49m\u001B[38;5;124;43m'\u001B[39;49m\u001B[38;5;124;43m%\u001B[39;49m\u001B[38;5;124;43mY-\u001B[39;49m\u001B[38;5;124;43m%\u001B[39;49m\u001B[38;5;124;43mm-\u001B[39;49m\u001B[38;5;132;43;01m%d\u001B[39;49;00m\u001B[38;5;124;43m \u001B[39;49m\u001B[38;5;124;43m%\u001B[39;49m\u001B[38;5;124;43mH:\u001B[39;49m\u001B[38;5;124;43m%\u001B[39;49m\u001B[38;5;124;43mM:\u001B[39;49m\u001B[38;5;124;43m%\u001B[39;49m\u001B[38;5;124;43mS\u001B[39;49m\u001B[38;5;124;43m'\u001B[39;49m\u001B[43m)\u001B[49m\n\u001B[0;32m      8\u001B[0m     \u001B[38;5;28mprint\u001B[39m(i)\n",
      "\u001B[1;31mTypeError\u001B[0m: strptime() argument 1 must be str, not Timestamp"
     ]
    }
   ],
   "source": [
    "#1.引入时间模块, 确定周期时间\n",
    "import datetime\n",
    "startTime = datetime.datetime(2019, 1, 1)\n",
    "endTime = datetime.datetime(2019, 12, 31, 23, 59, 59)\n",
    "#2.将数据源中的时间数据转换成datetime形式 \n",
    "\n"
   ]
  },
  {
   "cell_type": "code",
   "execution_count": 16,
   "metadata": {
    "pycharm": {
     "name": "#%%\n"
    }
   },
   "outputs": [
    {
     "ename": "ValueError",
     "evalue": "Need to specify at least one of 'labels', 'index' or 'columns'",
     "output_type": "error",
     "traceback": [
      "\u001B[1;31m---------------------------------------------------------------------------\u001B[0m",
      "\u001B[1;31mValueError\u001B[0m                                Traceback (most recent call last)",
      "Input \u001B[1;32mIn [16]\u001B[0m, in \u001B[0;36m<cell line: 2>\u001B[1;34m()\u001B[0m\n\u001B[0;32m      1\u001B[0m \u001B[38;5;66;03m#3.将2019年1月1日前数据删除\u001B[39;00m\n\u001B[1;32m----> 2\u001B[0m \u001B[43mdf\u001B[49m\u001B[38;5;241;43m.\u001B[39;49m\u001B[43mdrop\u001B[49m\u001B[43m(\u001B[49m\u001B[43m)\u001B[49m\n\u001B[0;32m      3\u001B[0m \u001B[38;5;66;03m#4.将2019年12月31日后数据删除 \u001B[39;00m\n\u001B[0;32m      6\u001B[0m df\u001B[38;5;241m.\u001B[39minfo()\n",
      "File \u001B[1;32mc:\\program files (x86)\\microsoft visual studio\\shared\\python39_64\\lib\\site-packages\\pandas\\util\\_decorators.py:311\u001B[0m, in \u001B[0;36mdeprecate_nonkeyword_arguments.<locals>.decorate.<locals>.wrapper\u001B[1;34m(*args, **kwargs)\u001B[0m\n\u001B[0;32m    305\u001B[0m \u001B[38;5;28;01mif\u001B[39;00m \u001B[38;5;28mlen\u001B[39m(args) \u001B[38;5;241m>\u001B[39m num_allow_args:\n\u001B[0;32m    306\u001B[0m     warnings\u001B[38;5;241m.\u001B[39mwarn(\n\u001B[0;32m    307\u001B[0m         msg\u001B[38;5;241m.\u001B[39mformat(arguments\u001B[38;5;241m=\u001B[39marguments),\n\u001B[0;32m    308\u001B[0m         \u001B[38;5;167;01mFutureWarning\u001B[39;00m,\n\u001B[0;32m    309\u001B[0m         stacklevel\u001B[38;5;241m=\u001B[39mstacklevel,\n\u001B[0;32m    310\u001B[0m     )\n\u001B[1;32m--> 311\u001B[0m \u001B[38;5;28;01mreturn\u001B[39;00m func(\u001B[38;5;241m*\u001B[39margs, \u001B[38;5;241m*\u001B[39m\u001B[38;5;241m*\u001B[39mkwargs)\n",
      "File \u001B[1;32mc:\\program files (x86)\\microsoft visual studio\\shared\\python39_64\\lib\\site-packages\\pandas\\core\\frame.py:4954\u001B[0m, in \u001B[0;36mDataFrame.drop\u001B[1;34m(self, labels, axis, index, columns, level, inplace, errors)\u001B[0m\n\u001B[0;32m   4806\u001B[0m \u001B[38;5;129m@deprecate_nonkeyword_arguments\u001B[39m(version\u001B[38;5;241m=\u001B[39m\u001B[38;5;28;01mNone\u001B[39;00m, allowed_args\u001B[38;5;241m=\u001B[39m[\u001B[38;5;124m\"\u001B[39m\u001B[38;5;124mself\u001B[39m\u001B[38;5;124m\"\u001B[39m, \u001B[38;5;124m\"\u001B[39m\u001B[38;5;124mlabels\u001B[39m\u001B[38;5;124m\"\u001B[39m])\n\u001B[0;32m   4807\u001B[0m \u001B[38;5;28;01mdef\u001B[39;00m \u001B[38;5;21mdrop\u001B[39m(\n\u001B[0;32m   4808\u001B[0m     \u001B[38;5;28mself\u001B[39m,\n\u001B[1;32m   (...)\u001B[0m\n\u001B[0;32m   4815\u001B[0m     errors: \u001B[38;5;28mstr\u001B[39m \u001B[38;5;241m=\u001B[39m \u001B[38;5;124m\"\u001B[39m\u001B[38;5;124mraise\u001B[39m\u001B[38;5;124m\"\u001B[39m,\n\u001B[0;32m   4816\u001B[0m ):\n\u001B[0;32m   4817\u001B[0m     \u001B[38;5;124;03m\"\"\"\u001B[39;00m\n\u001B[0;32m   4818\u001B[0m \u001B[38;5;124;03m    Drop specified labels from rows or columns.\u001B[39;00m\n\u001B[0;32m   4819\u001B[0m \n\u001B[1;32m   (...)\u001B[0m\n\u001B[0;32m   4952\u001B[0m \u001B[38;5;124;03m            weight  1.0     0.8\u001B[39;00m\n\u001B[0;32m   4953\u001B[0m \u001B[38;5;124;03m    \"\"\"\u001B[39;00m\n\u001B[1;32m-> 4954\u001B[0m     \u001B[38;5;28;01mreturn\u001B[39;00m \u001B[38;5;28;43msuper\u001B[39;49m\u001B[43m(\u001B[49m\u001B[43m)\u001B[49m\u001B[38;5;241;43m.\u001B[39;49m\u001B[43mdrop\u001B[49m\u001B[43m(\u001B[49m\n\u001B[0;32m   4955\u001B[0m \u001B[43m        \u001B[49m\u001B[43mlabels\u001B[49m\u001B[38;5;241;43m=\u001B[39;49m\u001B[43mlabels\u001B[49m\u001B[43m,\u001B[49m\n\u001B[0;32m   4956\u001B[0m \u001B[43m        \u001B[49m\u001B[43maxis\u001B[49m\u001B[38;5;241;43m=\u001B[39;49m\u001B[43maxis\u001B[49m\u001B[43m,\u001B[49m\n\u001B[0;32m   4957\u001B[0m \u001B[43m        \u001B[49m\u001B[43mindex\u001B[49m\u001B[38;5;241;43m=\u001B[39;49m\u001B[43mindex\u001B[49m\u001B[43m,\u001B[49m\n\u001B[0;32m   4958\u001B[0m \u001B[43m        \u001B[49m\u001B[43mcolumns\u001B[49m\u001B[38;5;241;43m=\u001B[39;49m\u001B[43mcolumns\u001B[49m\u001B[43m,\u001B[49m\n\u001B[0;32m   4959\u001B[0m \u001B[43m        \u001B[49m\u001B[43mlevel\u001B[49m\u001B[38;5;241;43m=\u001B[39;49m\u001B[43mlevel\u001B[49m\u001B[43m,\u001B[49m\n\u001B[0;32m   4960\u001B[0m \u001B[43m        \u001B[49m\u001B[43minplace\u001B[49m\u001B[38;5;241;43m=\u001B[39;49m\u001B[43minplace\u001B[49m\u001B[43m,\u001B[49m\n\u001B[0;32m   4961\u001B[0m \u001B[43m        \u001B[49m\u001B[43merrors\u001B[49m\u001B[38;5;241;43m=\u001B[39;49m\u001B[43merrors\u001B[49m\u001B[43m,\u001B[49m\n\u001B[0;32m   4962\u001B[0m \u001B[43m    \u001B[49m\u001B[43m)\u001B[49m\n",
      "File \u001B[1;32mc:\\program files (x86)\\microsoft visual studio\\shared\\python39_64\\lib\\site-packages\\pandas\\core\\generic.py:4259\u001B[0m, in \u001B[0;36mNDFrame.drop\u001B[1;34m(self, labels, axis, index, columns, level, inplace, errors)\u001B[0m\n\u001B[0;32m   4257\u001B[0m     axes, _ \u001B[38;5;241m=\u001B[39m \u001B[38;5;28mself\u001B[39m\u001B[38;5;241m.\u001B[39m_construct_axes_from_arguments((index, columns), {})\n\u001B[0;32m   4258\u001B[0m \u001B[38;5;28;01melse\u001B[39;00m:\n\u001B[1;32m-> 4259\u001B[0m     \u001B[38;5;28;01mraise\u001B[39;00m \u001B[38;5;167;01mValueError\u001B[39;00m(\n\u001B[0;32m   4260\u001B[0m         \u001B[38;5;124m\"\u001B[39m\u001B[38;5;124mNeed to specify at least one of \u001B[39m\u001B[38;5;124m'\u001B[39m\u001B[38;5;124mlabels\u001B[39m\u001B[38;5;124m'\u001B[39m\u001B[38;5;124m, \u001B[39m\u001B[38;5;124m'\u001B[39m\u001B[38;5;124mindex\u001B[39m\u001B[38;5;124m'\u001B[39m\u001B[38;5;124m or \u001B[39m\u001B[38;5;124m'\u001B[39m\u001B[38;5;124mcolumns\u001B[39m\u001B[38;5;124m'\u001B[39m\u001B[38;5;124m\"\u001B[39m\n\u001B[0;32m   4261\u001B[0m     )\n\u001B[0;32m   4263\u001B[0m obj \u001B[38;5;241m=\u001B[39m \u001B[38;5;28mself\u001B[39m\n\u001B[0;32m   4265\u001B[0m \u001B[38;5;28;01mfor\u001B[39;00m axis, labels \u001B[38;5;129;01min\u001B[39;00m axes\u001B[38;5;241m.\u001B[39mitems():\n",
      "\u001B[1;31mValueError\u001B[0m: Need to specify at least one of 'labels', 'index' or 'columns'"
     ]
    }
   ],
   "source": [
    "#3.将2019年1月1日前数据删除\n",
    "\n",
    "#4.将2019年12月31日后数据删除 \n",
    "\n",
    "\n",
    "df.info() #104296 "
   ]
  },
  {
   "cell_type": "markdown",
   "metadata": {
    "pycharm": {
     "name": "#%% md\n"
    }
   },
   "source": [
    "# 2.2提取数据时,处理与业务流程不符合数据,支付时间间隔过长 "
   ]
  },
  {
   "cell_type": "code",
   "execution_count": null,
   "metadata": {
    "pycharm": {
     "name": "#%%\n"
    },
    "scrolled": true
   },
   "outputs": [],
   "source": [
    "#1.下单时间与支付时间间隔 \n",
    "\n",
    "#2.支付时间间隔大于30分钟与支付时间早于下单时间 \n"
   ]
  },
  {
   "cell_type": "code",
   "execution_count": null,
   "metadata": {
    "pycharm": {
     "name": "#%%\n"
    }
   },
   "outputs": [],
   "source": [
    "\n",
    "df #103354"
   ]
  },
  {
   "cell_type": "markdown",
   "metadata": {
    "pycharm": {
     "name": "#%% md\n"
    }
   },
   "source": [
    "# 2.3提取数据时,处理与业务流程不符合数据,订单金额与支付金额为负"
   ]
  },
  {
   "cell_type": "code",
   "execution_count": null,
   "metadata": {
    "pycharm": {
     "name": "#%%\n"
    }
   },
   "outputs": [],
   "source": []
  },
  {
   "cell_type": "code",
   "execution_count": null,
   "metadata": {
    "pycharm": {
     "name": "#%%\n"
    }
   },
   "outputs": [],
   "source": []
  },
  {
   "cell_type": "markdown",
   "metadata": {
    "pycharm": {
     "name": "#%% md\n"
    }
   },
   "source": [
    "# 三.清洗数据"
   ]
  },
  {
   "cell_type": "markdown",
   "metadata": {
    "pycharm": {
     "name": "#%% md\n"
    }
   },
   "source": [
    "# 3.1 查看数据"
   ]
  },
  {
   "cell_type": "code",
   "execution_count": null,
   "metadata": {
    "pycharm": {
     "name": "#%%\n"
    },
    "scrolled": true
   },
   "outputs": [],
   "source": [
    "df.info()\n",
    "df.describe()"
   ]
  },
  {
   "cell_type": "markdown",
   "metadata": {
    "pycharm": {
     "name": "#%% md\n"
    }
   },
   "source": [
    "# 3.2 清洗orderID"
   ]
  },
  {
   "cell_type": "code",
   "execution_count": null,
   "metadata": {
    "pycharm": {
     "name": "#%%\n"
    }
   },
   "outputs": [],
   "source": []
  },
  {
   "cell_type": "code",
   "execution_count": null,
   "metadata": {
    "pycharm": {
     "name": "#%%\n"
    }
   },
   "outputs": [],
   "source": [
    "\n"
   ]
  },
  {
   "cell_type": "markdown",
   "metadata": {
    "pycharm": {
     "name": "#%% md\n"
    }
   },
   "source": [
    "# 3.2 清洗userID "
   ]
  },
  {
   "cell_type": "code",
   "execution_count": null,
   "metadata": {
    "pycharm": {
     "name": "#%%\n"
    }
   },
   "outputs": [],
   "source": [
    "df.userID.unique().size #78525\n",
    "# df.info() #103321"
   ]
  },
  {
   "cell_type": "markdown",
   "metadata": {
    "pycharm": {
     "name": "#%% md\n"
    }
   },
   "source": [
    "# 3.4 清洗goodsID "
   ]
  },
  {
   "cell_type": "code",
   "execution_count": null,
   "metadata": {
    "pycharm": {
     "name": "#%%\n"
    },
    "scrolled": true
   },
   "outputs": [],
   "source": [
    "\n",
    "df.info() #103146"
   ]
  },
  {
   "cell_type": "markdown",
   "metadata": {
    "pycharm": {
     "name": "#%% md\n"
    }
   },
   "source": [
    "# 3.5 清洗chanelID"
   ]
  },
  {
   "cell_type": "code",
   "execution_count": null,
   "metadata": {
    "pycharm": {
     "name": "#%%\n"
    }
   },
   "outputs": [],
   "source": [
    "#1.查看chanelID空值\n",
    "df[df.chanelID.isnull()]\n",
    "#2.对空值进行修补  \n",
    "df['chanelID'].fillna(value=df.chanelID.mode()[0], inplace=True)\n",
    "df.info() #103146"
   ]
  },
  {
   "cell_type": "markdown",
   "metadata": {
    "pycharm": {
     "name": "#%% md\n"
    }
   },
   "source": [
    "# 3.6 清洗platformtype "
   ]
  },
  {
   "cell_type": "code",
   "execution_count": null,
   "metadata": {
    "pycharm": {
     "name": "#%%\n"
    }
   },
   "outputs": [],
   "source": [
    "df.platfromType.unique().size"
   ]
  },
  {
   "cell_type": "code",
   "execution_count": null,
   "metadata": {
    "pycharm": {
     "name": "#%%\n"
    }
   },
   "outputs": [],
   "source": []
  },
  {
   "cell_type": "markdown",
   "metadata": {
    "pycharm": {
     "name": "#%% md\n"
    }
   },
   "source": [
    "# 3.7 清洗payment "
   ]
  },
  {
   "cell_type": "code",
   "execution_count": null,
   "metadata": {
    "pycharm": {
     "name": "#%%\n"
    },
    "scrolled": true
   },
   "outputs": [],
   "source": [
    "#1.创建折扣字段 \n",
    " \n",
    "#2.平均折扣\n",
    "\n",
    "#3.找到折扣大于1的数据\n",
    "\n",
    "#4.对折扣大于1的数据进行填补 \n",
    "\n",
    "#5.处理折扣 \n",
    "\n",
    "# df.info() #103146"
   ]
  },
  {
   "cell_type": "markdown",
   "metadata": {
    "pycharm": {
     "name": "#%% md\n"
    }
   },
   "source": [
    "# 3.8清洗结束 查看数据"
   ]
  },
  {
   "cell_type": "code",
   "execution_count": null,
   "metadata": {
    "pycharm": {
     "name": "#%%\n"
    }
   },
   "outputs": [],
   "source": [
    "df.describe()"
   ]
  },
  {
   "cell_type": "markdown",
   "metadata": {
    "pycharm": {
     "name": "#%% md\n"
    }
   },
   "source": [
    "# 至此以后,开始分析"
   ]
  },
  {
   "cell_type": "markdown",
   "metadata": {
    "pycharm": {
     "name": "#%% md\n"
    }
   },
   "source": [
    "# 四.分析数据"
   ]
  },
  {
   "cell_type": "markdown",
   "metadata": {
    "pycharm": {
     "name": "#%% md\n"
    }
   },
   "source": [
    "# 4.1.分析数据,整体销售情况"
   ]
  },
  {
   "cell_type": "code",
   "execution_count": null,
   "metadata": {
    "pycharm": {
     "name": "#%%\n"
    }
   },
   "outputs": [],
   "source": [
    "#总体概览 \n",
    "# 双十一 销售额  1 ,\n",
    "# 瑞幸 \n",
    "# 1.销售GMV\n",
    "   pass                  # 成交金额10835.088383万\n",
    "# # # 2.成交总和\n",
    "df.payment.sum()/10000 #销售额10246.203461009496万\n",
    "# # # 3.实际成交额 \n",
    "   pass   #实际销售额8879.671990372466万\n",
    "# # # 4.订单数量\n",
    "   pass #成单数 103146数\n",
    "# # # 5.退货订单数\n",
    " pass  #实际成单89554 \n",
    "# # # 6.退货率 \n",
    " pass  \n",
    "# # 7.用户数\n",
    "df.userID.unique().size #78525"
   ]
  },
  {
   "cell_type": "markdown",
   "metadata": {
    "pycharm": {
     "name": "#%% md\n"
    }
   },
   "source": [
    "# 4.2销售情况,各月份GMV\\成交额趋势"
   ]
  },
  {
   "cell_type": "code",
   "execution_count": null,
   "metadata": {
    "pycharm": {
     "name": "#%%\n"
    }
   },
   "outputs": [],
   "source": []
  },
  {
   "cell_type": "code",
   "execution_count": null,
   "metadata": {
    "pycharm": {
     "name": "#%%\n"
    }
   },
   "outputs": [],
   "source": [
    "#翻转维度，以月份为坐标轴 \n",
    "#1.月份\n",
    "# df.字段名  获取字段数据   df ['字段名'] 写入数据\n",
    "df['month'] = df['orderTime'].dt.month\n",
    "df\n",
    "#2.绘制图\n",
    "#可视化 必备功课, 分析 \n",
    "import matplotlib.pyplot as plt\n",
    "from matplotlib import font_manager\n",
    "%matplotlib inline\n",
    "# mac fc-list : lang =zh\n",
    "my_font = font_manager.FontProperties(fname='C:\\Windows\\Fonts\\msyh.ttc',size=12)\n",
    "#图像大小 \n",
    "plt.figure(figsize=(15,9))\n",
    "\n",
    "plt.grid(alpha=0.4)\n",
    "\n",
    "#GMV \n",
    "x = df.groupby('month')['orderAmount'].sum().index \n",
    "x \n",
    "y1 = df.groupby('month')['orderAmount'].sum().values/10000\n",
    "# #销售实际付款 \n",
    "y2 = df.groupby('month')['payment'].sum().values/10000\n",
    "# #不含退单销售额 \n",
    "y3 = df[df.chargeback==\"否\"].groupby('month')['payment'].sum().values/10000\n",
    "x_ticks_label = [\"{}月份\".format(i) for i in x]\n",
    "plt.xticks(x,x_ticks_label,rotation = 45,fontproperties = my_font)\n",
    "\n",
    "# plot \n",
    "plt.plot(x,y1,label='GMV',color=\"red\",marker='o')\n",
    "plt.plot(x,y2,label='销售额',color=\"orange\",marker='*')\n",
    "plt.plot(x,y3,label='不含退单',color=\"blue\",marker = '.')\n",
    "\n",
    "plt.xlabel('月份',fontproperties=my_font)\n",
    "plt.ylabel(\"销售额万元\",fontproperties=my_font)\n",
    "plt.title('销售额走势',fontproperties=my_font,color='red',size=20)\n",
    "#折点 添加坐标 \n",
    "for a,b in zip(x,y1):\n",
    "    plt.annotate('(%.2f)'%(b),xy=(a,b),xytext=(-10,10),textcoords='offset points')\n",
    "#图例\n",
    "plt.legend(prop=my_font,loc='upper left')\n",
    "plt.show()"
   ]
  },
  {
   "cell_type": "markdown",
   "metadata": {
    "pycharm": {
     "name": "#%% md\n"
    }
   },
   "source": [
    "# 4.3 流量渠道来源分析"
   ]
  },
  {
   "cell_type": "code",
   "execution_count": null,
   "metadata": {
    "pycharm": {
     "name": "#%%\n"
    },
    "scrolled": true
   },
   "outputs": [],
   "source": [
    "# color red #223344 rgb(0,0,0)\n",
    "   pass \n",
    "plt.rcParams['font.sans-serif']=['SimHei']\n",
    "custom.plot.pie(figsize=(20,9),labels=custom.index,autopct=\"%1.1f%%\")\n",
    "plt.title('各渠道来源用户占比') "
   ]
  },
  {
   "cell_type": "markdown",
   "metadata": {
    "pycharm": {
     "name": "#%% md\n"
    }
   },
   "source": [
    "# 4.4 用户行为, 研究周一到周日哪天订单量最高"
   ]
  },
  {
   "cell_type": "code",
   "execution_count": null,
   "metadata": {
    "pycharm": {
     "name": "#%%\n"
    }
   },
   "outputs": [],
   "source": [
    "df"
   ]
  },
  {
   "cell_type": "code",
   "execution_count": null,
   "metadata": {
    "pycharm": {
     "name": "#%%\n"
    }
   },
   "outputs": [],
   "source": [
    "#1.处理周几字段\n",
    "#0对应周一\n",
    "pass \n",
    "df['dayofweek'].unique()\n",
    "df"
   ]
  },
  {
   "cell_type": "code",
   "execution_count": null,
   "metadata": {
    "pycharm": {
     "name": "#%%\n"
    },
    "scrolled": true
   },
   "outputs": [],
   "source": [
    "\n",
    "#2.引入numpy   \n",
    "import numpy as np\n",
    "#3.按周计算每天的订单数\n",
    "pass\n",
    "week\n",
    "# #0是周一 \n",
    "weekX = ['周一','周二','周三','周四','周五','周六','周日']\n",
    "\n",
    "weekY = week.values\n",
    "plt.xticks(range(len(weekX)),weekX,fontproperties=my_font) \n",
    "#柱状图\\条形图 \n",
    "rects = plt.bar(range(len(weekX)),weekY,width=0.3,color=['r','g','b','r','g','b']) \n",
    "\n",
    "for rect in rects:\n",
    "    height = rect.get_height()\n",
    "    plt.text(rect.get_x() + rect.get_width() / 2, height+0.5, str(height),ha=\"center\")\n",
    "plt.show()"
   ]
  },
  {
   "cell_type": "markdown",
   "metadata": {
    "pycharm": {
     "name": "#%% md\n"
    }
   },
   "source": [
    "# 4.5 用户行为, 哪个时间段下单量最高"
   ]
  },
  {
   "cell_type": "code",
   "execution_count": null,
   "metadata": {
    "pycharm": {
     "name": "#%%\n"
    }
   },
   "outputs": [],
   "source": [
    "df1 = df.copy()\n",
    "df1['orderTime'] = df1['orderTime'].dt.time\n",
    "df1 "
   ]
  },
  {
   "cell_type": "code",
   "execution_count": null,
   "metadata": {
    "pycharm": {
     "name": "#%%\n"
    }
   },
   "outputs": [],
   "source": []
  },
  {
   "cell_type": "code",
   "execution_count": null,
   "metadata": {
    "pycharm": {
     "name": "#%%\n"
    }
   },
   "outputs": [],
   "source": [
    "\n",
    "tiemdf = df1.groupby('orderTime')['orderID'].count()\n",
    "\n",
    "plt.figure(figsize=(20,8),dpi=80)\n",
    "s = df1['orderTime'].dt.floor('30T')\n",
    "df1['orderTime'] = s.dt.strftime('%H:%M') + '-' + (s + pd.Timedelta(29 * 60, unit='s')).dt.strftime('%H:%M')\n",
    "tiemdf = df1.groupby('orderTime')['orderID'].count()\n",
    "tiemdf\n",
    "tiemdfX = tiemdf.index\n",
    "tiemdfY = tiemdf.values\n",
    "tiemdfY\n",
    "plt.style.use('ggplot')\n",
    "plt.xticks(range(len(tiemdfX)),tiemdfX,rotation=90)\n",
    "rect = plt.bar(tiemdfX,tiemdfY,width=0.3,color=['orange']) \n"
   ]
  },
  {
   "cell_type": "markdown",
   "metadata": {
    "pycharm": {
     "name": "#%% md\n"
    }
   },
   "source": [
    "# 4.6用户行为,客户情况 "
   ]
  },
  {
   "cell_type": "code",
   "execution_count": null,
   "metadata": {
    "pycharm": {
     "name": "#%%\n"
    }
   },
   "outputs": [],
   "source": [
    "#1.客单价 \n",
    "df.orderAmount.sum()/df.userID.unique().size "
   ]
  },
  {
   "cell_type": "code",
   "execution_count": null,
   "metadata": {
    "pycharm": {
     "name": "#%%\n"
    }
   },
   "outputs": [],
   "source": [
    "#2.处理一下userID字段,后期要作为索引\n",
    "df['userid'] = df[\"userID\"].str[0:4] \n",
    "df['userid'].unique()\n",
    "#3.userID只保留数字\n",
    "df['userID'] = df[\"userID\"].str[5:] \n",
    "df"
   ]
  },
  {
   "cell_type": "markdown",
   "metadata": {
    "pycharm": {
     "name": "#%% md\n"
    }
   },
   "source": [
    "# 4.7用户行为,客户复购率 "
   ]
  },
  {
   "cell_type": "code",
   "execution_count": null,
   "metadata": {
    "pycharm": {
     "name": "#%%\n"
    }
   },
   "outputs": [],
   "source": [
    "# 分析复购率和回购率\n",
    "# 首先将用户消费数据进行数据透视。\n",
    "# 希望统计每个用户在每月的订单量，所以userID是index，month是column。\n",
    "pass\n",
    "\n",
    "pivoted_counts.head()"
   ]
  },
  {
   "cell_type": "code",
   "execution_count": null,
   "metadata": {
    "pycharm": {
     "name": "#%%\n"
    },
    "scrolled": true
   },
   "outputs": [],
   "source": [
    "#复购率\n",
    "\n",
    "# 复购率的定义是在某时间窗口内消费两次及以上的用户在总消费用户中占比。这里的时间窗口是月，如果一个用户在同一天下了两笔订单，这里也将他算作复购用户。\n",
    "\n",
    "# 将数据转换一下，消费两次及以上记为1，消费一次记为0，没有消费记为NaN。\n",
    "# if x>1 :\n",
    "#     x = 1 \n",
    "# else :\n",
    "#    if x==0:\n",
    "#     np.NaN \n",
    "#    else :\n",
    "#      0\n",
    "import numpy as np\n",
    "\n",
    "pass\n",
    "\n",
    "pcRepeatBuy.head()\n",
    "(pcRepeatBuy.sum()/pcRepeatBuy.count()).plot(figsize=(20,9))\n",
    "#用sum和count相除即可计算出复购率。count是总的消费用户数，sum是两次以上的消费用户数。\n",
    "# 3%  100  3\n"
   ]
  },
  {
   "cell_type": "markdown",
   "metadata": {
    "pycharm": {
     "name": "#%% md\n"
    }
   },
   "source": [
    "# 4.8用户行为,客户RFM模型"
   ]
  },
  {
   "cell_type": "code",
   "execution_count": null,
   "metadata": {
    "pycharm": {
     "name": "#%%\n"
    }
   },
   "outputs": [],
   "source": [
    "#复制df数据\n",
    "customdf = df.copy() \n",
    "customdf.drop(index=df[df.chargeback == '是'].index, inplace=True)\n",
    "customdf\n",
    "customdf['orderTime'] = pd.to_datetime(customdf['orderTime'], format='%Y-%m-%d') # 将字符串转换为日期格式\n",
    "customdf\n",
    "# customdf.set_index('userID',drop=False,inplace=True) \n",
    "# customdf\n",
    "customdf.set_index('userID',drop=True,inplace=True) \n",
    "customdf['orders'] = 1 #计算原始订单频率\n",
    "customdf\n",
    "rfmdf = customdf.pivot_table(index=['userID'],\n",
    "                    values=['orderAmount','orderTime','orders'],\n",
    "                    aggfunc={'orderTime':'max',\n",
    "                            'orderAmount':'sum',\n",
    "                            'orders':'sum'})\n",
    "# rfmdf\n",
    "rfmdf['R'] = (rfmdf.orderTime.max()-rfmdf.orderTime).dt.days\n",
    "\n",
    "# #重命名列名\n",
    "rfmdf.rename(columns={'orderAmount':'M','orders':'F'},inplace=True)\n",
    "rfmdf.head()"
   ]
  },
  {
   "cell_type": "code",
   "execution_count": null,
   "metadata": {
    "pycharm": {
     "name": "#%%\n"
    }
   },
   "outputs": [],
   "source": [
    "rfmdf[['R','F','M']].apply(lambda x:x-x.mean())\n",
    "# 对用户分类，设置标签\n",
    "def rfm_func(x):\n",
    "    level = x.apply(lambda x: \"1\" if x >= 1 else '0')\n",
    "    label = level.R + level.F + level.M\n",
    "    d = {\n",
    "        '111':'重要价值客户',\n",
    "        '011':'重要保持客户',\n",
    "        '101':'重要发展客户',\n",
    "        '001':'重要挽留客户',\n",
    "        '110':'一般价值客户',\n",
    "        '010':'一般保持客户',\n",
    "        '100':'一般发展客户',\n",
    "        '000':'一般挽留客户'\n",
    "    }\n",
    "    result = d[label]\n",
    "    return result\n",
    "\n",
    "rfmdf['label'] =  pass \n",
    "rfmdf.groupby('label').count()"
   ]
  },
  {
   "cell_type": "code",
   "execution_count": null,
   "metadata": {
    "pycharm": {
     "name": "#%%\n"
    }
   },
   "outputs": [],
   "source": [
    "rfmdf.label.value_counts().plot.bar(figsize=(20,9))\n",
    "plt.xticks(rotation=0,fontproperties=my_font)"
   ]
  },
  {
   "cell_type": "code",
   "execution_count": null,
   "metadata": {
    "pycharm": {
     "name": "#%%\n"
    }
   },
   "outputs": [],
   "source": []
  }
 ],
 "metadata": {
  "kernelspec": {
   "display_name": "Python 3 (ipykernel)",
   "language": "python",
   "name": "python3"
  },
  "language_info": {
   "codemirror_mode": {
    "name": "ipython",
    "version": 3
   },
   "file_extension": ".py",
   "mimetype": "text/x-python",
   "name": "python",
   "nbconvert_exporter": "python",
   "pygments_lexer": "ipython3",
   "version": "3.9.5"
  }
 },
 "nbformat": 4,
 "nbformat_minor": 2
}